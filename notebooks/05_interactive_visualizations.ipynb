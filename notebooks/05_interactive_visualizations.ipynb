{
 "cells": [
  {
   "cell_type": "code",
   "execution_count": 61,
   "id": "9099b119",
   "metadata": {},
   "outputs": [
    {
     "data": {
      "text/html": [
       "        <script type=\"text/javascript\">\n",
       "        window.PlotlyConfig = {MathJaxConfig: 'local'};\n",
       "        if (window.MathJax && window.MathJax.Hub && window.MathJax.Hub.Config) {window.MathJax.Hub.Config({SVG: {font: \"STIX-Web\"}});}\n",
       "        </script>\n",
       "        <script type=\"module\">import \"https://cdn.plot.ly/plotly-3.0.1.min\"</script>\n",
       "        "
      ]
     },
     "metadata": {},
     "output_type": "display_data"
    },
    {
     "name": "stdout",
     "output_type": "stream",
     "text": [
      "🎨 REGIONAL MUSIC DNA - INTERACTIVE VISUALIZATIONS\n",
      "============================================================\n",
      "📊 Loaded: 1,562 tracks from 8 cities\n"
     ]
    }
   ],
   "source": [
    "import sys\n",
    "import os\n",
    "sys.path.append('../src')\n",
    "import importlib\n",
    "import visualization\n",
    "visualization.os = os \n",
    "\n",
    "importlib.reload(visualization)\n",
    "\n",
    "from visualization import *\n",
    "import plotly.offline as pyo\n",
    "\n",
    "# Enable Plotly in Jupyter\n",
    "pyo.init_notebook_mode(connected=True)\n",
    "\n",
    "print(\"🎨 REGIONAL MUSIC DNA - INTERACTIVE VISUALIZATIONS\")\n",
    "print(\"=\" * 60)\n",
    "\n",
    "# Load data\n",
    "df = load_analysis_data()"
   ]
  },
  {
   "cell_type": "code",
   "execution_count": 42,
   "id": "f039a366",
   "metadata": {},
   "outputs": [
    {
     "name": "stdout",
     "output_type": "stream",
     "text": [
      "Creating Musical DNA Fingerprints\n",
      "\n",
      "CREATING MUSICAL DNA FINGERPRINTS\n",
      "==================================================\n"
     ]
    },
    {
     "data": {
      "application/vnd.plotly.v1+json": {
       "config": {
        "plotlyServerURL": "https://plot.ly"
       },
       "data": [
        {
         "fill": "toself",
         "fillcolor": "#FF6B6B",
         "line": {
          "color": "#FF6B6B",
          "width": 4
         },
         "name": "Nashville",
         "opacity": 0.4,
         "r": [
          55.23243243243243,
          14.678899082568808,
          75.31531531531532,
          74.6054054054054,
          55.23243243243243
         ],
         "subplot": "polar",
         "theta": [
          "Popularity",
          "Diversity",
          "Modernity",
          "Appeal",
          "Popularity"
         ],
         "type": "scatterpolar"
        },
        {
         "fill": "toself",
         "fillcolor": "#4ECDC4",
         "line": {
          "color": "#4ECDC4",
          "width": 4
         },
         "name": "Los Angeles",
         "opacity": 0.4,
         "r": [
          37.28787878787879,
          100,
          12.510040160642575,
          63.974747474747474,
          37.28787878787879
         ],
         "subplot": "polar2",
         "theta": [
          "Popularity",
          "Diversity",
          "Modernity",
          "Appeal",
          "Popularity"
         ],
         "type": "scatterpolar"
        },
        {
         "fill": "toself",
         "fillcolor": "#45B7D1",
         "line": {
          "color": "#45B7D1",
          "width": 4
         },
         "name": "Chicago",
         "opacity": 0.4,
         "r": [
          26.8,
          44.03669724770643,
          62.777777777777786,
          56.5,
          26.8
         ],
         "subplot": "polar3",
         "theta": [
          "Popularity",
          "Diversity",
          "Modernity",
          "Appeal",
          "Popularity"
         ],
         "type": "scatterpolar"
        },
        {
         "fill": "toself",
         "fillcolor": "#96CEB4",
         "line": {
          "color": "#96CEB4",
          "width": 4
         },
         "name": "Miami",
         "opacity": 0.4,
         "r": [
          67.1859296482412,
          44.03669724770643,
          72.88888888888889,
          72.7035175879397,
          67.1859296482412
         ],
         "subplot": "polar4",
         "theta": [
          "Popularity",
          "Diversity",
          "Modernity",
          "Appeal",
          "Popularity"
         ],
         "type": "scatterpolar"
        },
        {
         "fill": "toself",
         "fillcolor": "#FFEAA7",
         "line": {
          "color": "#FFEAA7",
          "width": 4
         },
         "name": "New York",
         "opacity": 0.4,
         "r": [
          72.48421052631579,
          23.853211009174313,
          61.629629629629626,
          78.06842105263158,
          72.48421052631579
         ],
         "subplot": "polar5",
         "theta": [
          "Popularity",
          "Diversity",
          "Modernity",
          "Appeal",
          "Popularity"
         ],
         "type": "scatterpolar"
        },
        {
         "fill": "toself",
         "fillcolor": "#DDA0DD",
         "line": {
          "color": "#DDA0DD",
          "width": 4
         },
         "name": "Seattle",
         "opacity": 0.4,
         "r": [
          36.72361809045226,
          33.02752293577982,
          1.9393939393939377,
          67.4070351758794,
          36.72361809045226
         ],
         "subplot": "polar6",
         "theta": [
          "Popularity",
          "Diversity",
          "Modernity",
          "Appeal",
          "Popularity"
         ],
         "type": "scatterpolar"
        },
        {
         "fill": "toself",
         "fillcolor": "#98D8C8",
         "line": {
          "color": "#98D8C8",
          "width": 4
         },
         "name": "Austin",
         "opacity": 0.4,
         "r": [
          69.48484848484848,
          20.18348623853211,
          80.78125,
          74.4090909090909,
          69.48484848484848
         ],
         "subplot": "polar7",
         "theta": [
          "Popularity",
          "Diversity",
          "Modernity",
          "Appeal",
          "Popularity"
         ],
         "type": "scatterpolar"
        },
        {
         "fill": "toself",
         "fillcolor": "#F7DC6F",
         "line": {
          "color": "#F7DC6F",
          "width": 4
         },
         "name": "Atlanta",
         "opacity": 0.4,
         "r": [
          47.46632124352332,
          17.431192660550458,
          51.22605363984674,
          65.50777202072538,
          47.46632124352332
         ],
         "subplot": "polar8",
         "theta": [
          "Popularity",
          "Diversity",
          "Modernity",
          "Appeal",
          "Popularity"
         ],
         "type": "scatterpolar"
        }
       ],
       "layout": {
        "annotations": [
         {
          "font": {
           "size": 16
          },
          "showarrow": false,
          "text": "Nashville",
          "x": 0.06875,
          "xanchor": "center",
          "xref": "paper",
          "y": 1,
          "yanchor": "bottom",
          "yref": "paper"
         },
         {
          "font": {
           "size": 16
          },
          "showarrow": false,
          "text": "Los Angeles",
          "x": 0.35624999999999996,
          "xanchor": "center",
          "xref": "paper",
          "y": 1,
          "yanchor": "bottom",
          "yref": "paper"
         },
         {
          "font": {
           "size": 16
          },
          "showarrow": false,
          "text": "Chicago",
          "x": 0.6437499999999999,
          "xanchor": "center",
          "xref": "paper",
          "y": 1,
          "yanchor": "bottom",
          "yref": "paper"
         },
         {
          "font": {
           "size": 16
          },
          "showarrow": false,
          "text": "Miami",
          "x": 0.93125,
          "xanchor": "center",
          "xref": "paper",
          "y": 1,
          "yanchor": "bottom",
          "yref": "paper"
         },
         {
          "font": {
           "size": 16
          },
          "showarrow": false,
          "text": "New York",
          "x": 0.06875,
          "xanchor": "center",
          "xref": "paper",
          "y": 0.375,
          "yanchor": "bottom",
          "yref": "paper"
         },
         {
          "font": {
           "size": 16
          },
          "showarrow": false,
          "text": "Seattle",
          "x": 0.35624999999999996,
          "xanchor": "center",
          "xref": "paper",
          "y": 0.375,
          "yanchor": "bottom",
          "yref": "paper"
         },
         {
          "font": {
           "size": 16
          },
          "showarrow": false,
          "text": "Austin",
          "x": 0.6437499999999999,
          "xanchor": "center",
          "xref": "paper",
          "y": 0.375,
          "yanchor": "bottom",
          "yref": "paper"
         },
         {
          "font": {
           "size": 16
          },
          "showarrow": false,
          "text": "Atlanta",
          "x": 0.93125,
          "xanchor": "center",
          "xref": "paper",
          "y": 0.375,
          "yanchor": "bottom",
          "yref": "paper"
         }
        ],
        "font": {
         "size": 12
        },
        "height": 800,
        "margin": {
         "b": 50,
         "l": 50,
         "r": 50,
         "t": 100
        },
        "polar": {
         "angularaxis": {
          "rotation": 45,
          "tickfont": {
           "size": 12
          }
         },
         "domain": {
          "x": [
           0,
           0.1375
          ],
          "y": [
           0.625,
           1
          ]
         },
         "radialaxis": {
          "dtick": 50,
          "gridcolor": "lightgray",
          "gridwidth": 1,
          "range": [
           0,
           100
          ],
          "tick0": 0,
          "tickmode": "linear",
          "visible": true
         }
        },
        "polar2": {
         "angularaxis": {
          "rotation": 45,
          "tickfont": {
           "size": 12
          }
         },
         "domain": {
          "x": [
           0.2875,
           0.425
          ],
          "y": [
           0.625,
           1
          ]
         },
         "radialaxis": {
          "dtick": 50,
          "gridcolor": "lightgray",
          "gridwidth": 1,
          "range": [
           0,
           100
          ],
          "tick0": 0,
          "tickmode": "linear",
          "visible": true
         }
        },
        "polar3": {
         "angularaxis": {
          "rotation": 45,
          "tickfont": {
           "size": 12
          }
         },
         "domain": {
          "x": [
           0.575,
           0.7124999999999999
          ],
          "y": [
           0.625,
           1
          ]
         },
         "radialaxis": {
          "dtick": 50,
          "gridcolor": "lightgray",
          "gridwidth": 1,
          "range": [
           0,
           100
          ],
          "tick0": 0,
          "tickmode": "linear",
          "visible": true
         }
        },
        "polar4": {
         "angularaxis": {
          "rotation": 45,
          "tickfont": {
           "size": 12
          }
         },
         "domain": {
          "x": [
           0.8625,
           1
          ],
          "y": [
           0.625,
           1
          ]
         },
         "radialaxis": {
          "dtick": 50,
          "gridcolor": "lightgray",
          "gridwidth": 1,
          "range": [
           0,
           100
          ],
          "tick0": 0,
          "tickmode": "linear",
          "visible": true
         }
        },
        "polar5": {
         "angularaxis": {
          "rotation": 45,
          "tickfont": {
           "size": 12
          }
         },
         "domain": {
          "x": [
           0,
           0.1375
          ],
          "y": [
           0,
           0.375
          ]
         },
         "radialaxis": {
          "dtick": 50,
          "gridcolor": "lightgray",
          "gridwidth": 1,
          "range": [
           0,
           100
          ],
          "tick0": 0,
          "tickmode": "linear",
          "visible": true
         }
        },
        "polar6": {
         "angularaxis": {
          "rotation": 45,
          "tickfont": {
           "size": 12
          }
         },
         "domain": {
          "x": [
           0.2875,
           0.425
          ],
          "y": [
           0,
           0.375
          ]
         },
         "radialaxis": {
          "dtick": 50,
          "gridcolor": "lightgray",
          "gridwidth": 1,
          "range": [
           0,
           100
          ],
          "tick0": 0,
          "tickmode": "linear",
          "visible": true
         }
        },
        "polar7": {
         "angularaxis": {
          "rotation": 45,
          "tickfont": {
           "size": 12
          }
         },
         "domain": {
          "x": [
           0.575,
           0.7124999999999999
          ],
          "y": [
           0,
           0.375
          ]
         },
         "radialaxis": {
          "dtick": 50,
          "gridcolor": "lightgray",
          "gridwidth": 1,
          "range": [
           0,
           100
          ],
          "tick0": 0,
          "tickmode": "linear",
          "visible": true
         }
        },
        "polar8": {
         "angularaxis": {
          "rotation": 45,
          "tickfont": {
           "size": 12
          }
         },
         "domain": {
          "x": [
           0.8625,
           1
          ],
          "y": [
           0,
           0.375
          ]
         },
         "radialaxis": {
          "dtick": 50,
          "gridcolor": "lightgray",
          "gridwidth": 1,
          "range": [
           0,
           100
          ],
          "tick0": 0,
          "tickmode": "linear",
          "visible": true
         }
        },
        "showlegend": false,
        "template": {
         "data": {
          "bar": [
           {
            "error_x": {
             "color": "#2a3f5f"
            },
            "error_y": {
             "color": "#2a3f5f"
            },
            "marker": {
             "line": {
              "color": "#E5ECF6",
              "width": 0.5
             },
             "pattern": {
              "fillmode": "overlay",
              "size": 10,
              "solidity": 0.2
             }
            },
            "type": "bar"
           }
          ],
          "barpolar": [
           {
            "marker": {
             "line": {
              "color": "#E5ECF6",
              "width": 0.5
             },
             "pattern": {
              "fillmode": "overlay",
              "size": 10,
              "solidity": 0.2
             }
            },
            "type": "barpolar"
           }
          ],
          "carpet": [
           {
            "aaxis": {
             "endlinecolor": "#2a3f5f",
             "gridcolor": "white",
             "linecolor": "white",
             "minorgridcolor": "white",
             "startlinecolor": "#2a3f5f"
            },
            "baxis": {
             "endlinecolor": "#2a3f5f",
             "gridcolor": "white",
             "linecolor": "white",
             "minorgridcolor": "white",
             "startlinecolor": "#2a3f5f"
            },
            "type": "carpet"
           }
          ],
          "choropleth": [
           {
            "colorbar": {
             "outlinewidth": 0,
             "ticks": ""
            },
            "type": "choropleth"
           }
          ],
          "contour": [
           {
            "colorbar": {
             "outlinewidth": 0,
             "ticks": ""
            },
            "colorscale": [
             [
              0,
              "#0d0887"
             ],
             [
              0.1111111111111111,
              "#46039f"
             ],
             [
              0.2222222222222222,
              "#7201a8"
             ],
             [
              0.3333333333333333,
              "#9c179e"
             ],
             [
              0.4444444444444444,
              "#bd3786"
             ],
             [
              0.5555555555555556,
              "#d8576b"
             ],
             [
              0.6666666666666666,
              "#ed7953"
             ],
             [
              0.7777777777777778,
              "#fb9f3a"
             ],
             [
              0.8888888888888888,
              "#fdca26"
             ],
             [
              1,
              "#f0f921"
             ]
            ],
            "type": "contour"
           }
          ],
          "contourcarpet": [
           {
            "colorbar": {
             "outlinewidth": 0,
             "ticks": ""
            },
            "type": "contourcarpet"
           }
          ],
          "heatmap": [
           {
            "colorbar": {
             "outlinewidth": 0,
             "ticks": ""
            },
            "colorscale": [
             [
              0,
              "#0d0887"
             ],
             [
              0.1111111111111111,
              "#46039f"
             ],
             [
              0.2222222222222222,
              "#7201a8"
             ],
             [
              0.3333333333333333,
              "#9c179e"
             ],
             [
              0.4444444444444444,
              "#bd3786"
             ],
             [
              0.5555555555555556,
              "#d8576b"
             ],
             [
              0.6666666666666666,
              "#ed7953"
             ],
             [
              0.7777777777777778,
              "#fb9f3a"
             ],
             [
              0.8888888888888888,
              "#fdca26"
             ],
             [
              1,
              "#f0f921"
             ]
            ],
            "type": "heatmap"
           }
          ],
          "histogram": [
           {
            "marker": {
             "pattern": {
              "fillmode": "overlay",
              "size": 10,
              "solidity": 0.2
             }
            },
            "type": "histogram"
           }
          ],
          "histogram2d": [
           {
            "colorbar": {
             "outlinewidth": 0,
             "ticks": ""
            },
            "colorscale": [
             [
              0,
              "#0d0887"
             ],
             [
              0.1111111111111111,
              "#46039f"
             ],
             [
              0.2222222222222222,
              "#7201a8"
             ],
             [
              0.3333333333333333,
              "#9c179e"
             ],
             [
              0.4444444444444444,
              "#bd3786"
             ],
             [
              0.5555555555555556,
              "#d8576b"
             ],
             [
              0.6666666666666666,
              "#ed7953"
             ],
             [
              0.7777777777777778,
              "#fb9f3a"
             ],
             [
              0.8888888888888888,
              "#fdca26"
             ],
             [
              1,
              "#f0f921"
             ]
            ],
            "type": "histogram2d"
           }
          ],
          "histogram2dcontour": [
           {
            "colorbar": {
             "outlinewidth": 0,
             "ticks": ""
            },
            "colorscale": [
             [
              0,
              "#0d0887"
             ],
             [
              0.1111111111111111,
              "#46039f"
             ],
             [
              0.2222222222222222,
              "#7201a8"
             ],
             [
              0.3333333333333333,
              "#9c179e"
             ],
             [
              0.4444444444444444,
              "#bd3786"
             ],
             [
              0.5555555555555556,
              "#d8576b"
             ],
             [
              0.6666666666666666,
              "#ed7953"
             ],
             [
              0.7777777777777778,
              "#fb9f3a"
             ],
             [
              0.8888888888888888,
              "#fdca26"
             ],
             [
              1,
              "#f0f921"
             ]
            ],
            "type": "histogram2dcontour"
           }
          ],
          "mesh3d": [
           {
            "colorbar": {
             "outlinewidth": 0,
             "ticks": ""
            },
            "type": "mesh3d"
           }
          ],
          "parcoords": [
           {
            "line": {
             "colorbar": {
              "outlinewidth": 0,
              "ticks": ""
             }
            },
            "type": "parcoords"
           }
          ],
          "pie": [
           {
            "automargin": true,
            "type": "pie"
           }
          ],
          "scatter": [
           {
            "fillpattern": {
             "fillmode": "overlay",
             "size": 10,
             "solidity": 0.2
            },
            "type": "scatter"
           }
          ],
          "scatter3d": [
           {
            "line": {
             "colorbar": {
              "outlinewidth": 0,
              "ticks": ""
             }
            },
            "marker": {
             "colorbar": {
              "outlinewidth": 0,
              "ticks": ""
             }
            },
            "type": "scatter3d"
           }
          ],
          "scattercarpet": [
           {
            "marker": {
             "colorbar": {
              "outlinewidth": 0,
              "ticks": ""
             }
            },
            "type": "scattercarpet"
           }
          ],
          "scattergeo": [
           {
            "marker": {
             "colorbar": {
              "outlinewidth": 0,
              "ticks": ""
             }
            },
            "type": "scattergeo"
           }
          ],
          "scattergl": [
           {
            "marker": {
             "colorbar": {
              "outlinewidth": 0,
              "ticks": ""
             }
            },
            "type": "scattergl"
           }
          ],
          "scattermap": [
           {
            "marker": {
             "colorbar": {
              "outlinewidth": 0,
              "ticks": ""
             }
            },
            "type": "scattermap"
           }
          ],
          "scattermapbox": [
           {
            "marker": {
             "colorbar": {
              "outlinewidth": 0,
              "ticks": ""
             }
            },
            "type": "scattermapbox"
           }
          ],
          "scatterpolar": [
           {
            "marker": {
             "colorbar": {
              "outlinewidth": 0,
              "ticks": ""
             }
            },
            "type": "scatterpolar"
           }
          ],
          "scatterpolargl": [
           {
            "marker": {
             "colorbar": {
              "outlinewidth": 0,
              "ticks": ""
             }
            },
            "type": "scatterpolargl"
           }
          ],
          "scatterternary": [
           {
            "marker": {
             "colorbar": {
              "outlinewidth": 0,
              "ticks": ""
             }
            },
            "type": "scatterternary"
           }
          ],
          "surface": [
           {
            "colorbar": {
             "outlinewidth": 0,
             "ticks": ""
            },
            "colorscale": [
             [
              0,
              "#0d0887"
             ],
             [
              0.1111111111111111,
              "#46039f"
             ],
             [
              0.2222222222222222,
              "#7201a8"
             ],
             [
              0.3333333333333333,
              "#9c179e"
             ],
             [
              0.4444444444444444,
              "#bd3786"
             ],
             [
              0.5555555555555556,
              "#d8576b"
             ],
             [
              0.6666666666666666,
              "#ed7953"
             ],
             [
              0.7777777777777778,
              "#fb9f3a"
             ],
             [
              0.8888888888888888,
              "#fdca26"
             ],
             [
              1,
              "#f0f921"
             ]
            ],
            "type": "surface"
           }
          ],
          "table": [
           {
            "cells": {
             "fill": {
              "color": "#EBF0F8"
             },
             "line": {
              "color": "white"
             }
            },
            "header": {
             "fill": {
              "color": "#C8D4E3"
             },
             "line": {
              "color": "white"
             }
            },
            "type": "table"
           }
          ]
         },
         "layout": {
          "annotationdefaults": {
           "arrowcolor": "#2a3f5f",
           "arrowhead": 0,
           "arrowwidth": 1
          },
          "autotypenumbers": "strict",
          "coloraxis": {
           "colorbar": {
            "outlinewidth": 0,
            "ticks": ""
           }
          },
          "colorscale": {
           "diverging": [
            [
             0,
             "#8e0152"
            ],
            [
             0.1,
             "#c51b7d"
            ],
            [
             0.2,
             "#de77ae"
            ],
            [
             0.3,
             "#f1b6da"
            ],
            [
             0.4,
             "#fde0ef"
            ],
            [
             0.5,
             "#f7f7f7"
            ],
            [
             0.6,
             "#e6f5d0"
            ],
            [
             0.7,
             "#b8e186"
            ],
            [
             0.8,
             "#7fbc41"
            ],
            [
             0.9,
             "#4d9221"
            ],
            [
             1,
             "#276419"
            ]
           ],
           "sequential": [
            [
             0,
             "#0d0887"
            ],
            [
             0.1111111111111111,
             "#46039f"
            ],
            [
             0.2222222222222222,
             "#7201a8"
            ],
            [
             0.3333333333333333,
             "#9c179e"
            ],
            [
             0.4444444444444444,
             "#bd3786"
            ],
            [
             0.5555555555555556,
             "#d8576b"
            ],
            [
             0.6666666666666666,
             "#ed7953"
            ],
            [
             0.7777777777777778,
             "#fb9f3a"
            ],
            [
             0.8888888888888888,
             "#fdca26"
            ],
            [
             1,
             "#f0f921"
            ]
           ],
           "sequentialminus": [
            [
             0,
             "#0d0887"
            ],
            [
             0.1111111111111111,
             "#46039f"
            ],
            [
             0.2222222222222222,
             "#7201a8"
            ],
            [
             0.3333333333333333,
             "#9c179e"
            ],
            [
             0.4444444444444444,
             "#bd3786"
            ],
            [
             0.5555555555555556,
             "#d8576b"
            ],
            [
             0.6666666666666666,
             "#ed7953"
            ],
            [
             0.7777777777777778,
             "#fb9f3a"
            ],
            [
             0.8888888888888888,
             "#fdca26"
            ],
            [
             1,
             "#f0f921"
            ]
           ]
          },
          "colorway": [
           "#636efa",
           "#EF553B",
           "#00cc96",
           "#ab63fa",
           "#FFA15A",
           "#19d3f3",
           "#FF6692",
           "#B6E880",
           "#FF97FF",
           "#FECB52"
          ],
          "font": {
           "color": "#2a3f5f"
          },
          "geo": {
           "bgcolor": "white",
           "lakecolor": "white",
           "landcolor": "#E5ECF6",
           "showlakes": true,
           "showland": true,
           "subunitcolor": "white"
          },
          "hoverlabel": {
           "align": "left"
          },
          "hovermode": "closest",
          "mapbox": {
           "style": "light"
          },
          "paper_bgcolor": "white",
          "plot_bgcolor": "#E5ECF6",
          "polar": {
           "angularaxis": {
            "gridcolor": "white",
            "linecolor": "white",
            "ticks": ""
           },
           "bgcolor": "#E5ECF6",
           "radialaxis": {
            "gridcolor": "white",
            "linecolor": "white",
            "ticks": ""
           }
          },
          "scene": {
           "xaxis": {
            "backgroundcolor": "#E5ECF6",
            "gridcolor": "white",
            "gridwidth": 2,
            "linecolor": "white",
            "showbackground": true,
            "ticks": "",
            "zerolinecolor": "white"
           },
           "yaxis": {
            "backgroundcolor": "#E5ECF6",
            "gridcolor": "white",
            "gridwidth": 2,
            "linecolor": "white",
            "showbackground": true,
            "ticks": "",
            "zerolinecolor": "white"
           },
           "zaxis": {
            "backgroundcolor": "#E5ECF6",
            "gridcolor": "white",
            "gridwidth": 2,
            "linecolor": "white",
            "showbackground": true,
            "ticks": "",
            "zerolinecolor": "white"
           }
          },
          "shapedefaults": {
           "line": {
            "color": "#2a3f5f"
           }
          },
          "ternary": {
           "aaxis": {
            "gridcolor": "white",
            "linecolor": "white",
            "ticks": ""
           },
           "baxis": {
            "gridcolor": "white",
            "linecolor": "white",
            "ticks": ""
           },
           "bgcolor": "#E5ECF6",
           "caxis": {
            "gridcolor": "white",
            "linecolor": "white",
            "ticks": ""
           }
          },
          "title": {
           "x": 0.05
          },
          "xaxis": {
           "automargin": true,
           "gridcolor": "white",
           "linecolor": "white",
           "ticks": "",
           "title": {
            "standoff": 15
           },
           "zerolinecolor": "white",
           "zerolinewidth": 2
          },
          "yaxis": {
           "automargin": true,
           "gridcolor": "white",
           "linecolor": "white",
           "ticks": "",
           "title": {
            "standoff": 15
           },
           "zerolinecolor": "white",
           "zerolinewidth": 2
          }
         }
        },
        "title": {
         "font": {
          "size": 24
         },
         "text": "Regional Music DNA Fingerprints<br>Each City's Unique Musical Characteristics",
         "x": 0.5
        },
        "width": 1200
       }
      },
      "text/html": [
       "<div>            <script src=\"https://cdnjs.cloudflare.com/ajax/libs/mathjax/2.7.5/MathJax.js?config=TeX-AMS-MML_SVG\"></script><script type=\"text/javascript\">if (window.MathJax && window.MathJax.Hub && window.MathJax.Hub.Config) {window.MathJax.Hub.Config({SVG: {font: \"STIX-Web\"}});}</script>                <script type=\"text/javascript\">window.PlotlyConfig = {MathJaxConfig: 'local'};</script>\n",
       "        <script charset=\"utf-8\" src=\"https://cdn.plot.ly/plotly-3.0.1.min.js\" integrity=\"sha256-oy6Be7Eh6eiQFs5M7oXuPxxm9qbJXEtTpfSI93dW16Q=\" crossorigin=\"anonymous\"></script>                <div id=\"a357294a-b3f1-4c4a-88e4-049e1ee3e7be\" class=\"plotly-graph-div\" style=\"height:800px; width:1200px;\"></div>            <script type=\"text/javascript\">                window.PLOTLYENV=window.PLOTLYENV || {};                                if (document.getElementById(\"a357294a-b3f1-4c4a-88e4-049e1ee3e7be\")) {                    Plotly.newPlot(                        \"a357294a-b3f1-4c4a-88e4-049e1ee3e7be\",                        [{\"fill\":\"toself\",\"fillcolor\":\"#FF6B6B\",\"line\":{\"color\":\"#FF6B6B\",\"width\":4},\"name\":\"Nashville\",\"opacity\":0.4,\"r\":[55.23243243243243,14.678899082568808,75.31531531531532,74.6054054054054,55.23243243243243],\"theta\":[\"Popularity\",\"Diversity\",\"Modernity\",\"Appeal\",\"Popularity\"],\"type\":\"scatterpolar\",\"subplot\":\"polar\"},{\"fill\":\"toself\",\"fillcolor\":\"#4ECDC4\",\"line\":{\"color\":\"#4ECDC4\",\"width\":4},\"name\":\"Los Angeles\",\"opacity\":0.4,\"r\":[37.28787878787879,100.0,12.510040160642575,63.974747474747474,37.28787878787879],\"theta\":[\"Popularity\",\"Diversity\",\"Modernity\",\"Appeal\",\"Popularity\"],\"type\":\"scatterpolar\",\"subplot\":\"polar2\"},{\"fill\":\"toself\",\"fillcolor\":\"#45B7D1\",\"line\":{\"color\":\"#45B7D1\",\"width\":4},\"name\":\"Chicago\",\"opacity\":0.4,\"r\":[26.8,44.03669724770643,62.777777777777786,56.5,26.8],\"theta\":[\"Popularity\",\"Diversity\",\"Modernity\",\"Appeal\",\"Popularity\"],\"type\":\"scatterpolar\",\"subplot\":\"polar3\"},{\"fill\":\"toself\",\"fillcolor\":\"#96CEB4\",\"line\":{\"color\":\"#96CEB4\",\"width\":4},\"name\":\"Miami\",\"opacity\":0.4,\"r\":[67.1859296482412,44.03669724770643,72.88888888888889,72.7035175879397,67.1859296482412],\"theta\":[\"Popularity\",\"Diversity\",\"Modernity\",\"Appeal\",\"Popularity\"],\"type\":\"scatterpolar\",\"subplot\":\"polar4\"},{\"fill\":\"toself\",\"fillcolor\":\"#FFEAA7\",\"line\":{\"color\":\"#FFEAA7\",\"width\":4},\"name\":\"New York\",\"opacity\":0.4,\"r\":[72.48421052631579,23.853211009174313,61.629629629629626,78.06842105263158,72.48421052631579],\"theta\":[\"Popularity\",\"Diversity\",\"Modernity\",\"Appeal\",\"Popularity\"],\"type\":\"scatterpolar\",\"subplot\":\"polar5\"},{\"fill\":\"toself\",\"fillcolor\":\"#DDA0DD\",\"line\":{\"color\":\"#DDA0DD\",\"width\":4},\"name\":\"Seattle\",\"opacity\":0.4,\"r\":[36.72361809045226,33.02752293577982,1.9393939393939377,67.4070351758794,36.72361809045226],\"theta\":[\"Popularity\",\"Diversity\",\"Modernity\",\"Appeal\",\"Popularity\"],\"type\":\"scatterpolar\",\"subplot\":\"polar6\"},{\"fill\":\"toself\",\"fillcolor\":\"#98D8C8\",\"line\":{\"color\":\"#98D8C8\",\"width\":4},\"name\":\"Austin\",\"opacity\":0.4,\"r\":[69.48484848484848,20.18348623853211,80.78125,74.4090909090909,69.48484848484848],\"theta\":[\"Popularity\",\"Diversity\",\"Modernity\",\"Appeal\",\"Popularity\"],\"type\":\"scatterpolar\",\"subplot\":\"polar7\"},{\"fill\":\"toself\",\"fillcolor\":\"#F7DC6F\",\"line\":{\"color\":\"#F7DC6F\",\"width\":4},\"name\":\"Atlanta\",\"opacity\":0.4,\"r\":[47.46632124352332,17.431192660550458,51.22605363984674,65.50777202072538,47.46632124352332],\"theta\":[\"Popularity\",\"Diversity\",\"Modernity\",\"Appeal\",\"Popularity\"],\"type\":\"scatterpolar\",\"subplot\":\"polar8\"}],                        {\"template\":{\"data\":{\"histogram2dcontour\":[{\"type\":\"histogram2dcontour\",\"colorbar\":{\"outlinewidth\":0,\"ticks\":\"\"},\"colorscale\":[[0.0,\"#0d0887\"],[0.1111111111111111,\"#46039f\"],[0.2222222222222222,\"#7201a8\"],[0.3333333333333333,\"#9c179e\"],[0.4444444444444444,\"#bd3786\"],[0.5555555555555556,\"#d8576b\"],[0.6666666666666666,\"#ed7953\"],[0.7777777777777778,\"#fb9f3a\"],[0.8888888888888888,\"#fdca26\"],[1.0,\"#f0f921\"]]}],\"choropleth\":[{\"type\":\"choropleth\",\"colorbar\":{\"outlinewidth\":0,\"ticks\":\"\"}}],\"histogram2d\":[{\"type\":\"histogram2d\",\"colorbar\":{\"outlinewidth\":0,\"ticks\":\"\"},\"colorscale\":[[0.0,\"#0d0887\"],[0.1111111111111111,\"#46039f\"],[0.2222222222222222,\"#7201a8\"],[0.3333333333333333,\"#9c179e\"],[0.4444444444444444,\"#bd3786\"],[0.5555555555555556,\"#d8576b\"],[0.6666666666666666,\"#ed7953\"],[0.7777777777777778,\"#fb9f3a\"],[0.8888888888888888,\"#fdca26\"],[1.0,\"#f0f921\"]]}],\"heatmap\":[{\"type\":\"heatmap\",\"colorbar\":{\"outlinewidth\":0,\"ticks\":\"\"},\"colorscale\":[[0.0,\"#0d0887\"],[0.1111111111111111,\"#46039f\"],[0.2222222222222222,\"#7201a8\"],[0.3333333333333333,\"#9c179e\"],[0.4444444444444444,\"#bd3786\"],[0.5555555555555556,\"#d8576b\"],[0.6666666666666666,\"#ed7953\"],[0.7777777777777778,\"#fb9f3a\"],[0.8888888888888888,\"#fdca26\"],[1.0,\"#f0f921\"]]}],\"contourcarpet\":[{\"type\":\"contourcarpet\",\"colorbar\":{\"outlinewidth\":0,\"ticks\":\"\"}}],\"contour\":[{\"type\":\"contour\",\"colorbar\":{\"outlinewidth\":0,\"ticks\":\"\"},\"colorscale\":[[0.0,\"#0d0887\"],[0.1111111111111111,\"#46039f\"],[0.2222222222222222,\"#7201a8\"],[0.3333333333333333,\"#9c179e\"],[0.4444444444444444,\"#bd3786\"],[0.5555555555555556,\"#d8576b\"],[0.6666666666666666,\"#ed7953\"],[0.7777777777777778,\"#fb9f3a\"],[0.8888888888888888,\"#fdca26\"],[1.0,\"#f0f921\"]]}],\"surface\":[{\"type\":\"surface\",\"colorbar\":{\"outlinewidth\":0,\"ticks\":\"\"},\"colorscale\":[[0.0,\"#0d0887\"],[0.1111111111111111,\"#46039f\"],[0.2222222222222222,\"#7201a8\"],[0.3333333333333333,\"#9c179e\"],[0.4444444444444444,\"#bd3786\"],[0.5555555555555556,\"#d8576b\"],[0.6666666666666666,\"#ed7953\"],[0.7777777777777778,\"#fb9f3a\"],[0.8888888888888888,\"#fdca26\"],[1.0,\"#f0f921\"]]}],\"mesh3d\":[{\"type\":\"mesh3d\",\"colorbar\":{\"outlinewidth\":0,\"ticks\":\"\"}}],\"scatter\":[{\"fillpattern\":{\"fillmode\":\"overlay\",\"size\":10,\"solidity\":0.2},\"type\":\"scatter\"}],\"parcoords\":[{\"type\":\"parcoords\",\"line\":{\"colorbar\":{\"outlinewidth\":0,\"ticks\":\"\"}}}],\"scatterpolargl\":[{\"type\":\"scatterpolargl\",\"marker\":{\"colorbar\":{\"outlinewidth\":0,\"ticks\":\"\"}}}],\"bar\":[{\"error_x\":{\"color\":\"#2a3f5f\"},\"error_y\":{\"color\":\"#2a3f5f\"},\"marker\":{\"line\":{\"color\":\"#E5ECF6\",\"width\":0.5},\"pattern\":{\"fillmode\":\"overlay\",\"size\":10,\"solidity\":0.2}},\"type\":\"bar\"}],\"scattergeo\":[{\"type\":\"scattergeo\",\"marker\":{\"colorbar\":{\"outlinewidth\":0,\"ticks\":\"\"}}}],\"scatterpolar\":[{\"type\":\"scatterpolar\",\"marker\":{\"colorbar\":{\"outlinewidth\":0,\"ticks\":\"\"}}}],\"histogram\":[{\"marker\":{\"pattern\":{\"fillmode\":\"overlay\",\"size\":10,\"solidity\":0.2}},\"type\":\"histogram\"}],\"scattergl\":[{\"type\":\"scattergl\",\"marker\":{\"colorbar\":{\"outlinewidth\":0,\"ticks\":\"\"}}}],\"scatter3d\":[{\"type\":\"scatter3d\",\"line\":{\"colorbar\":{\"outlinewidth\":0,\"ticks\":\"\"}},\"marker\":{\"colorbar\":{\"outlinewidth\":0,\"ticks\":\"\"}}}],\"scattermap\":[{\"type\":\"scattermap\",\"marker\":{\"colorbar\":{\"outlinewidth\":0,\"ticks\":\"\"}}}],\"scattermapbox\":[{\"type\":\"scattermapbox\",\"marker\":{\"colorbar\":{\"outlinewidth\":0,\"ticks\":\"\"}}}],\"scatterternary\":[{\"type\":\"scatterternary\",\"marker\":{\"colorbar\":{\"outlinewidth\":0,\"ticks\":\"\"}}}],\"scattercarpet\":[{\"type\":\"scattercarpet\",\"marker\":{\"colorbar\":{\"outlinewidth\":0,\"ticks\":\"\"}}}],\"carpet\":[{\"aaxis\":{\"endlinecolor\":\"#2a3f5f\",\"gridcolor\":\"white\",\"linecolor\":\"white\",\"minorgridcolor\":\"white\",\"startlinecolor\":\"#2a3f5f\"},\"baxis\":{\"endlinecolor\":\"#2a3f5f\",\"gridcolor\":\"white\",\"linecolor\":\"white\",\"minorgridcolor\":\"white\",\"startlinecolor\":\"#2a3f5f\"},\"type\":\"carpet\"}],\"table\":[{\"cells\":{\"fill\":{\"color\":\"#EBF0F8\"},\"line\":{\"color\":\"white\"}},\"header\":{\"fill\":{\"color\":\"#C8D4E3\"},\"line\":{\"color\":\"white\"}},\"type\":\"table\"}],\"barpolar\":[{\"marker\":{\"line\":{\"color\":\"#E5ECF6\",\"width\":0.5},\"pattern\":{\"fillmode\":\"overlay\",\"size\":10,\"solidity\":0.2}},\"type\":\"barpolar\"}],\"pie\":[{\"automargin\":true,\"type\":\"pie\"}]},\"layout\":{\"autotypenumbers\":\"strict\",\"colorway\":[\"#636efa\",\"#EF553B\",\"#00cc96\",\"#ab63fa\",\"#FFA15A\",\"#19d3f3\",\"#FF6692\",\"#B6E880\",\"#FF97FF\",\"#FECB52\"],\"font\":{\"color\":\"#2a3f5f\"},\"hovermode\":\"closest\",\"hoverlabel\":{\"align\":\"left\"},\"paper_bgcolor\":\"white\",\"plot_bgcolor\":\"#E5ECF6\",\"polar\":{\"bgcolor\":\"#E5ECF6\",\"angularaxis\":{\"gridcolor\":\"white\",\"linecolor\":\"white\",\"ticks\":\"\"},\"radialaxis\":{\"gridcolor\":\"white\",\"linecolor\":\"white\",\"ticks\":\"\"}},\"ternary\":{\"bgcolor\":\"#E5ECF6\",\"aaxis\":{\"gridcolor\":\"white\",\"linecolor\":\"white\",\"ticks\":\"\"},\"baxis\":{\"gridcolor\":\"white\",\"linecolor\":\"white\",\"ticks\":\"\"},\"caxis\":{\"gridcolor\":\"white\",\"linecolor\":\"white\",\"ticks\":\"\"}},\"coloraxis\":{\"colorbar\":{\"outlinewidth\":0,\"ticks\":\"\"}},\"colorscale\":{\"sequential\":[[0.0,\"#0d0887\"],[0.1111111111111111,\"#46039f\"],[0.2222222222222222,\"#7201a8\"],[0.3333333333333333,\"#9c179e\"],[0.4444444444444444,\"#bd3786\"],[0.5555555555555556,\"#d8576b\"],[0.6666666666666666,\"#ed7953\"],[0.7777777777777778,\"#fb9f3a\"],[0.8888888888888888,\"#fdca26\"],[1.0,\"#f0f921\"]],\"sequentialminus\":[[0.0,\"#0d0887\"],[0.1111111111111111,\"#46039f\"],[0.2222222222222222,\"#7201a8\"],[0.3333333333333333,\"#9c179e\"],[0.4444444444444444,\"#bd3786\"],[0.5555555555555556,\"#d8576b\"],[0.6666666666666666,\"#ed7953\"],[0.7777777777777778,\"#fb9f3a\"],[0.8888888888888888,\"#fdca26\"],[1.0,\"#f0f921\"]],\"diverging\":[[0,\"#8e0152\"],[0.1,\"#c51b7d\"],[0.2,\"#de77ae\"],[0.3,\"#f1b6da\"],[0.4,\"#fde0ef\"],[0.5,\"#f7f7f7\"],[0.6,\"#e6f5d0\"],[0.7,\"#b8e186\"],[0.8,\"#7fbc41\"],[0.9,\"#4d9221\"],[1,\"#276419\"]]},\"xaxis\":{\"gridcolor\":\"white\",\"linecolor\":\"white\",\"ticks\":\"\",\"title\":{\"standoff\":15},\"zerolinecolor\":\"white\",\"automargin\":true,\"zerolinewidth\":2},\"yaxis\":{\"gridcolor\":\"white\",\"linecolor\":\"white\",\"ticks\":\"\",\"title\":{\"standoff\":15},\"zerolinecolor\":\"white\",\"automargin\":true,\"zerolinewidth\":2},\"scene\":{\"xaxis\":{\"backgroundcolor\":\"#E5ECF6\",\"gridcolor\":\"white\",\"linecolor\":\"white\",\"showbackground\":true,\"ticks\":\"\",\"zerolinecolor\":\"white\",\"gridwidth\":2},\"yaxis\":{\"backgroundcolor\":\"#E5ECF6\",\"gridcolor\":\"white\",\"linecolor\":\"white\",\"showbackground\":true,\"ticks\":\"\",\"zerolinecolor\":\"white\",\"gridwidth\":2},\"zaxis\":{\"backgroundcolor\":\"#E5ECF6\",\"gridcolor\":\"white\",\"linecolor\":\"white\",\"showbackground\":true,\"ticks\":\"\",\"zerolinecolor\":\"white\",\"gridwidth\":2}},\"shapedefaults\":{\"line\":{\"color\":\"#2a3f5f\"}},\"annotationdefaults\":{\"arrowcolor\":\"#2a3f5f\",\"arrowhead\":0,\"arrowwidth\":1},\"geo\":{\"bgcolor\":\"white\",\"landcolor\":\"#E5ECF6\",\"subunitcolor\":\"white\",\"showland\":true,\"showlakes\":true,\"lakecolor\":\"white\"},\"title\":{\"x\":0.05},\"mapbox\":{\"style\":\"light\"}}},\"polar\":{\"domain\":{\"x\":[0.0,0.1375],\"y\":[0.625,1.0]},\"radialaxis\":{\"visible\":true,\"range\":[0,100],\"tickmode\":\"linear\",\"tick0\":0,\"dtick\":50,\"gridcolor\":\"lightgray\",\"gridwidth\":1},\"angularaxis\":{\"tickfont\":{\"size\":12},\"rotation\":45}},\"polar2\":{\"domain\":{\"x\":[0.2875,0.425],\"y\":[0.625,1.0]},\"radialaxis\":{\"visible\":true,\"range\":[0,100],\"tickmode\":\"linear\",\"tick0\":0,\"dtick\":50,\"gridcolor\":\"lightgray\",\"gridwidth\":1},\"angularaxis\":{\"tickfont\":{\"size\":12},\"rotation\":45}},\"polar3\":{\"domain\":{\"x\":[0.575,0.7124999999999999],\"y\":[0.625,1.0]},\"radialaxis\":{\"visible\":true,\"range\":[0,100],\"tickmode\":\"linear\",\"tick0\":0,\"dtick\":50,\"gridcolor\":\"lightgray\",\"gridwidth\":1},\"angularaxis\":{\"tickfont\":{\"size\":12},\"rotation\":45}},\"polar4\":{\"domain\":{\"x\":[0.8625,1.0],\"y\":[0.625,1.0]},\"radialaxis\":{\"visible\":true,\"range\":[0,100],\"tickmode\":\"linear\",\"tick0\":0,\"dtick\":50,\"gridcolor\":\"lightgray\",\"gridwidth\":1},\"angularaxis\":{\"tickfont\":{\"size\":12},\"rotation\":45}},\"polar5\":{\"domain\":{\"x\":[0.0,0.1375],\"y\":[0.0,0.375]},\"radialaxis\":{\"visible\":true,\"range\":[0,100],\"tickmode\":\"linear\",\"tick0\":0,\"dtick\":50,\"gridcolor\":\"lightgray\",\"gridwidth\":1},\"angularaxis\":{\"tickfont\":{\"size\":12},\"rotation\":45}},\"polar6\":{\"domain\":{\"x\":[0.2875,0.425],\"y\":[0.0,0.375]},\"radialaxis\":{\"visible\":true,\"range\":[0,100],\"tickmode\":\"linear\",\"tick0\":0,\"dtick\":50,\"gridcolor\":\"lightgray\",\"gridwidth\":1},\"angularaxis\":{\"tickfont\":{\"size\":12},\"rotation\":45}},\"polar7\":{\"domain\":{\"x\":[0.575,0.7124999999999999],\"y\":[0.0,0.375]},\"radialaxis\":{\"visible\":true,\"range\":[0,100],\"tickmode\":\"linear\",\"tick0\":0,\"dtick\":50,\"gridcolor\":\"lightgray\",\"gridwidth\":1},\"angularaxis\":{\"tickfont\":{\"size\":12},\"rotation\":45}},\"polar8\":{\"domain\":{\"x\":[0.8625,1.0],\"y\":[0.0,0.375]},\"radialaxis\":{\"visible\":true,\"range\":[0,100],\"tickmode\":\"linear\",\"tick0\":0,\"dtick\":50,\"gridcolor\":\"lightgray\",\"gridwidth\":1},\"angularaxis\":{\"tickfont\":{\"size\":12},\"rotation\":45}},\"annotations\":[{\"font\":{\"size\":16},\"showarrow\":false,\"text\":\"Nashville\",\"x\":0.06875,\"xanchor\":\"center\",\"xref\":\"paper\",\"y\":1.0,\"yanchor\":\"bottom\",\"yref\":\"paper\"},{\"font\":{\"size\":16},\"showarrow\":false,\"text\":\"Los Angeles\",\"x\":0.35624999999999996,\"xanchor\":\"center\",\"xref\":\"paper\",\"y\":1.0,\"yanchor\":\"bottom\",\"yref\":\"paper\"},{\"font\":{\"size\":16},\"showarrow\":false,\"text\":\"Chicago\",\"x\":0.6437499999999999,\"xanchor\":\"center\",\"xref\":\"paper\",\"y\":1.0,\"yanchor\":\"bottom\",\"yref\":\"paper\"},{\"font\":{\"size\":16},\"showarrow\":false,\"text\":\"Miami\",\"x\":0.93125,\"xanchor\":\"center\",\"xref\":\"paper\",\"y\":1.0,\"yanchor\":\"bottom\",\"yref\":\"paper\"},{\"font\":{\"size\":16},\"showarrow\":false,\"text\":\"New York\",\"x\":0.06875,\"xanchor\":\"center\",\"xref\":\"paper\",\"y\":0.375,\"yanchor\":\"bottom\",\"yref\":\"paper\"},{\"font\":{\"size\":16},\"showarrow\":false,\"text\":\"Seattle\",\"x\":0.35624999999999996,\"xanchor\":\"center\",\"xref\":\"paper\",\"y\":0.375,\"yanchor\":\"bottom\",\"yref\":\"paper\"},{\"font\":{\"size\":16},\"showarrow\":false,\"text\":\"Austin\",\"x\":0.6437499999999999,\"xanchor\":\"center\",\"xref\":\"paper\",\"y\":0.375,\"yanchor\":\"bottom\",\"yref\":\"paper\"},{\"font\":{\"size\":16},\"showarrow\":false,\"text\":\"Atlanta\",\"x\":0.93125,\"xanchor\":\"center\",\"xref\":\"paper\",\"y\":0.375,\"yanchor\":\"bottom\",\"yref\":\"paper\"}],\"title\":{\"font\":{\"size\":24},\"text\":\"Regional Music DNA Fingerprints\\u003cbr\\u003eEach City's Unique Musical Characteristics\",\"x\":0.5},\"font\":{\"size\":12},\"margin\":{\"l\":50,\"r\":50,\"t\":100,\"b\":50},\"height\":800,\"width\":1200,\"showlegend\":false},                        {\"responsive\": true}                    ).then(function(){\n",
       "                            \n",
       "var gd = document.getElementById('a357294a-b3f1-4c4a-88e4-049e1ee3e7be');\n",
       "var x = new MutationObserver(function (mutations, observer) {{\n",
       "        var display = window.getComputedStyle(gd).display;\n",
       "        if (!display || display === 'none') {{\n",
       "            console.log([gd, 'removed!']);\n",
       "            Plotly.purge(gd);\n",
       "            observer.disconnect();\n",
       "        }}\n",
       "}});\n",
       "\n",
       "// Listen for the removal of the full notebook cells\n",
       "var notebookContainer = gd.closest('#notebook-container');\n",
       "if (notebookContainer) {{\n",
       "    x.observe(notebookContainer, {childList: true});\n",
       "}}\n",
       "\n",
       "// Listen for the clearing of the current output cell\n",
       "var outputEl = gd.closest('.output');\n",
       "if (outputEl) {{\n",
       "    x.observe(outputEl, {childList: true});\n",
       "}}\n",
       "\n",
       "                        })                };            </script>        </div>"
      ]
     },
     "metadata": {},
     "output_type": "display_data"
    },
    {
     "name": "stdout",
     "output_type": "stream",
     "text": [
      "\n",
      "City Profile Summary:\n",
      "\n",
      "Nashville:\n",
      "  Popularity: 55.2\n",
      "  Diversity: 14.7\n",
      "  Modernity: 75.3\n",
      "  Appeal: 74.6\n",
      "\n",
      "Los Angeles:\n",
      "  Popularity: 37.3\n",
      "  Diversity: 100.0\n",
      "  Modernity: 12.5\n",
      "  Appeal: 64.0\n",
      "\n",
      "Chicago:\n",
      "  Popularity: 26.8\n",
      "  Diversity: 44.0\n",
      "  Modernity: 62.8\n",
      "  Appeal: 56.5\n",
      "\n",
      "Miami:\n",
      "  Popularity: 67.2\n",
      "  Diversity: 44.0\n",
      "  Modernity: 72.9\n",
      "  Appeal: 72.7\n",
      "\n",
      "New York:\n",
      "  Popularity: 72.5\n",
      "  Diversity: 23.9\n",
      "  Modernity: 61.6\n",
      "  Appeal: 78.1\n",
      "\n",
      "Seattle:\n",
      "  Popularity: 36.7\n",
      "  Diversity: 33.0\n",
      "  Modernity: 1.9\n",
      "  Appeal: 67.4\n",
      "\n",
      "Austin:\n",
      "  Popularity: 69.5\n",
      "  Diversity: 20.2\n",
      "  Modernity: 80.8\n",
      "  Appeal: 74.4\n",
      "\n",
      "Atlanta:\n",
      "  Popularity: 47.5\n",
      "  Diversity: 17.4\n",
      "  Modernity: 51.2\n",
      "  Appeal: 65.5\n"
     ]
    }
   ],
   "source": [
    "#musical dna fingerprints\n",
    "print('Creating Musical DNA Fingerprints')\n",
    "\n",
    "try:\n",
    "    dna_fig, city_profiles = create_musical_dna_fingerprint(df)\n",
    "    dna_fig.show()\n",
    "except:\n",
    "    # Fallback to cleaner bar chart version\n",
    "    print(\"Using alternative clean visualization...\")\n",
    "    cards_fig, city_data = create_city_profile_cards(df)\n",
    "    cards_fig.show()\n",
    "\n",
    "print('\\nCity Profile Summary:')\n",
    "for city, profile in city_profiles.items():\n",
    "    print(f'\\n{city}:')\n",
    "    for metric, value in profile.items():\n",
    "        print(f'  {metric}: {value:.1f}')"
   ]
  },
  {
   "cell_type": "code",
   "execution_count": 56,
   "id": "62fd0b88",
   "metadata": {},
   "outputs": [
    {
     "name": "stdout",
     "output_type": "stream",
     "text": [
      "\n",
      "Creating Genre Diversity Spectrum\n",
      "\n",
      "CREATING GENRE DIVERSITY SPECTRUM\n",
      "==================================================\n"
     ]
    },
    {
     "data": {
      "application/vnd.plotly.v1+json": {
       "config": {
        "plotlyServerURL": "https://plot.ly"
       },
       "data": [
        {
         "customdata": [
          0.5505050505050505,
          0.24,
          0.24120603015075376,
          0.18090452261306533,
          0.1368421052631579,
          0.1111111111111111,
          0.09844559585492228,
          0.08648648648648649
         ],
         "hovertemplate": "<b>%{text}</b><br>Unique Genres: %{y:.0f}<br>Diversity Ratio: %{customdata:.3f}<br>Tracks: [198, 200, 199, 199, 190, 198, 193, 185]<br><extra></extra>",
         "marker": {
          "color": [
           109,
           48,
           48,
           36,
           26,
           22,
           19,
           16
          ],
          "colorbar": {
           "title": {
            "text": "Unique Genres"
           }
          },
          "colorscale": [
           [
            0,
            "#440154"
           ],
           [
            0.1111111111111111,
            "#482878"
           ],
           [
            0.2222222222222222,
            "#3e4989"
           ],
           [
            0.3333333333333333,
            "#31688e"
           ],
           [
            0.4444444444444444,
            "#26828e"
           ],
           [
            0.5555555555555556,
            "#1f9e89"
           ],
           [
            0.6666666666666666,
            "#35b779"
           ],
           [
            0.7777777777777778,
            "#6ece58"
           ],
           [
            0.8888888888888888,
            "#b5de2b"
           ],
           [
            1,
            "#fde725"
           ]
          ],
          "line": {
           "color": "white",
           "width": 3
          },
          "opacity": 0.7,
          "showscale": true,
          "size": [
           220.2020202020202,
           96,
           96.4824120603015,
           72.36180904522614,
           54.736842105263165,
           44.44444444444444,
           39.37823834196891,
           34.5945945945946
          ]
         },
         "mode": "markers+text",
         "text": [
          "Los Angeles",
          "Chicago",
          "Miami",
          "Seattle",
          "New York",
          "Austin",
          "Atlanta",
          "Nashville"
         ],
         "textfont": {
          "color": "black",
          "family": "Arial Black",
          "size": 12
         },
         "textposition": "middle center",
         "type": "scatter",
         "x": [
          0,
          1.5,
          3,
          4.5,
          6,
          7.5,
          9,
          10.5
         ],
         "y": [
          101,
          48,
          56,
          28,
          26,
          30,
          11,
          16
         ]
        }
       ],
       "layout": {
        "height": 700,
        "margin": {
         "b": 120,
         "l": 80,
         "r": 80,
         "t": 100
        },
        "template": {
         "data": {
          "bar": [
           {
            "error_x": {
             "color": "#2a3f5f"
            },
            "error_y": {
             "color": "#2a3f5f"
            },
            "marker": {
             "line": {
              "color": "white",
              "width": 0.5
             },
             "pattern": {
              "fillmode": "overlay",
              "size": 10,
              "solidity": 0.2
             }
            },
            "type": "bar"
           }
          ],
          "barpolar": [
           {
            "marker": {
             "line": {
              "color": "white",
              "width": 0.5
             },
             "pattern": {
              "fillmode": "overlay",
              "size": 10,
              "solidity": 0.2
             }
            },
            "type": "barpolar"
           }
          ],
          "carpet": [
           {
            "aaxis": {
             "endlinecolor": "#2a3f5f",
             "gridcolor": "#C8D4E3",
             "linecolor": "#C8D4E3",
             "minorgridcolor": "#C8D4E3",
             "startlinecolor": "#2a3f5f"
            },
            "baxis": {
             "endlinecolor": "#2a3f5f",
             "gridcolor": "#C8D4E3",
             "linecolor": "#C8D4E3",
             "minorgridcolor": "#C8D4E3",
             "startlinecolor": "#2a3f5f"
            },
            "type": "carpet"
           }
          ],
          "choropleth": [
           {
            "colorbar": {
             "outlinewidth": 0,
             "ticks": ""
            },
            "type": "choropleth"
           }
          ],
          "contour": [
           {
            "colorbar": {
             "outlinewidth": 0,
             "ticks": ""
            },
            "colorscale": [
             [
              0,
              "#0d0887"
             ],
             [
              0.1111111111111111,
              "#46039f"
             ],
             [
              0.2222222222222222,
              "#7201a8"
             ],
             [
              0.3333333333333333,
              "#9c179e"
             ],
             [
              0.4444444444444444,
              "#bd3786"
             ],
             [
              0.5555555555555556,
              "#d8576b"
             ],
             [
              0.6666666666666666,
              "#ed7953"
             ],
             [
              0.7777777777777778,
              "#fb9f3a"
             ],
             [
              0.8888888888888888,
              "#fdca26"
             ],
             [
              1,
              "#f0f921"
             ]
            ],
            "type": "contour"
           }
          ],
          "contourcarpet": [
           {
            "colorbar": {
             "outlinewidth": 0,
             "ticks": ""
            },
            "type": "contourcarpet"
           }
          ],
          "heatmap": [
           {
            "colorbar": {
             "outlinewidth": 0,
             "ticks": ""
            },
            "colorscale": [
             [
              0,
              "#0d0887"
             ],
             [
              0.1111111111111111,
              "#46039f"
             ],
             [
              0.2222222222222222,
              "#7201a8"
             ],
             [
              0.3333333333333333,
              "#9c179e"
             ],
             [
              0.4444444444444444,
              "#bd3786"
             ],
             [
              0.5555555555555556,
              "#d8576b"
             ],
             [
              0.6666666666666666,
              "#ed7953"
             ],
             [
              0.7777777777777778,
              "#fb9f3a"
             ],
             [
              0.8888888888888888,
              "#fdca26"
             ],
             [
              1,
              "#f0f921"
             ]
            ],
            "type": "heatmap"
           }
          ],
          "histogram": [
           {
            "marker": {
             "pattern": {
              "fillmode": "overlay",
              "size": 10,
              "solidity": 0.2
             }
            },
            "type": "histogram"
           }
          ],
          "histogram2d": [
           {
            "colorbar": {
             "outlinewidth": 0,
             "ticks": ""
            },
            "colorscale": [
             [
              0,
              "#0d0887"
             ],
             [
              0.1111111111111111,
              "#46039f"
             ],
             [
              0.2222222222222222,
              "#7201a8"
             ],
             [
              0.3333333333333333,
              "#9c179e"
             ],
             [
              0.4444444444444444,
              "#bd3786"
             ],
             [
              0.5555555555555556,
              "#d8576b"
             ],
             [
              0.6666666666666666,
              "#ed7953"
             ],
             [
              0.7777777777777778,
              "#fb9f3a"
             ],
             [
              0.8888888888888888,
              "#fdca26"
             ],
             [
              1,
              "#f0f921"
             ]
            ],
            "type": "histogram2d"
           }
          ],
          "histogram2dcontour": [
           {
            "colorbar": {
             "outlinewidth": 0,
             "ticks": ""
            },
            "colorscale": [
             [
              0,
              "#0d0887"
             ],
             [
              0.1111111111111111,
              "#46039f"
             ],
             [
              0.2222222222222222,
              "#7201a8"
             ],
             [
              0.3333333333333333,
              "#9c179e"
             ],
             [
              0.4444444444444444,
              "#bd3786"
             ],
             [
              0.5555555555555556,
              "#d8576b"
             ],
             [
              0.6666666666666666,
              "#ed7953"
             ],
             [
              0.7777777777777778,
              "#fb9f3a"
             ],
             [
              0.8888888888888888,
              "#fdca26"
             ],
             [
              1,
              "#f0f921"
             ]
            ],
            "type": "histogram2dcontour"
           }
          ],
          "mesh3d": [
           {
            "colorbar": {
             "outlinewidth": 0,
             "ticks": ""
            },
            "type": "mesh3d"
           }
          ],
          "parcoords": [
           {
            "line": {
             "colorbar": {
              "outlinewidth": 0,
              "ticks": ""
             }
            },
            "type": "parcoords"
           }
          ],
          "pie": [
           {
            "automargin": true,
            "type": "pie"
           }
          ],
          "scatter": [
           {
            "fillpattern": {
             "fillmode": "overlay",
             "size": 10,
             "solidity": 0.2
            },
            "type": "scatter"
           }
          ],
          "scatter3d": [
           {
            "line": {
             "colorbar": {
              "outlinewidth": 0,
              "ticks": ""
             }
            },
            "marker": {
             "colorbar": {
              "outlinewidth": 0,
              "ticks": ""
             }
            },
            "type": "scatter3d"
           }
          ],
          "scattercarpet": [
           {
            "marker": {
             "colorbar": {
              "outlinewidth": 0,
              "ticks": ""
             }
            },
            "type": "scattercarpet"
           }
          ],
          "scattergeo": [
           {
            "marker": {
             "colorbar": {
              "outlinewidth": 0,
              "ticks": ""
             }
            },
            "type": "scattergeo"
           }
          ],
          "scattergl": [
           {
            "marker": {
             "colorbar": {
              "outlinewidth": 0,
              "ticks": ""
             }
            },
            "type": "scattergl"
           }
          ],
          "scattermap": [
           {
            "marker": {
             "colorbar": {
              "outlinewidth": 0,
              "ticks": ""
             }
            },
            "type": "scattermap"
           }
          ],
          "scattermapbox": [
           {
            "marker": {
             "colorbar": {
              "outlinewidth": 0,
              "ticks": ""
             }
            },
            "type": "scattermapbox"
           }
          ],
          "scatterpolar": [
           {
            "marker": {
             "colorbar": {
              "outlinewidth": 0,
              "ticks": ""
             }
            },
            "type": "scatterpolar"
           }
          ],
          "scatterpolargl": [
           {
            "marker": {
             "colorbar": {
              "outlinewidth": 0,
              "ticks": ""
             }
            },
            "type": "scatterpolargl"
           }
          ],
          "scatterternary": [
           {
            "marker": {
             "colorbar": {
              "outlinewidth": 0,
              "ticks": ""
             }
            },
            "type": "scatterternary"
           }
          ],
          "surface": [
           {
            "colorbar": {
             "outlinewidth": 0,
             "ticks": ""
            },
            "colorscale": [
             [
              0,
              "#0d0887"
             ],
             [
              0.1111111111111111,
              "#46039f"
             ],
             [
              0.2222222222222222,
              "#7201a8"
             ],
             [
              0.3333333333333333,
              "#9c179e"
             ],
             [
              0.4444444444444444,
              "#bd3786"
             ],
             [
              0.5555555555555556,
              "#d8576b"
             ],
             [
              0.6666666666666666,
              "#ed7953"
             ],
             [
              0.7777777777777778,
              "#fb9f3a"
             ],
             [
              0.8888888888888888,
              "#fdca26"
             ],
             [
              1,
              "#f0f921"
             ]
            ],
            "type": "surface"
           }
          ],
          "table": [
           {
            "cells": {
             "fill": {
              "color": "#EBF0F8"
             },
             "line": {
              "color": "white"
             }
            },
            "header": {
             "fill": {
              "color": "#C8D4E3"
             },
             "line": {
              "color": "white"
             }
            },
            "type": "table"
           }
          ]
         },
         "layout": {
          "annotationdefaults": {
           "arrowcolor": "#2a3f5f",
           "arrowhead": 0,
           "arrowwidth": 1
          },
          "autotypenumbers": "strict",
          "coloraxis": {
           "colorbar": {
            "outlinewidth": 0,
            "ticks": ""
           }
          },
          "colorscale": {
           "diverging": [
            [
             0,
             "#8e0152"
            ],
            [
             0.1,
             "#c51b7d"
            ],
            [
             0.2,
             "#de77ae"
            ],
            [
             0.3,
             "#f1b6da"
            ],
            [
             0.4,
             "#fde0ef"
            ],
            [
             0.5,
             "#f7f7f7"
            ],
            [
             0.6,
             "#e6f5d0"
            ],
            [
             0.7,
             "#b8e186"
            ],
            [
             0.8,
             "#7fbc41"
            ],
            [
             0.9,
             "#4d9221"
            ],
            [
             1,
             "#276419"
            ]
           ],
           "sequential": [
            [
             0,
             "#0d0887"
            ],
            [
             0.1111111111111111,
             "#46039f"
            ],
            [
             0.2222222222222222,
             "#7201a8"
            ],
            [
             0.3333333333333333,
             "#9c179e"
            ],
            [
             0.4444444444444444,
             "#bd3786"
            ],
            [
             0.5555555555555556,
             "#d8576b"
            ],
            [
             0.6666666666666666,
             "#ed7953"
            ],
            [
             0.7777777777777778,
             "#fb9f3a"
            ],
            [
             0.8888888888888888,
             "#fdca26"
            ],
            [
             1,
             "#f0f921"
            ]
           ],
           "sequentialminus": [
            [
             0,
             "#0d0887"
            ],
            [
             0.1111111111111111,
             "#46039f"
            ],
            [
             0.2222222222222222,
             "#7201a8"
            ],
            [
             0.3333333333333333,
             "#9c179e"
            ],
            [
             0.4444444444444444,
             "#bd3786"
            ],
            [
             0.5555555555555556,
             "#d8576b"
            ],
            [
             0.6666666666666666,
             "#ed7953"
            ],
            [
             0.7777777777777778,
             "#fb9f3a"
            ],
            [
             0.8888888888888888,
             "#fdca26"
            ],
            [
             1,
             "#f0f921"
            ]
           ]
          },
          "colorway": [
           "#636efa",
           "#EF553B",
           "#00cc96",
           "#ab63fa",
           "#FFA15A",
           "#19d3f3",
           "#FF6692",
           "#B6E880",
           "#FF97FF",
           "#FECB52"
          ],
          "font": {
           "color": "#2a3f5f"
          },
          "geo": {
           "bgcolor": "white",
           "lakecolor": "white",
           "landcolor": "white",
           "showlakes": true,
           "showland": true,
           "subunitcolor": "#C8D4E3"
          },
          "hoverlabel": {
           "align": "left"
          },
          "hovermode": "closest",
          "mapbox": {
           "style": "light"
          },
          "paper_bgcolor": "white",
          "plot_bgcolor": "white",
          "polar": {
           "angularaxis": {
            "gridcolor": "#EBF0F8",
            "linecolor": "#EBF0F8",
            "ticks": ""
           },
           "bgcolor": "white",
           "radialaxis": {
            "gridcolor": "#EBF0F8",
            "linecolor": "#EBF0F8",
            "ticks": ""
           }
          },
          "scene": {
           "xaxis": {
            "backgroundcolor": "white",
            "gridcolor": "#DFE8F3",
            "gridwidth": 2,
            "linecolor": "#EBF0F8",
            "showbackground": true,
            "ticks": "",
            "zerolinecolor": "#EBF0F8"
           },
           "yaxis": {
            "backgroundcolor": "white",
            "gridcolor": "#DFE8F3",
            "gridwidth": 2,
            "linecolor": "#EBF0F8",
            "showbackground": true,
            "ticks": "",
            "zerolinecolor": "#EBF0F8"
           },
           "zaxis": {
            "backgroundcolor": "white",
            "gridcolor": "#DFE8F3",
            "gridwidth": 2,
            "linecolor": "#EBF0F8",
            "showbackground": true,
            "ticks": "",
            "zerolinecolor": "#EBF0F8"
           }
          },
          "shapedefaults": {
           "line": {
            "color": "#2a3f5f"
           }
          },
          "ternary": {
           "aaxis": {
            "gridcolor": "#DFE8F3",
            "linecolor": "#A2B1C6",
            "ticks": ""
           },
           "baxis": {
            "gridcolor": "#DFE8F3",
            "linecolor": "#A2B1C6",
            "ticks": ""
           },
           "bgcolor": "white",
           "caxis": {
            "gridcolor": "#DFE8F3",
            "linecolor": "#A2B1C6",
            "ticks": ""
           }
          },
          "title": {
           "x": 0.05
          },
          "xaxis": {
           "automargin": true,
           "gridcolor": "#EBF0F8",
           "linecolor": "#EBF0F8",
           "ticks": "",
           "title": {
            "standoff": 15
           },
           "zerolinecolor": "#EBF0F8",
           "zerolinewidth": 2
          },
          "yaxis": {
           "automargin": true,
           "gridcolor": "#EBF0F8",
           "linecolor": "#EBF0F8",
           "ticks": "",
           "title": {
            "standoff": 15
           },
           "zerolinecolor": "#EBF0F8",
           "zerolinewidth": 2
          }
         }
        },
        "title": {
         "font": {
          "size": 20
         },
         "text": "Regional Music Diversity Spectrum<br><sub>Genre Variety Across American Cities</sub>",
         "x": 0.5
        },
        "width": 1000,
        "xaxis": {
         "tickangle": 45,
         "tickfont": {
          "size": 12
         },
         "ticktext": [
          "Los Angeles",
          "Chicago",
          "Miami",
          "Seattle",
          "New York",
          "Austin",
          "Atlanta",
          "Nashville"
         ],
         "tickvals": [
          0,
          1.5,
          3,
          4.5,
          6,
          7.5,
          9,
          10.5
         ],
         "title": {
          "text": "Cities (Ranked by Diversity)"
         }
        },
        "yaxis": {
         "tickfont": {
          "size": 12
         },
         "title": {
          "text": "Number of Unique Genres"
         }
        }
       }
      },
      "text/html": [
       "<div>            <script src=\"https://cdnjs.cloudflare.com/ajax/libs/mathjax/2.7.5/MathJax.js?config=TeX-AMS-MML_SVG\"></script><script type=\"text/javascript\">if (window.MathJax && window.MathJax.Hub && window.MathJax.Hub.Config) {window.MathJax.Hub.Config({SVG: {font: \"STIX-Web\"}});}</script>                <script type=\"text/javascript\">window.PlotlyConfig = {MathJaxConfig: 'local'};</script>\n",
       "        <script charset=\"utf-8\" src=\"https://cdn.plot.ly/plotly-3.0.1.min.js\" integrity=\"sha256-oy6Be7Eh6eiQFs5M7oXuPxxm9qbJXEtTpfSI93dW16Q=\" crossorigin=\"anonymous\"></script>                <div id=\"0ab6251e-aa86-4e3b-a803-5ad257b86a65\" class=\"plotly-graph-div\" style=\"height:700px; width:1000px;\"></div>            <script type=\"text/javascript\">                window.PLOTLYENV=window.PLOTLYENV || {};                                if (document.getElementById(\"0ab6251e-aa86-4e3b-a803-5ad257b86a65\")) {                    Plotly.newPlot(                        \"0ab6251e-aa86-4e3b-a803-5ad257b86a65\",                        [{\"customdata\":[0.5505050505050505,0.24,0.24120603015075376,0.18090452261306533,0.1368421052631579,0.1111111111111111,0.09844559585492228,0.08648648648648649],\"hovertemplate\":\"\\u003cb\\u003e%{text}\\u003c\\u002fb\\u003e\\u003cbr\\u003eUnique Genres: %{y:.0f}\\u003cbr\\u003eDiversity Ratio: %{customdata:.3f}\\u003cbr\\u003eTracks: [198, 200, 199, 199, 190, 198, 193, 185]\\u003cbr\\u003e\\u003cextra\\u003e\\u003c\\u002fextra\\u003e\",\"marker\":{\"color\":[109,48,48,36,26,22,19,16],\"colorbar\":{\"title\":{\"text\":\"Unique Genres\"}},\"colorscale\":[[0.0,\"#440154\"],[0.1111111111111111,\"#482878\"],[0.2222222222222222,\"#3e4989\"],[0.3333333333333333,\"#31688e\"],[0.4444444444444444,\"#26828e\"],[0.5555555555555556,\"#1f9e89\"],[0.6666666666666666,\"#35b779\"],[0.7777777777777778,\"#6ece58\"],[0.8888888888888888,\"#b5de2b\"],[1.0,\"#fde725\"]],\"line\":{\"color\":\"white\",\"width\":3},\"opacity\":0.7,\"showscale\":true,\"size\":[220.2020202020202,96.0,96.4824120603015,72.36180904522614,54.736842105263165,44.44444444444444,39.37823834196891,34.5945945945946]},\"mode\":\"markers+text\",\"text\":[\"Los Angeles\",\"Chicago\",\"Miami\",\"Seattle\",\"New York\",\"Austin\",\"Atlanta\",\"Nashville\"],\"textfont\":{\"color\":\"black\",\"family\":\"Arial Black\",\"size\":12},\"textposition\":\"middle center\",\"x\":[0.0,1.5,3.0,4.5,6.0,7.5,9.0,10.5],\"y\":[101,48,56,28,26,30,11,16],\"type\":\"scatter\"}],                        {\"template\":{\"data\":{\"barpolar\":[{\"marker\":{\"line\":{\"color\":\"white\",\"width\":0.5},\"pattern\":{\"fillmode\":\"overlay\",\"size\":10,\"solidity\":0.2}},\"type\":\"barpolar\"}],\"bar\":[{\"error_x\":{\"color\":\"#2a3f5f\"},\"error_y\":{\"color\":\"#2a3f5f\"},\"marker\":{\"line\":{\"color\":\"white\",\"width\":0.5},\"pattern\":{\"fillmode\":\"overlay\",\"size\":10,\"solidity\":0.2}},\"type\":\"bar\"}],\"carpet\":[{\"aaxis\":{\"endlinecolor\":\"#2a3f5f\",\"gridcolor\":\"#C8D4E3\",\"linecolor\":\"#C8D4E3\",\"minorgridcolor\":\"#C8D4E3\",\"startlinecolor\":\"#2a3f5f\"},\"baxis\":{\"endlinecolor\":\"#2a3f5f\",\"gridcolor\":\"#C8D4E3\",\"linecolor\":\"#C8D4E3\",\"minorgridcolor\":\"#C8D4E3\",\"startlinecolor\":\"#2a3f5f\"},\"type\":\"carpet\"}],\"choropleth\":[{\"colorbar\":{\"outlinewidth\":0,\"ticks\":\"\"},\"type\":\"choropleth\"}],\"contourcarpet\":[{\"colorbar\":{\"outlinewidth\":0,\"ticks\":\"\"},\"type\":\"contourcarpet\"}],\"contour\":[{\"colorbar\":{\"outlinewidth\":0,\"ticks\":\"\"},\"colorscale\":[[0.0,\"#0d0887\"],[0.1111111111111111,\"#46039f\"],[0.2222222222222222,\"#7201a8\"],[0.3333333333333333,\"#9c179e\"],[0.4444444444444444,\"#bd3786\"],[0.5555555555555556,\"#d8576b\"],[0.6666666666666666,\"#ed7953\"],[0.7777777777777778,\"#fb9f3a\"],[0.8888888888888888,\"#fdca26\"],[1.0,\"#f0f921\"]],\"type\":\"contour\"}],\"heatmap\":[{\"colorbar\":{\"outlinewidth\":0,\"ticks\":\"\"},\"colorscale\":[[0.0,\"#0d0887\"],[0.1111111111111111,\"#46039f\"],[0.2222222222222222,\"#7201a8\"],[0.3333333333333333,\"#9c179e\"],[0.4444444444444444,\"#bd3786\"],[0.5555555555555556,\"#d8576b\"],[0.6666666666666666,\"#ed7953\"],[0.7777777777777778,\"#fb9f3a\"],[0.8888888888888888,\"#fdca26\"],[1.0,\"#f0f921\"]],\"type\":\"heatmap\"}],\"histogram2dcontour\":[{\"colorbar\":{\"outlinewidth\":0,\"ticks\":\"\"},\"colorscale\":[[0.0,\"#0d0887\"],[0.1111111111111111,\"#46039f\"],[0.2222222222222222,\"#7201a8\"],[0.3333333333333333,\"#9c179e\"],[0.4444444444444444,\"#bd3786\"],[0.5555555555555556,\"#d8576b\"],[0.6666666666666666,\"#ed7953\"],[0.7777777777777778,\"#fb9f3a\"],[0.8888888888888888,\"#fdca26\"],[1.0,\"#f0f921\"]],\"type\":\"histogram2dcontour\"}],\"histogram2d\":[{\"colorbar\":{\"outlinewidth\":0,\"ticks\":\"\"},\"colorscale\":[[0.0,\"#0d0887\"],[0.1111111111111111,\"#46039f\"],[0.2222222222222222,\"#7201a8\"],[0.3333333333333333,\"#9c179e\"],[0.4444444444444444,\"#bd3786\"],[0.5555555555555556,\"#d8576b\"],[0.6666666666666666,\"#ed7953\"],[0.7777777777777778,\"#fb9f3a\"],[0.8888888888888888,\"#fdca26\"],[1.0,\"#f0f921\"]],\"type\":\"histogram2d\"}],\"histogram\":[{\"marker\":{\"pattern\":{\"fillmode\":\"overlay\",\"size\":10,\"solidity\":0.2}},\"type\":\"histogram\"}],\"mesh3d\":[{\"colorbar\":{\"outlinewidth\":0,\"ticks\":\"\"},\"type\":\"mesh3d\"}],\"parcoords\":[{\"line\":{\"colorbar\":{\"outlinewidth\":0,\"ticks\":\"\"}},\"type\":\"parcoords\"}],\"pie\":[{\"automargin\":true,\"type\":\"pie\"}],\"scatter3d\":[{\"line\":{\"colorbar\":{\"outlinewidth\":0,\"ticks\":\"\"}},\"marker\":{\"colorbar\":{\"outlinewidth\":0,\"ticks\":\"\"}},\"type\":\"scatter3d\"}],\"scattercarpet\":[{\"marker\":{\"colorbar\":{\"outlinewidth\":0,\"ticks\":\"\"}},\"type\":\"scattercarpet\"}],\"scattergeo\":[{\"marker\":{\"colorbar\":{\"outlinewidth\":0,\"ticks\":\"\"}},\"type\":\"scattergeo\"}],\"scattergl\":[{\"marker\":{\"colorbar\":{\"outlinewidth\":0,\"ticks\":\"\"}},\"type\":\"scattergl\"}],\"scattermapbox\":[{\"marker\":{\"colorbar\":{\"outlinewidth\":0,\"ticks\":\"\"}},\"type\":\"scattermapbox\"}],\"scattermap\":[{\"marker\":{\"colorbar\":{\"outlinewidth\":0,\"ticks\":\"\"}},\"type\":\"scattermap\"}],\"scatterpolargl\":[{\"marker\":{\"colorbar\":{\"outlinewidth\":0,\"ticks\":\"\"}},\"type\":\"scatterpolargl\"}],\"scatterpolar\":[{\"marker\":{\"colorbar\":{\"outlinewidth\":0,\"ticks\":\"\"}},\"type\":\"scatterpolar\"}],\"scatter\":[{\"fillpattern\":{\"fillmode\":\"overlay\",\"size\":10,\"solidity\":0.2},\"type\":\"scatter\"}],\"scatterternary\":[{\"marker\":{\"colorbar\":{\"outlinewidth\":0,\"ticks\":\"\"}},\"type\":\"scatterternary\"}],\"surface\":[{\"colorbar\":{\"outlinewidth\":0,\"ticks\":\"\"},\"colorscale\":[[0.0,\"#0d0887\"],[0.1111111111111111,\"#46039f\"],[0.2222222222222222,\"#7201a8\"],[0.3333333333333333,\"#9c179e\"],[0.4444444444444444,\"#bd3786\"],[0.5555555555555556,\"#d8576b\"],[0.6666666666666666,\"#ed7953\"],[0.7777777777777778,\"#fb9f3a\"],[0.8888888888888888,\"#fdca26\"],[1.0,\"#f0f921\"]],\"type\":\"surface\"}],\"table\":[{\"cells\":{\"fill\":{\"color\":\"#EBF0F8\"},\"line\":{\"color\":\"white\"}},\"header\":{\"fill\":{\"color\":\"#C8D4E3\"},\"line\":{\"color\":\"white\"}},\"type\":\"table\"}]},\"layout\":{\"annotationdefaults\":{\"arrowcolor\":\"#2a3f5f\",\"arrowhead\":0,\"arrowwidth\":1},\"autotypenumbers\":\"strict\",\"coloraxis\":{\"colorbar\":{\"outlinewidth\":0,\"ticks\":\"\"}},\"colorscale\":{\"diverging\":[[0,\"#8e0152\"],[0.1,\"#c51b7d\"],[0.2,\"#de77ae\"],[0.3,\"#f1b6da\"],[0.4,\"#fde0ef\"],[0.5,\"#f7f7f7\"],[0.6,\"#e6f5d0\"],[0.7,\"#b8e186\"],[0.8,\"#7fbc41\"],[0.9,\"#4d9221\"],[1,\"#276419\"]],\"sequential\":[[0.0,\"#0d0887\"],[0.1111111111111111,\"#46039f\"],[0.2222222222222222,\"#7201a8\"],[0.3333333333333333,\"#9c179e\"],[0.4444444444444444,\"#bd3786\"],[0.5555555555555556,\"#d8576b\"],[0.6666666666666666,\"#ed7953\"],[0.7777777777777778,\"#fb9f3a\"],[0.8888888888888888,\"#fdca26\"],[1.0,\"#f0f921\"]],\"sequentialminus\":[[0.0,\"#0d0887\"],[0.1111111111111111,\"#46039f\"],[0.2222222222222222,\"#7201a8\"],[0.3333333333333333,\"#9c179e\"],[0.4444444444444444,\"#bd3786\"],[0.5555555555555556,\"#d8576b\"],[0.6666666666666666,\"#ed7953\"],[0.7777777777777778,\"#fb9f3a\"],[0.8888888888888888,\"#fdca26\"],[1.0,\"#f0f921\"]]},\"colorway\":[\"#636efa\",\"#EF553B\",\"#00cc96\",\"#ab63fa\",\"#FFA15A\",\"#19d3f3\",\"#FF6692\",\"#B6E880\",\"#FF97FF\",\"#FECB52\"],\"font\":{\"color\":\"#2a3f5f\"},\"geo\":{\"bgcolor\":\"white\",\"lakecolor\":\"white\",\"landcolor\":\"white\",\"showlakes\":true,\"showland\":true,\"subunitcolor\":\"#C8D4E3\"},\"hoverlabel\":{\"align\":\"left\"},\"hovermode\":\"closest\",\"mapbox\":{\"style\":\"light\"},\"paper_bgcolor\":\"white\",\"plot_bgcolor\":\"white\",\"polar\":{\"angularaxis\":{\"gridcolor\":\"#EBF0F8\",\"linecolor\":\"#EBF0F8\",\"ticks\":\"\"},\"bgcolor\":\"white\",\"radialaxis\":{\"gridcolor\":\"#EBF0F8\",\"linecolor\":\"#EBF0F8\",\"ticks\":\"\"}},\"scene\":{\"xaxis\":{\"backgroundcolor\":\"white\",\"gridcolor\":\"#DFE8F3\",\"gridwidth\":2,\"linecolor\":\"#EBF0F8\",\"showbackground\":true,\"ticks\":\"\",\"zerolinecolor\":\"#EBF0F8\"},\"yaxis\":{\"backgroundcolor\":\"white\",\"gridcolor\":\"#DFE8F3\",\"gridwidth\":2,\"linecolor\":\"#EBF0F8\",\"showbackground\":true,\"ticks\":\"\",\"zerolinecolor\":\"#EBF0F8\"},\"zaxis\":{\"backgroundcolor\":\"white\",\"gridcolor\":\"#DFE8F3\",\"gridwidth\":2,\"linecolor\":\"#EBF0F8\",\"showbackground\":true,\"ticks\":\"\",\"zerolinecolor\":\"#EBF0F8\"}},\"shapedefaults\":{\"line\":{\"color\":\"#2a3f5f\"}},\"ternary\":{\"aaxis\":{\"gridcolor\":\"#DFE8F3\",\"linecolor\":\"#A2B1C6\",\"ticks\":\"\"},\"baxis\":{\"gridcolor\":\"#DFE8F3\",\"linecolor\":\"#A2B1C6\",\"ticks\":\"\"},\"bgcolor\":\"white\",\"caxis\":{\"gridcolor\":\"#DFE8F3\",\"linecolor\":\"#A2B1C6\",\"ticks\":\"\"}},\"title\":{\"x\":0.05},\"xaxis\":{\"automargin\":true,\"gridcolor\":\"#EBF0F8\",\"linecolor\":\"#EBF0F8\",\"ticks\":\"\",\"title\":{\"standoff\":15},\"zerolinecolor\":\"#EBF0F8\",\"zerolinewidth\":2},\"yaxis\":{\"automargin\":true,\"gridcolor\":\"#EBF0F8\",\"linecolor\":\"#EBF0F8\",\"ticks\":\"\",\"title\":{\"standoff\":15},\"zerolinecolor\":\"#EBF0F8\",\"zerolinewidth\":2}}},\"title\":{\"font\":{\"size\":20},\"text\":\"Regional Music Diversity Spectrum\\u003cbr\\u003e\\u003csub\\u003eGenre Variety Across American Cities\\u003c\\u002fsub\\u003e\",\"x\":0.5},\"xaxis\":{\"tickfont\":{\"size\":12},\"title\":{\"text\":\"Cities (Ranked by Diversity)\"},\"tickvals\":[0.0,1.5,3.0,4.5,6.0,7.5,9.0,10.5],\"ticktext\":[\"Los Angeles\",\"Chicago\",\"Miami\",\"Seattle\",\"New York\",\"Austin\",\"Atlanta\",\"Nashville\"],\"tickangle\":45},\"yaxis\":{\"tickfont\":{\"size\":12},\"title\":{\"text\":\"Number of Unique Genres\"}},\"margin\":{\"l\":80,\"r\":80,\"t\":100,\"b\":120},\"height\":700,\"width\":1000},                        {\"responsive\": true}                    ).then(function(){\n",
       "                            \n",
       "var gd = document.getElementById('0ab6251e-aa86-4e3b-a803-5ad257b86a65');\n",
       "var x = new MutationObserver(function (mutations, observer) {{\n",
       "        var display = window.getComputedStyle(gd).display;\n",
       "        if (!display || display === 'none') {{\n",
       "            console.log([gd, 'removed!']);\n",
       "            Plotly.purge(gd);\n",
       "            observer.disconnect();\n",
       "        }}\n",
       "}});\n",
       "\n",
       "// Listen for the removal of the full notebook cells\n",
       "var notebookContainer = gd.closest('#notebook-container');\n",
       "if (notebookContainer) {{\n",
       "    x.observe(notebookContainer, {childList: true});\n",
       "}}\n",
       "\n",
       "// Listen for the clearing of the current output cell\n",
       "var outputEl = gd.closest('.output');\n",
       "if (outputEl) {{\n",
       "    x.observe(outputEl, {childList: true});\n",
       "}}\n",
       "\n",
       "                        })                };            </script>        </div>"
      ]
     },
     "metadata": {},
     "output_type": "display_data"
    },
    {
     "name": "stdout",
     "output_type": "stream",
     "text": [
      "\n",
      "Genre Diversity Rankings:\n",
      "   1. Los Angeles: 109 genres (0.551 ratio)\n",
      "   2. Chicago: 48 genres (0.240 ratio)\n",
      "   3. Miami: 48 genres (0.241 ratio)\n",
      "   4. Seattle: 36 genres (0.181 ratio)\n",
      "   5. New York: 26 genres (0.137 ratio)\n",
      "   6. Austin: 22 genres (0.111 ratio)\n",
      "   7. Atlanta: 19 genres (0.098 ratio)\n",
      "   8. Nashville: 16 genres (0.086 ratio)\n"
     ]
    }
   ],
   "source": [
    "print('\\nCreating Genre Diversity Spectrum')\n",
    "diversity_fig, genre_stats = create_genre_diversity_spectrum(df)\n",
    "diversity_fig.show()\n",
    "\n",
    "print('\\nGenre Diversity Rankings:')\n",
    "sorted_cities = sorted(genre_stats.items(), key=lambda x: x[1]['unique_genres'], reverse=True)\n",
    "for i, (city, stats) in enumerate(sorted_cities, 1):\n",
    "    print(f\"   {i}. {city}: {stats['unique_genres']} genres ({stats['diversity_ratio']:.3f} ratio)\")\n"
   ]
  },
  {
   "cell_type": "code",
   "execution_count": 57,
   "id": "e12b0ebc",
   "metadata": {},
   "outputs": [
    {
     "name": "stdout",
     "output_type": "stream",
     "text": [
      "\n",
      "Creating City Similarity Network...\n",
      "\n",
      " CREATING CITY SIMILARITY NETWORK\n",
      "==================================================\n"
     ]
    },
    {
     "data": {
      "application/vnd.plotly.v1+json": {
       "config": {
        "plotlyServerURL": "https://plot.ly"
       },
       "data": [
        {
         "hoverinfo": "none",
         "line": {
          "color": "#888",
          "width": 0.5
         },
         "mode": "lines",
         "type": "scatter",
         "x": [
          -0.4295386078766217,
          0.17596925341265132,
          null,
          -0.4295386078766217,
          -0.24854462747280465,
          null,
          -0.4295386078766217,
          -0.8034731577866793,
          null,
          0.8554498437019843,
          -0.8933055229484478,
          null,
          0.8554498437019843,
          0.9587627750812839,
          null,
          -0.8933055229484478,
          0.9587627750812839,
          null,
          -0.8933055229484478,
          0.38468004388863386,
          null,
          0.17596925341265132,
          -0.24854462747280465,
          null,
          0.17596925341265132,
          -0.8034731577866793,
          null,
          -0.24854462747280465,
          -0.8034731577866793,
          null
         ],
         "y": [
          0.841896578945992,
          0.8415662368612105,
          null,
          0.841896578945992,
          -1,
          null,
          0.841896578945992,
          -0.3552375443292698,
          null,
          0.4598739377707044,
          0.3226510232571779,
          null,
          0.4598739377707044,
          -0.3059653853102712,
          null,
          0.3226510232571779,
          -0.3059653853102712,
          null,
          0.3226510232571779,
          -0.804784847195544,
          null,
          0.8415662368612105,
          -1,
          null,
          0.8415662368612105,
          -0.3552375443292698,
          null,
          -1,
          -0.3552375443292698,
          null
         ]
        },
        {
         "hoverinfo": "text",
         "marker": {
          "color": "lightblue",
          "line": {
           "color": "white",
           "width": 2
          },
          "size": [
           50,
           40,
           50,
           50,
           50,
           40,
           50,
           30
          ]
         },
         "mode": "markers+text",
         "text": [
          "Nashville",
          "Los Angeles",
          "Chicago",
          "Miami",
          "New York",
          "Seattle",
          "Austin",
          "Atlanta"
         ],
         "textposition": "middle center",
         "type": "scatter",
         "x": [
          -0.4295386078766217,
          0.8554498437019843,
          -0.8933055229484478,
          0.17596925341265132,
          -0.24854462747280465,
          0.9587627750812839,
          -0.8034731577866793,
          0.38468004388863386
         ],
         "y": [
          0.841896578945992,
          0.4598739377707044,
          0.3226510232571779,
          0.8415662368612105,
          -1,
          -0.3059653853102712,
          -0.3552375443292698,
          -0.804784847195544
         ]
        }
       ],
       "layout": {
        "annotations": [
         {
          "font": {
           "color": "gray",
           "size": 12
          },
          "showarrow": false,
          "text": "Node size = number of similar cities<br>Connections = correlation > 0.3",
          "x": 0.005,
          "xanchor": "left",
          "xref": "paper",
          "y": -0.002,
          "yanchor": "bottom",
          "yref": "paper"
         }
        ],
        "font": {
         "size": 16
        },
        "hovermode": "closest",
        "margin": {
         "b": 20,
         "l": 5,
         "r": 5,
         "t": 40
        },
        "showlegend": false,
        "template": {
         "data": {
          "bar": [
           {
            "error_x": {
             "color": "#2a3f5f"
            },
            "error_y": {
             "color": "#2a3f5f"
            },
            "marker": {
             "line": {
              "color": "#E5ECF6",
              "width": 0.5
             },
             "pattern": {
              "fillmode": "overlay",
              "size": 10,
              "solidity": 0.2
             }
            },
            "type": "bar"
           }
          ],
          "barpolar": [
           {
            "marker": {
             "line": {
              "color": "#E5ECF6",
              "width": 0.5
             },
             "pattern": {
              "fillmode": "overlay",
              "size": 10,
              "solidity": 0.2
             }
            },
            "type": "barpolar"
           }
          ],
          "carpet": [
           {
            "aaxis": {
             "endlinecolor": "#2a3f5f",
             "gridcolor": "white",
             "linecolor": "white",
             "minorgridcolor": "white",
             "startlinecolor": "#2a3f5f"
            },
            "baxis": {
             "endlinecolor": "#2a3f5f",
             "gridcolor": "white",
             "linecolor": "white",
             "minorgridcolor": "white",
             "startlinecolor": "#2a3f5f"
            },
            "type": "carpet"
           }
          ],
          "choropleth": [
           {
            "colorbar": {
             "outlinewidth": 0,
             "ticks": ""
            },
            "type": "choropleth"
           }
          ],
          "contour": [
           {
            "colorbar": {
             "outlinewidth": 0,
             "ticks": ""
            },
            "colorscale": [
             [
              0,
              "#0d0887"
             ],
             [
              0.1111111111111111,
              "#46039f"
             ],
             [
              0.2222222222222222,
              "#7201a8"
             ],
             [
              0.3333333333333333,
              "#9c179e"
             ],
             [
              0.4444444444444444,
              "#bd3786"
             ],
             [
              0.5555555555555556,
              "#d8576b"
             ],
             [
              0.6666666666666666,
              "#ed7953"
             ],
             [
              0.7777777777777778,
              "#fb9f3a"
             ],
             [
              0.8888888888888888,
              "#fdca26"
             ],
             [
              1,
              "#f0f921"
             ]
            ],
            "type": "contour"
           }
          ],
          "contourcarpet": [
           {
            "colorbar": {
             "outlinewidth": 0,
             "ticks": ""
            },
            "type": "contourcarpet"
           }
          ],
          "heatmap": [
           {
            "colorbar": {
             "outlinewidth": 0,
             "ticks": ""
            },
            "colorscale": [
             [
              0,
              "#0d0887"
             ],
             [
              0.1111111111111111,
              "#46039f"
             ],
             [
              0.2222222222222222,
              "#7201a8"
             ],
             [
              0.3333333333333333,
              "#9c179e"
             ],
             [
              0.4444444444444444,
              "#bd3786"
             ],
             [
              0.5555555555555556,
              "#d8576b"
             ],
             [
              0.6666666666666666,
              "#ed7953"
             ],
             [
              0.7777777777777778,
              "#fb9f3a"
             ],
             [
              0.8888888888888888,
              "#fdca26"
             ],
             [
              1,
              "#f0f921"
             ]
            ],
            "type": "heatmap"
           }
          ],
          "histogram": [
           {
            "marker": {
             "pattern": {
              "fillmode": "overlay",
              "size": 10,
              "solidity": 0.2
             }
            },
            "type": "histogram"
           }
          ],
          "histogram2d": [
           {
            "colorbar": {
             "outlinewidth": 0,
             "ticks": ""
            },
            "colorscale": [
             [
              0,
              "#0d0887"
             ],
             [
              0.1111111111111111,
              "#46039f"
             ],
             [
              0.2222222222222222,
              "#7201a8"
             ],
             [
              0.3333333333333333,
              "#9c179e"
             ],
             [
              0.4444444444444444,
              "#bd3786"
             ],
             [
              0.5555555555555556,
              "#d8576b"
             ],
             [
              0.6666666666666666,
              "#ed7953"
             ],
             [
              0.7777777777777778,
              "#fb9f3a"
             ],
             [
              0.8888888888888888,
              "#fdca26"
             ],
             [
              1,
              "#f0f921"
             ]
            ],
            "type": "histogram2d"
           }
          ],
          "histogram2dcontour": [
           {
            "colorbar": {
             "outlinewidth": 0,
             "ticks": ""
            },
            "colorscale": [
             [
              0,
              "#0d0887"
             ],
             [
              0.1111111111111111,
              "#46039f"
             ],
             [
              0.2222222222222222,
              "#7201a8"
             ],
             [
              0.3333333333333333,
              "#9c179e"
             ],
             [
              0.4444444444444444,
              "#bd3786"
             ],
             [
              0.5555555555555556,
              "#d8576b"
             ],
             [
              0.6666666666666666,
              "#ed7953"
             ],
             [
              0.7777777777777778,
              "#fb9f3a"
             ],
             [
              0.8888888888888888,
              "#fdca26"
             ],
             [
              1,
              "#f0f921"
             ]
            ],
            "type": "histogram2dcontour"
           }
          ],
          "mesh3d": [
           {
            "colorbar": {
             "outlinewidth": 0,
             "ticks": ""
            },
            "type": "mesh3d"
           }
          ],
          "parcoords": [
           {
            "line": {
             "colorbar": {
              "outlinewidth": 0,
              "ticks": ""
             }
            },
            "type": "parcoords"
           }
          ],
          "pie": [
           {
            "automargin": true,
            "type": "pie"
           }
          ],
          "scatter": [
           {
            "fillpattern": {
             "fillmode": "overlay",
             "size": 10,
             "solidity": 0.2
            },
            "type": "scatter"
           }
          ],
          "scatter3d": [
           {
            "line": {
             "colorbar": {
              "outlinewidth": 0,
              "ticks": ""
             }
            },
            "marker": {
             "colorbar": {
              "outlinewidth": 0,
              "ticks": ""
             }
            },
            "type": "scatter3d"
           }
          ],
          "scattercarpet": [
           {
            "marker": {
             "colorbar": {
              "outlinewidth": 0,
              "ticks": ""
             }
            },
            "type": "scattercarpet"
           }
          ],
          "scattergeo": [
           {
            "marker": {
             "colorbar": {
              "outlinewidth": 0,
              "ticks": ""
             }
            },
            "type": "scattergeo"
           }
          ],
          "scattergl": [
           {
            "marker": {
             "colorbar": {
              "outlinewidth": 0,
              "ticks": ""
             }
            },
            "type": "scattergl"
           }
          ],
          "scattermap": [
           {
            "marker": {
             "colorbar": {
              "outlinewidth": 0,
              "ticks": ""
             }
            },
            "type": "scattermap"
           }
          ],
          "scattermapbox": [
           {
            "marker": {
             "colorbar": {
              "outlinewidth": 0,
              "ticks": ""
             }
            },
            "type": "scattermapbox"
           }
          ],
          "scatterpolar": [
           {
            "marker": {
             "colorbar": {
              "outlinewidth": 0,
              "ticks": ""
             }
            },
            "type": "scatterpolar"
           }
          ],
          "scatterpolargl": [
           {
            "marker": {
             "colorbar": {
              "outlinewidth": 0,
              "ticks": ""
             }
            },
            "type": "scatterpolargl"
           }
          ],
          "scatterternary": [
           {
            "marker": {
             "colorbar": {
              "outlinewidth": 0,
              "ticks": ""
             }
            },
            "type": "scatterternary"
           }
          ],
          "surface": [
           {
            "colorbar": {
             "outlinewidth": 0,
             "ticks": ""
            },
            "colorscale": [
             [
              0,
              "#0d0887"
             ],
             [
              0.1111111111111111,
              "#46039f"
             ],
             [
              0.2222222222222222,
              "#7201a8"
             ],
             [
              0.3333333333333333,
              "#9c179e"
             ],
             [
              0.4444444444444444,
              "#bd3786"
             ],
             [
              0.5555555555555556,
              "#d8576b"
             ],
             [
              0.6666666666666666,
              "#ed7953"
             ],
             [
              0.7777777777777778,
              "#fb9f3a"
             ],
             [
              0.8888888888888888,
              "#fdca26"
             ],
             [
              1,
              "#f0f921"
             ]
            ],
            "type": "surface"
           }
          ],
          "table": [
           {
            "cells": {
             "fill": {
              "color": "#EBF0F8"
             },
             "line": {
              "color": "white"
             }
            },
            "header": {
             "fill": {
              "color": "#C8D4E3"
             },
             "line": {
              "color": "white"
             }
            },
            "type": "table"
           }
          ]
         },
         "layout": {
          "annotationdefaults": {
           "arrowcolor": "#2a3f5f",
           "arrowhead": 0,
           "arrowwidth": 1
          },
          "autotypenumbers": "strict",
          "coloraxis": {
           "colorbar": {
            "outlinewidth": 0,
            "ticks": ""
           }
          },
          "colorscale": {
           "diverging": [
            [
             0,
             "#8e0152"
            ],
            [
             0.1,
             "#c51b7d"
            ],
            [
             0.2,
             "#de77ae"
            ],
            [
             0.3,
             "#f1b6da"
            ],
            [
             0.4,
             "#fde0ef"
            ],
            [
             0.5,
             "#f7f7f7"
            ],
            [
             0.6,
             "#e6f5d0"
            ],
            [
             0.7,
             "#b8e186"
            ],
            [
             0.8,
             "#7fbc41"
            ],
            [
             0.9,
             "#4d9221"
            ],
            [
             1,
             "#276419"
            ]
           ],
           "sequential": [
            [
             0,
             "#0d0887"
            ],
            [
             0.1111111111111111,
             "#46039f"
            ],
            [
             0.2222222222222222,
             "#7201a8"
            ],
            [
             0.3333333333333333,
             "#9c179e"
            ],
            [
             0.4444444444444444,
             "#bd3786"
            ],
            [
             0.5555555555555556,
             "#d8576b"
            ],
            [
             0.6666666666666666,
             "#ed7953"
            ],
            [
             0.7777777777777778,
             "#fb9f3a"
            ],
            [
             0.8888888888888888,
             "#fdca26"
            ],
            [
             1,
             "#f0f921"
            ]
           ],
           "sequentialminus": [
            [
             0,
             "#0d0887"
            ],
            [
             0.1111111111111111,
             "#46039f"
            ],
            [
             0.2222222222222222,
             "#7201a8"
            ],
            [
             0.3333333333333333,
             "#9c179e"
            ],
            [
             0.4444444444444444,
             "#bd3786"
            ],
            [
             0.5555555555555556,
             "#d8576b"
            ],
            [
             0.6666666666666666,
             "#ed7953"
            ],
            [
             0.7777777777777778,
             "#fb9f3a"
            ],
            [
             0.8888888888888888,
             "#fdca26"
            ],
            [
             1,
             "#f0f921"
            ]
           ]
          },
          "colorway": [
           "#636efa",
           "#EF553B",
           "#00cc96",
           "#ab63fa",
           "#FFA15A",
           "#19d3f3",
           "#FF6692",
           "#B6E880",
           "#FF97FF",
           "#FECB52"
          ],
          "font": {
           "color": "#2a3f5f"
          },
          "geo": {
           "bgcolor": "white",
           "lakecolor": "white",
           "landcolor": "#E5ECF6",
           "showlakes": true,
           "showland": true,
           "subunitcolor": "white"
          },
          "hoverlabel": {
           "align": "left"
          },
          "hovermode": "closest",
          "mapbox": {
           "style": "light"
          },
          "paper_bgcolor": "white",
          "plot_bgcolor": "#E5ECF6",
          "polar": {
           "angularaxis": {
            "gridcolor": "white",
            "linecolor": "white",
            "ticks": ""
           },
           "bgcolor": "#E5ECF6",
           "radialaxis": {
            "gridcolor": "white",
            "linecolor": "white",
            "ticks": ""
           }
          },
          "scene": {
           "xaxis": {
            "backgroundcolor": "#E5ECF6",
            "gridcolor": "white",
            "gridwidth": 2,
            "linecolor": "white",
            "showbackground": true,
            "ticks": "",
            "zerolinecolor": "white"
           },
           "yaxis": {
            "backgroundcolor": "#E5ECF6",
            "gridcolor": "white",
            "gridwidth": 2,
            "linecolor": "white",
            "showbackground": true,
            "ticks": "",
            "zerolinecolor": "white"
           },
           "zaxis": {
            "backgroundcolor": "#E5ECF6",
            "gridcolor": "white",
            "gridwidth": 2,
            "linecolor": "white",
            "showbackground": true,
            "ticks": "",
            "zerolinecolor": "white"
           }
          },
          "shapedefaults": {
           "line": {
            "color": "#2a3f5f"
           }
          },
          "ternary": {
           "aaxis": {
            "gridcolor": "white",
            "linecolor": "white",
            "ticks": ""
           },
           "baxis": {
            "gridcolor": "white",
            "linecolor": "white",
            "ticks": ""
           },
           "bgcolor": "#E5ECF6",
           "caxis": {
            "gridcolor": "white",
            "linecolor": "white",
            "ticks": ""
           }
          },
          "title": {
           "x": 0.05
          },
          "xaxis": {
           "automargin": true,
           "gridcolor": "white",
           "linecolor": "white",
           "ticks": "",
           "title": {
            "standoff": 15
           },
           "zerolinecolor": "white",
           "zerolinewidth": 2
          },
          "yaxis": {
           "automargin": true,
           "gridcolor": "white",
           "linecolor": "white",
           "ticks": "",
           "title": {
            "standoff": 15
           },
           "zerolinecolor": "white",
           "zerolinewidth": 2
          }
         }
        },
        "title": {
         "text": "Musical City Similarity Network<br>Connected cities share similar musical characteristics"
        },
        "xaxis": {
         "showgrid": false,
         "showticklabels": false,
         "zeroline": false
        },
        "yaxis": {
         "showgrid": false,
         "showticklabels": false,
         "zeroline": false
        }
       }
      },
      "text/html": [
       "<div>            <script src=\"https://cdnjs.cloudflare.com/ajax/libs/mathjax/2.7.5/MathJax.js?config=TeX-AMS-MML_SVG\"></script><script type=\"text/javascript\">if (window.MathJax && window.MathJax.Hub && window.MathJax.Hub.Config) {window.MathJax.Hub.Config({SVG: {font: \"STIX-Web\"}});}</script>                <script type=\"text/javascript\">window.PlotlyConfig = {MathJaxConfig: 'local'};</script>\n",
       "        <script charset=\"utf-8\" src=\"https://cdn.plot.ly/plotly-3.0.1.min.js\" integrity=\"sha256-oy6Be7Eh6eiQFs5M7oXuPxxm9qbJXEtTpfSI93dW16Q=\" crossorigin=\"anonymous\"></script>                <div id=\"2cc2956f-e9b5-4c7d-a80c-ba09c0549eeb\" class=\"plotly-graph-div\" style=\"height:525px; width:100%;\"></div>            <script type=\"text/javascript\">                window.PLOTLYENV=window.PLOTLYENV || {};                                if (document.getElementById(\"2cc2956f-e9b5-4c7d-a80c-ba09c0549eeb\")) {                    Plotly.newPlot(                        \"2cc2956f-e9b5-4c7d-a80c-ba09c0549eeb\",                        [{\"hoverinfo\":\"none\",\"line\":{\"color\":\"#888\",\"width\":0.5},\"mode\":\"lines\",\"x\":[-0.4295386078766217,0.17596925341265132,null,-0.4295386078766217,-0.24854462747280465,null,-0.4295386078766217,-0.8034731577866793,null,0.8554498437019843,-0.8933055229484478,null,0.8554498437019843,0.9587627750812839,null,-0.8933055229484478,0.9587627750812839,null,-0.8933055229484478,0.38468004388863386,null,0.17596925341265132,-0.24854462747280465,null,0.17596925341265132,-0.8034731577866793,null,-0.24854462747280465,-0.8034731577866793,null],\"y\":[0.841896578945992,0.8415662368612105,null,0.841896578945992,-1.0,null,0.841896578945992,-0.3552375443292698,null,0.4598739377707044,0.3226510232571779,null,0.4598739377707044,-0.3059653853102712,null,0.3226510232571779,-0.3059653853102712,null,0.3226510232571779,-0.804784847195544,null,0.8415662368612105,-1.0,null,0.8415662368612105,-0.3552375443292698,null,-1.0,-0.3552375443292698,null],\"type\":\"scatter\"},{\"hoverinfo\":\"text\",\"marker\":{\"color\":\"lightblue\",\"line\":{\"color\":\"white\",\"width\":2},\"size\":[50,40,50,50,50,40,50,30]},\"mode\":\"markers+text\",\"text\":[\"Nashville\",\"Los Angeles\",\"Chicago\",\"Miami\",\"New York\",\"Seattle\",\"Austin\",\"Atlanta\"],\"textposition\":\"middle center\",\"x\":[-0.4295386078766217,0.8554498437019843,-0.8933055229484478,0.17596925341265132,-0.24854462747280465,0.9587627750812839,-0.8034731577866793,0.38468004388863386],\"y\":[0.841896578945992,0.4598739377707044,0.3226510232571779,0.8415662368612105,-1.0,-0.3059653853102712,-0.3552375443292698,-0.804784847195544],\"type\":\"scatter\"}],                        {\"annotations\":[{\"font\":{\"color\":\"gray\",\"size\":12},\"showarrow\":false,\"text\":\"Node size = number of similar cities\\u003cbr\\u003eConnections = correlation \\u003e 0.3\",\"x\":0.005,\"xanchor\":\"left\",\"xref\":\"paper\",\"y\":-0.002,\"yanchor\":\"bottom\",\"yref\":\"paper\"}],\"font\":{\"size\":16},\"hovermode\":\"closest\",\"margin\":{\"b\":20,\"l\":5,\"r\":5,\"t\":40},\"showlegend\":false,\"title\":{\"text\":\"Musical City Similarity Network\\u003cbr\\u003eConnected cities share similar musical characteristics\"},\"xaxis\":{\"showgrid\":false,\"showticklabels\":false,\"zeroline\":false},\"yaxis\":{\"showgrid\":false,\"showticklabels\":false,\"zeroline\":false},\"template\":{\"data\":{\"histogram2dcontour\":[{\"type\":\"histogram2dcontour\",\"colorbar\":{\"outlinewidth\":0,\"ticks\":\"\"},\"colorscale\":[[0.0,\"#0d0887\"],[0.1111111111111111,\"#46039f\"],[0.2222222222222222,\"#7201a8\"],[0.3333333333333333,\"#9c179e\"],[0.4444444444444444,\"#bd3786\"],[0.5555555555555556,\"#d8576b\"],[0.6666666666666666,\"#ed7953\"],[0.7777777777777778,\"#fb9f3a\"],[0.8888888888888888,\"#fdca26\"],[1.0,\"#f0f921\"]]}],\"choropleth\":[{\"type\":\"choropleth\",\"colorbar\":{\"outlinewidth\":0,\"ticks\":\"\"}}],\"histogram2d\":[{\"type\":\"histogram2d\",\"colorbar\":{\"outlinewidth\":0,\"ticks\":\"\"},\"colorscale\":[[0.0,\"#0d0887\"],[0.1111111111111111,\"#46039f\"],[0.2222222222222222,\"#7201a8\"],[0.3333333333333333,\"#9c179e\"],[0.4444444444444444,\"#bd3786\"],[0.5555555555555556,\"#d8576b\"],[0.6666666666666666,\"#ed7953\"],[0.7777777777777778,\"#fb9f3a\"],[0.8888888888888888,\"#fdca26\"],[1.0,\"#f0f921\"]]}],\"heatmap\":[{\"type\":\"heatmap\",\"colorbar\":{\"outlinewidth\":0,\"ticks\":\"\"},\"colorscale\":[[0.0,\"#0d0887\"],[0.1111111111111111,\"#46039f\"],[0.2222222222222222,\"#7201a8\"],[0.3333333333333333,\"#9c179e\"],[0.4444444444444444,\"#bd3786\"],[0.5555555555555556,\"#d8576b\"],[0.6666666666666666,\"#ed7953\"],[0.7777777777777778,\"#fb9f3a\"],[0.8888888888888888,\"#fdca26\"],[1.0,\"#f0f921\"]]}],\"contourcarpet\":[{\"type\":\"contourcarpet\",\"colorbar\":{\"outlinewidth\":0,\"ticks\":\"\"}}],\"contour\":[{\"type\":\"contour\",\"colorbar\":{\"outlinewidth\":0,\"ticks\":\"\"},\"colorscale\":[[0.0,\"#0d0887\"],[0.1111111111111111,\"#46039f\"],[0.2222222222222222,\"#7201a8\"],[0.3333333333333333,\"#9c179e\"],[0.4444444444444444,\"#bd3786\"],[0.5555555555555556,\"#d8576b\"],[0.6666666666666666,\"#ed7953\"],[0.7777777777777778,\"#fb9f3a\"],[0.8888888888888888,\"#fdca26\"],[1.0,\"#f0f921\"]]}],\"surface\":[{\"type\":\"surface\",\"colorbar\":{\"outlinewidth\":0,\"ticks\":\"\"},\"colorscale\":[[0.0,\"#0d0887\"],[0.1111111111111111,\"#46039f\"],[0.2222222222222222,\"#7201a8\"],[0.3333333333333333,\"#9c179e\"],[0.4444444444444444,\"#bd3786\"],[0.5555555555555556,\"#d8576b\"],[0.6666666666666666,\"#ed7953\"],[0.7777777777777778,\"#fb9f3a\"],[0.8888888888888888,\"#fdca26\"],[1.0,\"#f0f921\"]]}],\"mesh3d\":[{\"type\":\"mesh3d\",\"colorbar\":{\"outlinewidth\":0,\"ticks\":\"\"}}],\"scatter\":[{\"fillpattern\":{\"fillmode\":\"overlay\",\"size\":10,\"solidity\":0.2},\"type\":\"scatter\"}],\"parcoords\":[{\"type\":\"parcoords\",\"line\":{\"colorbar\":{\"outlinewidth\":0,\"ticks\":\"\"}}}],\"scatterpolargl\":[{\"type\":\"scatterpolargl\",\"marker\":{\"colorbar\":{\"outlinewidth\":0,\"ticks\":\"\"}}}],\"bar\":[{\"error_x\":{\"color\":\"#2a3f5f\"},\"error_y\":{\"color\":\"#2a3f5f\"},\"marker\":{\"line\":{\"color\":\"#E5ECF6\",\"width\":0.5},\"pattern\":{\"fillmode\":\"overlay\",\"size\":10,\"solidity\":0.2}},\"type\":\"bar\"}],\"scattergeo\":[{\"type\":\"scattergeo\",\"marker\":{\"colorbar\":{\"outlinewidth\":0,\"ticks\":\"\"}}}],\"scatterpolar\":[{\"type\":\"scatterpolar\",\"marker\":{\"colorbar\":{\"outlinewidth\":0,\"ticks\":\"\"}}}],\"histogram\":[{\"marker\":{\"pattern\":{\"fillmode\":\"overlay\",\"size\":10,\"solidity\":0.2}},\"type\":\"histogram\"}],\"scattergl\":[{\"type\":\"scattergl\",\"marker\":{\"colorbar\":{\"outlinewidth\":0,\"ticks\":\"\"}}}],\"scatter3d\":[{\"type\":\"scatter3d\",\"line\":{\"colorbar\":{\"outlinewidth\":0,\"ticks\":\"\"}},\"marker\":{\"colorbar\":{\"outlinewidth\":0,\"ticks\":\"\"}}}],\"scattermap\":[{\"type\":\"scattermap\",\"marker\":{\"colorbar\":{\"outlinewidth\":0,\"ticks\":\"\"}}}],\"scattermapbox\":[{\"type\":\"scattermapbox\",\"marker\":{\"colorbar\":{\"outlinewidth\":0,\"ticks\":\"\"}}}],\"scatterternary\":[{\"type\":\"scatterternary\",\"marker\":{\"colorbar\":{\"outlinewidth\":0,\"ticks\":\"\"}}}],\"scattercarpet\":[{\"type\":\"scattercarpet\",\"marker\":{\"colorbar\":{\"outlinewidth\":0,\"ticks\":\"\"}}}],\"carpet\":[{\"aaxis\":{\"endlinecolor\":\"#2a3f5f\",\"gridcolor\":\"white\",\"linecolor\":\"white\",\"minorgridcolor\":\"white\",\"startlinecolor\":\"#2a3f5f\"},\"baxis\":{\"endlinecolor\":\"#2a3f5f\",\"gridcolor\":\"white\",\"linecolor\":\"white\",\"minorgridcolor\":\"white\",\"startlinecolor\":\"#2a3f5f\"},\"type\":\"carpet\"}],\"table\":[{\"cells\":{\"fill\":{\"color\":\"#EBF0F8\"},\"line\":{\"color\":\"white\"}},\"header\":{\"fill\":{\"color\":\"#C8D4E3\"},\"line\":{\"color\":\"white\"}},\"type\":\"table\"}],\"barpolar\":[{\"marker\":{\"line\":{\"color\":\"#E5ECF6\",\"width\":0.5},\"pattern\":{\"fillmode\":\"overlay\",\"size\":10,\"solidity\":0.2}},\"type\":\"barpolar\"}],\"pie\":[{\"automargin\":true,\"type\":\"pie\"}]},\"layout\":{\"autotypenumbers\":\"strict\",\"colorway\":[\"#636efa\",\"#EF553B\",\"#00cc96\",\"#ab63fa\",\"#FFA15A\",\"#19d3f3\",\"#FF6692\",\"#B6E880\",\"#FF97FF\",\"#FECB52\"],\"font\":{\"color\":\"#2a3f5f\"},\"hovermode\":\"closest\",\"hoverlabel\":{\"align\":\"left\"},\"paper_bgcolor\":\"white\",\"plot_bgcolor\":\"#E5ECF6\",\"polar\":{\"bgcolor\":\"#E5ECF6\",\"angularaxis\":{\"gridcolor\":\"white\",\"linecolor\":\"white\",\"ticks\":\"\"},\"radialaxis\":{\"gridcolor\":\"white\",\"linecolor\":\"white\",\"ticks\":\"\"}},\"ternary\":{\"bgcolor\":\"#E5ECF6\",\"aaxis\":{\"gridcolor\":\"white\",\"linecolor\":\"white\",\"ticks\":\"\"},\"baxis\":{\"gridcolor\":\"white\",\"linecolor\":\"white\",\"ticks\":\"\"},\"caxis\":{\"gridcolor\":\"white\",\"linecolor\":\"white\",\"ticks\":\"\"}},\"coloraxis\":{\"colorbar\":{\"outlinewidth\":0,\"ticks\":\"\"}},\"colorscale\":{\"sequential\":[[0.0,\"#0d0887\"],[0.1111111111111111,\"#46039f\"],[0.2222222222222222,\"#7201a8\"],[0.3333333333333333,\"#9c179e\"],[0.4444444444444444,\"#bd3786\"],[0.5555555555555556,\"#d8576b\"],[0.6666666666666666,\"#ed7953\"],[0.7777777777777778,\"#fb9f3a\"],[0.8888888888888888,\"#fdca26\"],[1.0,\"#f0f921\"]],\"sequentialminus\":[[0.0,\"#0d0887\"],[0.1111111111111111,\"#46039f\"],[0.2222222222222222,\"#7201a8\"],[0.3333333333333333,\"#9c179e\"],[0.4444444444444444,\"#bd3786\"],[0.5555555555555556,\"#d8576b\"],[0.6666666666666666,\"#ed7953\"],[0.7777777777777778,\"#fb9f3a\"],[0.8888888888888888,\"#fdca26\"],[1.0,\"#f0f921\"]],\"diverging\":[[0,\"#8e0152\"],[0.1,\"#c51b7d\"],[0.2,\"#de77ae\"],[0.3,\"#f1b6da\"],[0.4,\"#fde0ef\"],[0.5,\"#f7f7f7\"],[0.6,\"#e6f5d0\"],[0.7,\"#b8e186\"],[0.8,\"#7fbc41\"],[0.9,\"#4d9221\"],[1,\"#276419\"]]},\"xaxis\":{\"gridcolor\":\"white\",\"linecolor\":\"white\",\"ticks\":\"\",\"title\":{\"standoff\":15},\"zerolinecolor\":\"white\",\"automargin\":true,\"zerolinewidth\":2},\"yaxis\":{\"gridcolor\":\"white\",\"linecolor\":\"white\",\"ticks\":\"\",\"title\":{\"standoff\":15},\"zerolinecolor\":\"white\",\"automargin\":true,\"zerolinewidth\":2},\"scene\":{\"xaxis\":{\"backgroundcolor\":\"#E5ECF6\",\"gridcolor\":\"white\",\"linecolor\":\"white\",\"showbackground\":true,\"ticks\":\"\",\"zerolinecolor\":\"white\",\"gridwidth\":2},\"yaxis\":{\"backgroundcolor\":\"#E5ECF6\",\"gridcolor\":\"white\",\"linecolor\":\"white\",\"showbackground\":true,\"ticks\":\"\",\"zerolinecolor\":\"white\",\"gridwidth\":2},\"zaxis\":{\"backgroundcolor\":\"#E5ECF6\",\"gridcolor\":\"white\",\"linecolor\":\"white\",\"showbackground\":true,\"ticks\":\"\",\"zerolinecolor\":\"white\",\"gridwidth\":2}},\"shapedefaults\":{\"line\":{\"color\":\"#2a3f5f\"}},\"annotationdefaults\":{\"arrowcolor\":\"#2a3f5f\",\"arrowhead\":0,\"arrowwidth\":1},\"geo\":{\"bgcolor\":\"white\",\"landcolor\":\"#E5ECF6\",\"subunitcolor\":\"white\",\"showland\":true,\"showlakes\":true,\"lakecolor\":\"white\"},\"title\":{\"x\":0.05},\"mapbox\":{\"style\":\"light\"}}}},                        {\"responsive\": true}                    ).then(function(){\n",
       "                            \n",
       "var gd = document.getElementById('2cc2956f-e9b5-4c7d-a80c-ba09c0549eeb');\n",
       "var x = new MutationObserver(function (mutations, observer) {{\n",
       "        var display = window.getComputedStyle(gd).display;\n",
       "        if (!display || display === 'none') {{\n",
       "            console.log([gd, 'removed!']);\n",
       "            Plotly.purge(gd);\n",
       "            observer.disconnect();\n",
       "        }}\n",
       "}});\n",
       "\n",
       "// Listen for the removal of the full notebook cells\n",
       "var notebookContainer = gd.closest('#notebook-container');\n",
       "if (notebookContainer) {{\n",
       "    x.observe(notebookContainer, {childList: true});\n",
       "}}\n",
       "\n",
       "// Listen for the clearing of the current output cell\n",
       "var outputEl = gd.closest('.output');\n",
       "if (outputEl) {{\n",
       "    x.observe(outputEl, {childList: true});\n",
       "}}\n",
       "\n",
       "                        })                };            </script>        </div>"
      ]
     },
     "metadata": {},
     "output_type": "display_data"
    },
    {
     "name": "stdout",
     "output_type": "stream",
     "text": [
      "\n",
      "City Similarity Matrix:\n",
      "             Nashville  Los Angeles  Chicago  Miami  New York  Seattle  \\\n",
      "Nashville        1.000       -0.520   -0.793  0.585     0.351   -0.173   \n",
      "Los Angeles     -0.520        1.000    0.666 -0.804    -0.759    0.591   \n",
      "Chicago         -0.793        0.666    1.000 -0.800    -0.714    0.344   \n",
      "Miami            0.585       -0.804   -0.800  1.000     0.867   -0.788   \n",
      "New York         0.351       -0.759   -0.714  0.867     1.000   -0.624   \n",
      "Seattle         -0.173        0.591    0.344 -0.788    -0.624    1.000   \n",
      "Austin           0.604       -0.890   -0.712  0.811     0.570   -0.665   \n",
      "Atlanta         -0.645        0.286    0.644 -0.313    -0.415   -0.312   \n",
      "\n",
      "             Austin  Atlanta  \n",
      "Nashville     0.604   -0.645  \n",
      "Los Angeles  -0.890    0.286  \n",
      "Chicago      -0.712    0.644  \n",
      "Miami         0.811   -0.313  \n",
      "New York      0.570   -0.415  \n",
      "Seattle      -0.665   -0.312  \n",
      "Austin        1.000   -0.110  \n",
      "Atlanta      -0.110    1.000  \n"
     ]
    }
   ],
   "source": [
    "#city similarity network\n",
    "print('\\nCreating City Similarity Network...')\n",
    "\n",
    "network_fig, similarity_matrix = create_city_similarity_network(df)\n",
    "network_fig.show()\n",
    "\n",
    "print('\\nCity Similarity Matrix:')\n",
    "cities = df['city'].unique()\n",
    "similarity_df = pd.DataFrame(similarity_matrix, index=cities, columns=cities)\n",
    "print(similarity_df.round(3))"
   ]
  },
  {
   "cell_type": "code",
   "execution_count": 58,
   "id": "e08b2ee0",
   "metadata": {},
   "outputs": [
    {
     "name": "stdout",
     "output_type": "stream",
     "text": [
      "\n",
      "Creating Temporal Evolution Map...\n",
      "==================================================\n"
     ]
    },
    {
     "data": {
      "application/vnd.plotly.v1+json": {
       "config": {
        "plotlyServerURL": "https://plot.ly"
       },
       "data": [
        {
         "customdata": {
          "bdata": "AAAAAAAA8D8AAAAAAADwPw==",
          "dtype": "f8",
          "shape": "1, 2"
         },
         "hovertemplate": "<b>%{hovertext}</b><br><br>city=Nashville<br>decade=1990.0<br>Average Artist Popularity=%{x}<br>Average Track Popularity=%{y}<br>Number of Tracks=%{customdata[0]}<br>avg_genre_diversity=%{customdata[1]}<extra></extra>",
         "hovertext": [
          "Nashville"
         ],
         "legendgroup": "Nashville",
         "marker": {
          "color": "#636efa",
          "size": {
           "bdata": "AAAAAAAA8D8=",
           "dtype": "f8"
          },
          "sizemode": "area",
          "sizeref": 0.2875,
          "symbol": "circle"
         },
         "mode": "markers",
         "name": "Nashville",
         "orientation": "v",
         "showlegend": true,
         "type": "scatter",
         "x": {
          "bdata": "AAAAAADAUkA=",
          "dtype": "f8"
         },
         "xaxis": "x",
         "y": {
          "bdata": "AAAAAAAAU0A=",
          "dtype": "f8"
         },
         "yaxis": "y"
        },
        {
         "customdata": {
          "bdata": "AAAAAAAARkAAAAAAAAAQQA==",
          "dtype": "f8",
          "shape": "1, 2"
         },
         "hovertemplate": "<b>%{hovertext}</b><br><br>city=Los Angeles<br>decade=1990.0<br>Average Artist Popularity=%{x}<br>Average Track Popularity=%{y}<br>Number of Tracks=%{customdata[0]}<br>avg_genre_diversity=%{customdata[1]}<extra></extra>",
         "hovertext": [
          "Los Angeles"
         ],
         "legendgroup": "Los Angeles",
         "marker": {
          "color": "#EF553B",
          "size": {
           "bdata": "AAAAAAAARkA=",
           "dtype": "f8"
          },
          "sizemode": "area",
          "sizeref": 0.2875,
          "symbol": "circle"
         },
         "mode": "markers",
         "name": "Los Angeles",
         "orientation": "v",
         "showlegend": true,
         "type": "scatter",
         "x": {
          "bdata": "L7rooou+UUA=",
          "dtype": "f8"
         },
         "xaxis": "x",
         "y": {
          "bdata": "uuiiiy5aSEA=",
          "dtype": "f8"
         },
         "yaxis": "y"
        },
        {
         "customdata": {
          "bdata": "AAAAAAAAMkCO4ziO4zgCQA==",
          "dtype": "f8",
          "shape": "1, 2"
         },
         "hovertemplate": "<b>%{hovertext}</b><br><br>city=Chicago<br>decade=1990.0<br>Average Artist Popularity=%{x}<br>Average Track Popularity=%{y}<br>Number of Tracks=%{customdata[0]}<br>avg_genre_diversity=%{customdata[1]}<extra></extra>",
         "hovertext": [
          "Chicago"
         ],
         "legendgroup": "Chicago",
         "marker": {
          "color": "#00cc96",
          "size": {
           "bdata": "AAAAAAAAMkA=",
           "dtype": "f8"
          },
          "sizemode": "area",
          "sizeref": 0.2875,
          "symbol": "circle"
         },
         "mode": "markers",
         "name": "Chicago",
         "orientation": "v",
         "showlegend": true,
         "type": "scatter",
         "x": {
          "bdata": "HMdxHMfxQkA=",
          "dtype": "f8"
         },
         "xaxis": "x",
         "y": {
          "bdata": "VVVVVVWVQEA=",
          "dtype": "f8"
         },
         "yaxis": "y"
        },
        {
         "customdata": {
          "bdata": "AAAAAAAAAEAAAAAAAAAAAA==",
          "dtype": "f8",
          "shape": "1, 2"
         },
         "hovertemplate": "<b>%{hovertext}</b><br><br>city=Miami<br>decade=1990.0<br>Average Artist Popularity=%{x}<br>Average Track Popularity=%{y}<br>Number of Tracks=%{customdata[0]}<br>avg_genre_diversity=%{customdata[1]}<extra></extra>",
         "hovertext": [
          "Miami"
         ],
         "legendgroup": "Miami",
         "marker": {
          "color": "#ab63fa",
          "size": {
           "bdata": "AAAAAAAAAEA=",
           "dtype": "f8"
          },
          "sizemode": "area",
          "sizeref": 0.2875,
          "symbol": "circle"
         },
         "mode": "markers",
         "name": "Miami",
         "orientation": "v",
         "showlegend": true,
         "type": "scatter",
         "x": {
          "bdata": "AAAAAADAUkA=",
          "dtype": "f8"
         },
         "xaxis": "x",
         "y": {
          "bdata": "AAAAAABAU0A=",
          "dtype": "f8"
         },
         "yaxis": "y"
        },
        {
         "customdata": {
          "bdata": "AAAAAAAAAEAAAAAAAADgPw==",
          "dtype": "f8",
          "shape": "1, 2"
         },
         "hovertemplate": "<b>%{hovertext}</b><br><br>city=New York<br>decade=1990.0<br>Average Artist Popularity=%{x}<br>Average Track Popularity=%{y}<br>Number of Tracks=%{customdata[0]}<br>avg_genre_diversity=%{customdata[1]}<extra></extra>",
         "hovertext": [
          "New York"
         ],
         "legendgroup": "New York",
         "marker": {
          "color": "#FFA15A",
          "size": {
           "bdata": "AAAAAAAAAEA=",
           "dtype": "f8"
          },
          "sizemode": "area",
          "sizeref": 0.2875,
          "symbol": "circle"
         },
         "mode": "markers",
         "name": "New York",
         "orientation": "v",
         "showlegend": true,
         "type": "scatter",
         "x": {
          "bdata": "AAAAAADAUkA=",
          "dtype": "f8"
         },
         "xaxis": "x",
         "y": {
          "bdata": "AAAAAAAgVUA=",
          "dtype": "f8"
         },
         "yaxis": "y"
        },
        {
         "customdata": {
          "bdata": "AAAAAADAUEA1JtIDlbMDQA==",
          "dtype": "f8",
          "shape": "1, 2"
         },
         "hovertemplate": "<b>%{hovertext}</b><br><br>city=Seattle<br>decade=1990.0<br>Average Artist Popularity=%{x}<br>Average Track Popularity=%{y}<br>Number of Tracks=%{customdata[0]}<br>avg_genre_diversity=%{customdata[1]}<extra></extra>",
         "hovertext": [
          "Seattle"
         ],
         "legendgroup": "Seattle",
         "marker": {
          "color": "#19d3f3",
          "size": {
           "bdata": "AAAAAADAUEA=",
           "dtype": "f8"
          },
          "sizemode": "area",
          "sizeref": 0.2875,
          "symbol": "circle"
         },
         "mode": "markers",
         "name": "Seattle",
         "orientation": "v",
         "showlegend": true,
         "type": "scatter",
         "x": {
          "bdata": "y9kt/GrMUUA=",
          "dtype": "f8"
         },
         "xaxis": "x",
         "y": {
          "bdata": "zm7hV2MiQkA=",
          "dtype": "f8"
         },
         "yaxis": "y"
        },
        {
         "customdata": {
          "bdata": "AAAAAAAAFEAAAAAAAAAIQA==",
          "dtype": "f8",
          "shape": "1, 2"
         },
         "hovertemplate": "<b>%{hovertext}</b><br><br>city=Atlanta<br>decade=1990.0<br>Average Artist Popularity=%{x}<br>Average Track Popularity=%{y}<br>Number of Tracks=%{customdata[0]}<br>avg_genre_diversity=%{customdata[1]}<extra></extra>",
         "hovertext": [
          "Atlanta"
         ],
         "legendgroup": "Atlanta",
         "marker": {
          "color": "#B6E880",
          "size": {
           "bdata": "AAAAAAAAFEA=",
           "dtype": "f8"
          },
          "sizemode": "area",
          "sizeref": 0.2875,
          "symbol": "circle"
         },
         "mode": "markers",
         "name": "Atlanta",
         "orientation": "v",
         "showlegend": true,
         "type": "scatter",
         "x": {
          "bdata": "zczMzMwMUkA=",
          "dtype": "f8"
         },
         "xaxis": "x",
         "y": {
          "bdata": "ZmZmZmYmUUA=",
          "dtype": "f8"
         },
         "yaxis": "y"
        }
       ],
       "frames": [
        {
         "data": [
          {
           "customdata": {
            "bdata": "AAAAAAAA8D8AAAAAAADwPw==",
            "dtype": "f8",
            "shape": "1, 2"
           },
           "hovertemplate": "<b>%{hovertext}</b><br><br>city=Nashville<br>decade=1990.0<br>Average Artist Popularity=%{x}<br>Average Track Popularity=%{y}<br>Number of Tracks=%{customdata[0]}<br>avg_genre_diversity=%{customdata[1]}<extra></extra>",
           "hovertext": [
            "Nashville"
           ],
           "legendgroup": "Nashville",
           "marker": {
            "color": "#636efa",
            "size": {
             "bdata": "AAAAAAAA8D8=",
             "dtype": "f8"
            },
            "sizemode": "area",
            "sizeref": 0.2875,
            "symbol": "circle"
           },
           "mode": "markers",
           "name": "Nashville",
           "orientation": "v",
           "showlegend": true,
           "type": "scatter",
           "x": {
            "bdata": "AAAAAADAUkA=",
            "dtype": "f8"
           },
           "xaxis": "x",
           "y": {
            "bdata": "AAAAAAAAU0A=",
            "dtype": "f8"
           },
           "yaxis": "y"
          },
          {
           "customdata": {
            "bdata": "AAAAAAAARkAAAAAAAAAQQA==",
            "dtype": "f8",
            "shape": "1, 2"
           },
           "hovertemplate": "<b>%{hovertext}</b><br><br>city=Los Angeles<br>decade=1990.0<br>Average Artist Popularity=%{x}<br>Average Track Popularity=%{y}<br>Number of Tracks=%{customdata[0]}<br>avg_genre_diversity=%{customdata[1]}<extra></extra>",
           "hovertext": [
            "Los Angeles"
           ],
           "legendgroup": "Los Angeles",
           "marker": {
            "color": "#EF553B",
            "size": {
             "bdata": "AAAAAAAARkA=",
             "dtype": "f8"
            },
            "sizemode": "area",
            "sizeref": 0.2875,
            "symbol": "circle"
           },
           "mode": "markers",
           "name": "Los Angeles",
           "orientation": "v",
           "showlegend": true,
           "type": "scatter",
           "x": {
            "bdata": "L7rooou+UUA=",
            "dtype": "f8"
           },
           "xaxis": "x",
           "y": {
            "bdata": "uuiiiy5aSEA=",
            "dtype": "f8"
           },
           "yaxis": "y"
          },
          {
           "customdata": {
            "bdata": "AAAAAAAAMkCO4ziO4zgCQA==",
            "dtype": "f8",
            "shape": "1, 2"
           },
           "hovertemplate": "<b>%{hovertext}</b><br><br>city=Chicago<br>decade=1990.0<br>Average Artist Popularity=%{x}<br>Average Track Popularity=%{y}<br>Number of Tracks=%{customdata[0]}<br>avg_genre_diversity=%{customdata[1]}<extra></extra>",
           "hovertext": [
            "Chicago"
           ],
           "legendgroup": "Chicago",
           "marker": {
            "color": "#00cc96",
            "size": {
             "bdata": "AAAAAAAAMkA=",
             "dtype": "f8"
            },
            "sizemode": "area",
            "sizeref": 0.2875,
            "symbol": "circle"
           },
           "mode": "markers",
           "name": "Chicago",
           "orientation": "v",
           "showlegend": true,
           "type": "scatter",
           "x": {
            "bdata": "HMdxHMfxQkA=",
            "dtype": "f8"
           },
           "xaxis": "x",
           "y": {
            "bdata": "VVVVVVWVQEA=",
            "dtype": "f8"
           },
           "yaxis": "y"
          },
          {
           "customdata": {
            "bdata": "AAAAAAAAAEAAAAAAAAAAAA==",
            "dtype": "f8",
            "shape": "1, 2"
           },
           "hovertemplate": "<b>%{hovertext}</b><br><br>city=Miami<br>decade=1990.0<br>Average Artist Popularity=%{x}<br>Average Track Popularity=%{y}<br>Number of Tracks=%{customdata[0]}<br>avg_genre_diversity=%{customdata[1]}<extra></extra>",
           "hovertext": [
            "Miami"
           ],
           "legendgroup": "Miami",
           "marker": {
            "color": "#ab63fa",
            "size": {
             "bdata": "AAAAAAAAAEA=",
             "dtype": "f8"
            },
            "sizemode": "area",
            "sizeref": 0.2875,
            "symbol": "circle"
           },
           "mode": "markers",
           "name": "Miami",
           "orientation": "v",
           "showlegend": true,
           "type": "scatter",
           "x": {
            "bdata": "AAAAAADAUkA=",
            "dtype": "f8"
           },
           "xaxis": "x",
           "y": {
            "bdata": "AAAAAABAU0A=",
            "dtype": "f8"
           },
           "yaxis": "y"
          },
          {
           "customdata": {
            "bdata": "AAAAAAAAAEAAAAAAAADgPw==",
            "dtype": "f8",
            "shape": "1, 2"
           },
           "hovertemplate": "<b>%{hovertext}</b><br><br>city=New York<br>decade=1990.0<br>Average Artist Popularity=%{x}<br>Average Track Popularity=%{y}<br>Number of Tracks=%{customdata[0]}<br>avg_genre_diversity=%{customdata[1]}<extra></extra>",
           "hovertext": [
            "New York"
           ],
           "legendgroup": "New York",
           "marker": {
            "color": "#FFA15A",
            "size": {
             "bdata": "AAAAAAAAAEA=",
             "dtype": "f8"
            },
            "sizemode": "area",
            "sizeref": 0.2875,
            "symbol": "circle"
           },
           "mode": "markers",
           "name": "New York",
           "orientation": "v",
           "showlegend": true,
           "type": "scatter",
           "x": {
            "bdata": "AAAAAADAUkA=",
            "dtype": "f8"
           },
           "xaxis": "x",
           "y": {
            "bdata": "AAAAAAAgVUA=",
            "dtype": "f8"
           },
           "yaxis": "y"
          },
          {
           "customdata": {
            "bdata": "AAAAAADAUEA1JtIDlbMDQA==",
            "dtype": "f8",
            "shape": "1, 2"
           },
           "hovertemplate": "<b>%{hovertext}</b><br><br>city=Seattle<br>decade=1990.0<br>Average Artist Popularity=%{x}<br>Average Track Popularity=%{y}<br>Number of Tracks=%{customdata[0]}<br>avg_genre_diversity=%{customdata[1]}<extra></extra>",
           "hovertext": [
            "Seattle"
           ],
           "legendgroup": "Seattle",
           "marker": {
            "color": "#19d3f3",
            "size": {
             "bdata": "AAAAAADAUEA=",
             "dtype": "f8"
            },
            "sizemode": "area",
            "sizeref": 0.2875,
            "symbol": "circle"
           },
           "mode": "markers",
           "name": "Seattle",
           "orientation": "v",
           "showlegend": true,
           "type": "scatter",
           "x": {
            "bdata": "y9kt/GrMUUA=",
            "dtype": "f8"
           },
           "xaxis": "x",
           "y": {
            "bdata": "zm7hV2MiQkA=",
            "dtype": "f8"
           },
           "yaxis": "y"
          },
          {
           "customdata": {
            "bdata": "AAAAAAAAFEAAAAAAAAAIQA==",
            "dtype": "f8",
            "shape": "1, 2"
           },
           "hovertemplate": "<b>%{hovertext}</b><br><br>city=Atlanta<br>decade=1990.0<br>Average Artist Popularity=%{x}<br>Average Track Popularity=%{y}<br>Number of Tracks=%{customdata[0]}<br>avg_genre_diversity=%{customdata[1]}<extra></extra>",
           "hovertext": [
            "Atlanta"
           ],
           "legendgroup": "Atlanta",
           "marker": {
            "color": "#B6E880",
            "size": {
             "bdata": "AAAAAAAAFEA=",
             "dtype": "f8"
            },
            "sizemode": "area",
            "sizeref": 0.2875,
            "symbol": "circle"
           },
           "mode": "markers",
           "name": "Atlanta",
           "orientation": "v",
           "showlegend": true,
           "type": "scatter",
           "x": {
            "bdata": "zczMzMwMUkA=",
            "dtype": "f8"
           },
           "xaxis": "x",
           "y": {
            "bdata": "ZmZmZmYmUUA=",
            "dtype": "f8"
           },
           "yaxis": "y"
          }
         ],
         "name": "1990.0"
        },
        {
         "data": [
          {
           "customdata": {
            "bdata": "AAAAAAAANEAAAAAAAAAAQA==",
            "dtype": "f8",
            "shape": "1, 2"
           },
           "hovertemplate": "<b>%{hovertext}</b><br><br>city=Nashville<br>decade=2000.0<br>Average Artist Popularity=%{x}<br>Average Track Popularity=%{y}<br>Number of Tracks=%{customdata[0]}<br>avg_genre_diversity=%{customdata[1]}<extra></extra>",
           "hovertext": [
            "Nashville"
           ],
           "legendgroup": "Nashville",
           "marker": {
            "color": "#636efa",
            "size": {
             "bdata": "AAAAAAAANEA=",
             "dtype": "f8"
            },
            "sizemode": "area",
            "sizeref": 0.2875,
            "symbol": "circle"
           },
           "mode": "markers",
           "name": "Nashville",
           "orientation": "v",
           "showlegend": true,
           "type": "scatter",
           "x": {
            "bdata": "mpmZmZn5UUA=",
            "dtype": "f8"
           },
           "xaxis": "x",
           "y": {
            "bdata": "zczMzMwsSUA=",
            "dtype": "f8"
           },
           "yaxis": "y"
          },
          {
           "customdata": {
            "bdata": "AAAAAACAQUB8xVd8xVcMQA==",
            "dtype": "f8",
            "shape": "1, 2"
           },
           "hovertemplate": "<b>%{hovertext}</b><br><br>city=Los Angeles<br>decade=2000.0<br>Average Artist Popularity=%{x}<br>Average Track Popularity=%{y}<br>Number of Tracks=%{customdata[0]}<br>avg_genre_diversity=%{customdata[1]}<extra></extra>",
           "hovertext": [
            "Los Angeles"
           ],
           "legendgroup": "Los Angeles",
           "marker": {
            "color": "#EF553B",
            "size": {
             "bdata": "AAAAAACAQUA=",
             "dtype": "f8"
            },
            "sizemode": "area",
            "sizeref": 0.2875,
            "symbol": "circle"
           },
           "mode": "markers",
           "name": "Los Angeles",
           "orientation": "v",
           "showlegend": true,
           "type": "scatter",
           "x": {
            "bdata": "WHzFV3xFTkA=",
            "dtype": "f8"
           },
           "xaxis": "x",
           "y": {
            "bdata": "btu2bdu2PEA=",
            "dtype": "f8"
           },
           "yaxis": "y"
          },
          {
           "customdata": {
            "bdata": "AAAAAAAAMUBaWlpaWlr6Pw==",
            "dtype": "f8",
            "shape": "1, 2"
           },
           "hovertemplate": "<b>%{hovertext}</b><br><br>city=Chicago<br>decade=2000.0<br>Average Artist Popularity=%{x}<br>Average Track Popularity=%{y}<br>Number of Tracks=%{customdata[0]}<br>avg_genre_diversity=%{customdata[1]}<extra></extra>",
           "hovertext": [
            "Chicago"
           ],
           "legendgroup": "Chicago",
           "marker": {
            "color": "#00cc96",
            "size": {
             "bdata": "AAAAAAAAMUA=",
             "dtype": "f8"
            },
            "sizemode": "area",
            "sizeref": 0.2875,
            "symbol": "circle"
           },
           "mode": "markers",
           "name": "Chicago",
           "orientation": "v",
           "showlegend": true,
           "type": "scatter",
           "x": {
            "bdata": "pqWlpaUlR0A=",
            "dtype": "f8"
           },
           "xaxis": "x",
           "y": {
            "bdata": "8fDw8PBwREA=",
            "dtype": "f8"
           },
           "yaxis": "y"
          },
          {
           "customdata": {
            "bdata": "AAAAAACAQkCYIp91gyniPw==",
            "dtype": "f8",
            "shape": "1, 2"
           },
           "hovertemplate": "<b>%{hovertext}</b><br><br>city=Miami<br>decade=2000.0<br>Average Artist Popularity=%{x}<br>Average Track Popularity=%{y}<br>Number of Tracks=%{customdata[0]}<br>avg_genre_diversity=%{customdata[1]}<extra></extra>",
           "hovertext": [
            "Miami"
           ],
           "legendgroup": "Miami",
           "marker": {
            "color": "#ab63fa",
            "size": {
             "bdata": "AAAAAACAQkA=",
             "dtype": "f8"
            },
            "sizemode": "area",
            "sizeref": 0.2875,
            "symbol": "circle"
           },
           "mode": "markers",
           "name": "Miami",
           "orientation": "v",
           "showlegend": true,
           "type": "scatter",
           "x": {
            "bdata": "AAAAAADAVEA=",
            "dtype": "f8"
           },
           "xaxis": "x",
           "y": {
            "bdata": "3WCKfNZNU0A=",
            "dtype": "f8"
           },
           "yaxis": "y"
          },
          {
           "customdata": {
            "bdata": "AAAAAAAAQUDT0tLS0tLyPw==",
            "dtype": "f8",
            "shape": "1, 2"
           },
           "hovertemplate": "<b>%{hovertext}</b><br><br>city=New York<br>decade=2000.0<br>Average Artist Popularity=%{x}<br>Average Track Popularity=%{y}<br>Number of Tracks=%{customdata[0]}<br>avg_genre_diversity=%{customdata[1]}<extra></extra>",
           "hovertext": [
            "New York"
           ],
           "legendgroup": "New York",
           "marker": {
            "color": "#FFA15A",
            "size": {
             "bdata": "AAAAAAAAQUA=",
             "dtype": "f8"
            },
            "sizemode": "area",
            "sizeref": 0.2875,
            "symbol": "circle"
           },
           "mode": "markers",
           "name": "New York",
           "orientation": "v",
           "showlegend": true,
           "type": "scatter",
           "x": {
            "bdata": "l5aWlpZ2VUA=",
            "dtype": "f8"
           },
           "xaxis": "x",
           "y": {
            "bdata": "09LS0tISVEA=",
            "dtype": "f8"
           },
           "yaxis": "y"
          },
          {
           "customdata": {
            "bdata": "AAAAAAAAOUCF61G4HoULQA==",
            "dtype": "f8",
            "shape": "1, 2"
           },
           "hovertemplate": "<b>%{hovertext}</b><br><br>city=Seattle<br>decade=2000.0<br>Average Artist Popularity=%{x}<br>Average Track Popularity=%{y}<br>Number of Tracks=%{customdata[0]}<br>avg_genre_diversity=%{customdata[1]}<extra></extra>",
           "hovertext": [
            "Seattle"
           ],
           "legendgroup": "Seattle",
           "marker": {
            "color": "#19d3f3",
            "size": {
             "bdata": "AAAAAAAAOUA=",
             "dtype": "f8"
            },
            "sizemode": "area",
            "sizeref": 0.2875,
            "symbol": "circle"
           },
           "mode": "markers",
           "name": "Seattle",
           "orientation": "v",
           "showlegend": true,
           "type": "scatter",
           "x": {
            "bdata": "PQrXo3A9UEA=",
            "dtype": "f8"
           },
           "xaxis": "x",
           "y": {
            "bdata": "cT0K16NwQUA=",
            "dtype": "f8"
           },
           "yaxis": "y"
          },
          {
           "customdata": {
            "bdata": "AAAAAAAAMEAAAAAAAADyPw==",
            "dtype": "f8",
            "shape": "1, 2"
           },
           "hovertemplate": "<b>%{hovertext}</b><br><br>city=Austin<br>decade=2000.0<br>Average Artist Popularity=%{x}<br>Average Track Popularity=%{y}<br>Number of Tracks=%{customdata[0]}<br>avg_genre_diversity=%{customdata[1]}<extra></extra>",
           "hovertext": [
            "Austin"
           ],
           "legendgroup": "Austin",
           "marker": {
            "color": "#FF6692",
            "size": {
             "bdata": "AAAAAAAAMEA=",
             "dtype": "f8"
            },
            "sizemode": "area",
            "sizeref": 0.2875,
            "symbol": "circle"
           },
           "mode": "markers",
           "name": "Austin",
           "orientation": "v",
           "showlegend": true,
           "type": "scatter",
           "x": {
            "bdata": "AAAAAACYU0A=",
            "dtype": "f8"
           },
           "xaxis": "x",
           "y": {
            "bdata": "AAAAAAB0UkA=",
            "dtype": "f8"
           },
           "yaxis": "y"
          },
          {
           "customdata": {
            "bdata": "AAAAAABAVUAbGxsbGxv7Pw==",
            "dtype": "f8",
            "shape": "1, 2"
           },
           "hovertemplate": "<b>%{hovertext}</b><br><br>city=Atlanta<br>decade=2000.0<br>Average Artist Popularity=%{x}<br>Average Track Popularity=%{y}<br>Number of Tracks=%{customdata[0]}<br>avg_genre_diversity=%{customdata[1]}<extra></extra>",
           "hovertext": [
            "Atlanta"
           ],
           "legendgroup": "Atlanta",
           "marker": {
            "color": "#B6E880",
            "size": {
             "bdata": "AAAAAABAVUA=",
             "dtype": "f8"
            },
            "sizemode": "area",
            "sizeref": 0.2875,
            "symbol": "circle"
           },
           "mode": "markers",
           "name": "Atlanta",
           "orientation": "v",
           "showlegend": true,
           "type": "scatter",
           "x": {
            "bdata": "3Nvb29sbUEA=",
            "dtype": "f8"
           },
           "xaxis": "x",
           "y": {
            "bdata": "DAwMDAyMS0A=",
            "dtype": "f8"
           },
           "yaxis": "y"
          }
         ],
         "name": "2000.0"
        },
        {
         "data": [
          {
           "customdata": {
            "bdata": "AAAAAADAW0B49MrYfkf/Pw==",
            "dtype": "f8",
            "shape": "1, 2"
           },
           "hovertemplate": "<b>%{hovertext}</b><br><br>city=Nashville<br>decade=2010.0<br>Average Artist Popularity=%{x}<br>Average Track Popularity=%{y}<br>Number of Tracks=%{customdata[0]}<br>avg_genre_diversity=%{customdata[1]}<extra></extra>",
           "hovertext": [
            "Nashville"
           ],
           "legendgroup": "Nashville",
           "marker": {
            "color": "#636efa",
            "size": {
             "bdata": "AAAAAADAW0A=",
             "dtype": "f8"
            },
            "sizemode": "area",
            "sizeref": 0.2875,
            "symbol": "circle"
           },
           "mode": "markers",
           "name": "Nashville",
           "orientation": "v",
           "showlegend": true,
           "type": "scatter",
           "x": {
            "bdata": "J4G4UHMSU0A=",
            "dtype": "f8"
           },
           "xaxis": "x",
           "y": {
            "bdata": "DDUngbjQSEA=",
            "dtype": "f8"
           },
           "yaxis": "y"
          },
          {
           "customdata": {
            "bdata": "AAAAAACARECQwfkYnI/xPw==",
            "dtype": "f8",
            "shape": "1, 2"
           },
           "hovertemplate": "<b>%{hovertext}</b><br><br>city=Los Angeles<br>decade=2010.0<br>Average Artist Popularity=%{x}<br>Average Track Popularity=%{y}<br>Number of Tracks=%{customdata[0]}<br>avg_genre_diversity=%{customdata[1]}<extra></extra>",
           "hovertext": [
            "Los Angeles"
           ],
           "legendgroup": "Los Angeles",
           "marker": {
            "color": "#EF553B",
            "size": {
             "bdata": "AAAAAACAREA=",
             "dtype": "f8"
            },
            "sizemode": "area",
            "sizeref": 0.2875,
            "symbol": "circle"
           },
           "mode": "markers",
           "name": "Los Angeles",
           "orientation": "v",
           "showlegend": true,
           "type": "scatter",
           "x": {
            "bdata": "uxK1K1E7UEA=",
            "dtype": "f8"
           },
           "xaxis": "x",
           "y": {
            "bdata": "Mjgfg/MxQUA=",
            "dtype": "f8"
           },
           "yaxis": "y"
          },
          {
           "customdata": {
            "bdata": "AAAAAABAVkCWrGQlK1kBQA==",
            "dtype": "f8",
            "shape": "1, 2"
           },
           "hovertemplate": "<b>%{hovertext}</b><br><br>city=Chicago<br>decade=2010.0<br>Average Artist Popularity=%{x}<br>Average Track Popularity=%{y}<br>Number of Tracks=%{customdata[0]}<br>avg_genre_diversity=%{customdata[1]}<extra></extra>",
           "hovertext": [
            "Chicago"
           ],
           "legendgroup": "Chicago",
           "marker": {
            "color": "#00cc96",
            "size": {
             "bdata": "AAAAAABAVkA=",
             "dtype": "f8"
            },
            "sizemode": "area",
            "sizeref": 0.2875,
            "symbol": "circle"
           },
           "mode": "markers",
           "name": "Chicago",
           "orientation": "v",
           "showlegend": true,
           "type": "scatter",
           "x": {
            "bdata": "6Uc/+tEPTEA=",
            "dtype": "f8"
           },
           "xaxis": "x",
           "y": {
            "bdata": "alOb2tSmM0A=",
            "dtype": "f8"
           },
           "yaxis": "y"
          },
          {
           "customdata": {
            "bdata": "AAAAAAAAUEAAAAAAAIDkPw==",
            "dtype": "f8",
            "shape": "1, 2"
           },
           "hovertemplate": "<b>%{hovertext}</b><br><br>city=Miami<br>decade=2010.0<br>Average Artist Popularity=%{x}<br>Average Track Popularity=%{y}<br>Number of Tracks=%{customdata[0]}<br>avg_genre_diversity=%{customdata[1]}<extra></extra>",
           "hovertext": [
            "Miami"
           ],
           "legendgroup": "Miami",
           "marker": {
            "color": "#ab63fa",
            "size": {
             "bdata": "AAAAAAAAUEA=",
             "dtype": "f8"
            },
            "sizemode": "area",
            "sizeref": 0.2875,
            "symbol": "circle"
           },
           "mode": "markers",
           "name": "Miami",
           "orientation": "v",
           "showlegend": true,
           "type": "scatter",
           "x": {
            "bdata": "AAAAAADSVEA=",
            "dtype": "f8"
           },
           "xaxis": "x",
           "y": {
            "bdata": "AAAAAAD9UkA=",
            "dtype": "f8"
           },
           "yaxis": "y"
          },
          {
           "customdata": {
            "bdata": "AAAAAACAW0AXXXTRRRfdPw==",
            "dtype": "f8",
            "shape": "1, 2"
           },
           "hovertemplate": "<b>%{hovertext}</b><br><br>city=New York<br>decade=2010.0<br>Average Artist Popularity=%{x}<br>Average Track Popularity=%{y}<br>Number of Tracks=%{customdata[0]}<br>avg_genre_diversity=%{customdata[1]}<extra></extra>",
           "hovertext": [
            "New York"
           ],
           "legendgroup": "New York",
           "marker": {
            "color": "#FFA15A",
            "size": {
             "bdata": "AAAAAACAW0A=",
             "dtype": "f8"
            },
            "sizemode": "area",
            "sizeref": 0.2875,
            "symbol": "circle"
           },
           "mode": "markers",
           "name": "New York",
           "orientation": "v",
           "showlegend": true,
           "type": "scatter",
           "x": {
            "bdata": "8pQgTwmSVEA=",
            "dtype": "f8"
           },
           "xaxis": "x",
           "y": {
            "bdata": "7RvWvmEtU0A=",
            "dtype": "f8"
           },
           "yaxis": "y"
          },
          {
           "customdata": {
            "bdata": "AAAAAAAAPkAREREREREBQA==",
            "dtype": "f8",
            "shape": "1, 2"
           },
           "hovertemplate": "<b>%{hovertext}</b><br><br>city=Seattle<br>decade=2010.0<br>Average Artist Popularity=%{x}<br>Average Track Popularity=%{y}<br>Number of Tracks=%{customdata[0]}<br>avg_genre_diversity=%{customdata[1]}<extra></extra>",
           "hovertext": [
            "Seattle"
           ],
           "legendgroup": "Seattle",
           "marker": {
            "color": "#19d3f3",
            "size": {
             "bdata": "AAAAAAAAPkA=",
             "dtype": "f8"
            },
            "sizemode": "area",
            "sizeref": 0.2875,
            "symbol": "circle"
           },
           "mode": "markers",
           "name": "Seattle",
           "orientation": "v",
           "showlegend": true,
           "type": "scatter",
           "x": {
            "bdata": "7+7u7u6OUEA=",
            "dtype": "f8"
           },
           "xaxis": "x",
           "y": {
            "bdata": "d3d3d3e3QEA=",
            "dtype": "f8"
           },
           "yaxis": "y"
          },
          {
           "customdata": {
            "bdata": "AAAAAACATkD8FJcMwTrqPw==",
            "dtype": "f8",
            "shape": "1, 2"
           },
           "hovertemplate": "<b>%{hovertext}</b><br><br>city=Austin<br>decade=2010.0<br>Average Artist Popularity=%{x}<br>Average Track Popularity=%{y}<br>Number of Tracks=%{customdata[0]}<br>avg_genre_diversity=%{customdata[1]}<extra></extra>",
           "hovertext": [
            "Austin"
           ],
           "legendgroup": "Austin",
           "marker": {
            "color": "#FF6692",
            "size": {
             "bdata": "AAAAAACATkA=",
             "dtype": "f8"
            },
            "sizemode": "area",
            "sizeref": 0.2875,
            "symbol": "circle"
           },
           "mode": "markers",
           "name": "Austin",
           "orientation": "v",
           "showlegend": true,
           "type": "scatter",
           "x": {
            "bdata": "gnW0eZ8iUkA=",
            "dtype": "f8"
           },
           "xaxis": "x",
           "y": {
            "bdata": "VFwyBOvoUEA=",
            "dtype": "f8"
           },
           "yaxis": "y"
          },
          {
           "customdata": {
            "bdata": "AAAAAAAAT0Dvvffee+/tPw==",
            "dtype": "f8",
            "shape": "1, 2"
           },
           "hovertemplate": "<b>%{hovertext}</b><br><br>city=Atlanta<br>decade=2010.0<br>Average Artist Popularity=%{x}<br>Average Track Popularity=%{y}<br>Number of Tracks=%{customdata[0]}<br>avg_genre_diversity=%{customdata[1]}<extra></extra>",
           "hovertext": [
            "Atlanta"
           ],
           "legendgroup": "Atlanta",
           "marker": {
            "color": "#B6E880",
            "size": {
             "bdata": "AAAAAAAAT0A=",
             "dtype": "f8"
            },
            "sizemode": "area",
            "sizeref": 0.2875,
            "symbol": "circle"
           },
           "mode": "markers",
           "name": "Atlanta",
           "orientation": "v",
           "showlegend": true,
           "type": "scatter",
           "x": {
            "bdata": "W2uttdb6UEA=",
            "dtype": "f8"
           },
           "xaxis": "x",
           "y": {
            "bdata": "55xzzjnnQkA=",
            "dtype": "f8"
           },
           "yaxis": "y"
          }
         ],
         "name": "2010.0"
        },
        {
         "data": [
          {
           "customdata": {
            "bdata": "AAAAAACASkBNMN7KPof0Pw==",
            "dtype": "f8",
            "shape": "1, 2"
           },
           "hovertemplate": "<b>%{hovertext}</b><br><br>city=Nashville<br>decade=2020.0<br>Average Artist Popularity=%{x}<br>Average Track Popularity=%{y}<br>Number of Tracks=%{customdata[0]}<br>avg_genre_diversity=%{customdata[1]}<extra></extra>",
           "hovertext": [
            "Nashville"
           ],
           "legendgroup": "Nashville",
           "marker": {
            "color": "#636efa",
            "size": {
             "bdata": "AAAAAACASkA=",
             "dtype": "f8"
            },
            "sizemode": "area",
            "sizeref": 0.2875,
            "symbol": "circle"
           },
           "mode": "markers",
           "name": "Nashville",
           "orientation": "v",
           "showlegend": true,
           "type": "scatter",
           "x": {
            "bdata": "ln0OqQkGUkA=",
            "dtype": "f8"
           },
           "xaxis": "x",
           "y": {
            "bdata": "xlvZ55AaUUA=",
            "dtype": "f8"
           },
           "yaxis": "y"
          },
          {
           "customdata": {
            "bdata": "AAAAAAAAIkAAAAAAAADwPw==",
            "dtype": "f8",
            "shape": "1, 2"
           },
           "hovertemplate": "<b>%{hovertext}</b><br><br>city=Los Angeles<br>decade=2020.0<br>Average Artist Popularity=%{x}<br>Average Track Popularity=%{y}<br>Number of Tracks=%{customdata[0]}<br>avg_genre_diversity=%{customdata[1]}<extra></extra>",
           "hovertext": [
            "Los Angeles"
           ],
           "legendgroup": "Los Angeles",
           "marker": {
            "color": "#EF553B",
            "size": {
             "bdata": "AAAAAAAAIkA=",
             "dtype": "f8"
            },
            "sizemode": "area",
            "sizeref": 0.2875,
            "symbol": "circle"
           },
           "mode": "markers",
           "name": "Los Angeles",
           "orientation": "v",
           "showlegend": true,
           "type": "scatter",
           "x": {
            "bdata": "OY7jOI4jUkA=",
            "dtype": "f8"
           },
           "xaxis": "x",
           "y": {
            "bdata": "OY7jOI7jSkA=",
            "dtype": "f8"
           },
           "yaxis": "y"
          },
          {
           "customdata": {
            "bdata": "AAAAAAAATkDv7u7u7u76Pw==",
            "dtype": "f8",
            "shape": "1, 2"
           },
           "hovertemplate": "<b>%{hovertext}</b><br><br>city=Chicago<br>decade=2020.0<br>Average Artist Popularity=%{x}<br>Average Track Popularity=%{y}<br>Number of Tracks=%{customdata[0]}<br>avg_genre_diversity=%{customdata[1]}<extra></extra>",
           "hovertext": [
            "Chicago"
           ],
           "legendgroup": "Chicago",
           "marker": {
            "color": "#00cc96",
            "size": {
             "bdata": "AAAAAAAATkA=",
             "dtype": "f8"
            },
            "sizemode": "area",
            "sizeref": 0.2875,
            "symbol": "circle"
           },
           "mode": "markers",
           "name": "Chicago",
           "orientation": "v",
           "showlegend": true,
           "type": "scatter",
           "x": {
            "bdata": "vLu7u7urUUA=",
            "dtype": "f8"
           },
           "xaxis": "x",
           "y": {
            "bdata": "mpmZmZnZP0A=",
            "dtype": "f8"
           },
           "yaxis": "y"
          },
          {
           "customdata": {
            "bdata": "AAAAAAAAV0D1pje96U33Pw==",
            "dtype": "f8",
            "shape": "1, 2"
           },
           "hovertemplate": "<b>%{hovertext}</b><br><br>city=Miami<br>decade=2020.0<br>Average Artist Popularity=%{x}<br>Average Track Popularity=%{y}<br>Number of Tracks=%{customdata[0]}<br>avg_genre_diversity=%{customdata[1]}<extra></extra>",
           "hovertext": [
            "Miami"
           ],
           "legendgroup": "Miami",
           "marker": {
            "color": "#ab63fa",
            "size": {
             "bdata": "AAAAAAAAV0A=",
             "dtype": "f8"
            },
            "sizemode": "area",
            "sizeref": 0.2875,
            "symbol": "circle"
           },
           "mode": "markers",
           "name": "Miami",
           "orientation": "v",
           "showlegend": true,
           "type": "scatter",
           "x": {
            "bdata": "IQtZyEKWTkA=",
            "dtype": "f8"
           },
           "xaxis": "x",
           "y": {
            "bdata": "ZCELWchCTEA=",
            "dtype": "f8"
           },
           "yaxis": "y"
          },
          {
           "customdata": {
            "bdata": "AAAAAAAAQUCXlpaWlpbGPw==",
            "dtype": "f8",
            "shape": "1, 2"
           },
           "hovertemplate": "<b>%{hovertext}</b><br><br>city=New York<br>decade=2020.0<br>Average Artist Popularity=%{x}<br>Average Track Popularity=%{y}<br>Number of Tracks=%{customdata[0]}<br>avg_genre_diversity=%{customdata[1]}<extra></extra>",
           "hovertext": [
            "New York"
           ],
           "legendgroup": "New York",
           "marker": {
            "color": "#FFA15A",
            "size": {
             "bdata": "AAAAAAAAQUA=",
             "dtype": "f8"
            },
            "sizemode": "area",
            "sizeref": 0.2875,
            "symbol": "circle"
           },
           "mode": "markers",
           "name": "New York",
           "orientation": "v",
           "showlegend": true,
           "type": "scatter",
           "x": {
            "bdata": "iIeHh4dHTEA=",
            "dtype": "f8"
           },
           "xaxis": "x",
           "y": {
            "bdata": "S0tLS0sLSEA=",
            "dtype": "f8"
           },
           "yaxis": "y"
          },
          {
           "customdata": {
            "bdata": "AAAAAAAAJkAAAAAAAAAYQA==",
            "dtype": "f8",
            "shape": "1, 2"
           },
           "hovertemplate": "<b>%{hovertext}</b><br><br>city=Seattle<br>decade=2020.0<br>Average Artist Popularity=%{x}<br>Average Track Popularity=%{y}<br>Number of Tracks=%{customdata[0]}<br>avg_genre_diversity=%{customdata[1]}<extra></extra>",
           "hovertext": [
            "Seattle"
           ],
           "legendgroup": "Seattle",
           "marker": {
            "color": "#19d3f3",
            "size": {
             "bdata": "AAAAAAAAJkA=",
             "dtype": "f8"
            },
            "sizemode": "area",
            "sizeref": 0.2875,
            "symbol": "circle"
           },
           "mode": "markers",
           "name": "Seattle",
           "orientation": "v",
           "showlegend": true,
           "type": "scatter",
           "x": {
            "bdata": "AAAAAADAUEA=",
            "dtype": "f8"
           },
           "xaxis": "x",
           "y": {
            "bdata": "XXTRRRddP0A=",
            "dtype": "f8"
           },
           "yaxis": "y"
          },
          {
           "customdata": {
            "bdata": "AAAAAADAXEDG/bqk8mHsPw==",
            "dtype": "f8",
            "shape": "1, 2"
           },
           "hovertemplate": "<b>%{hovertext}</b><br><br>city=Austin<br>decade=2020.0<br>Average Artist Popularity=%{x}<br>Average Track Popularity=%{y}<br>Number of Tracks=%{customdata[0]}<br>avg_genre_diversity=%{customdata[1]}<extra></extra>",
           "hovertext": [
            "Austin"
           ],
           "legendgroup": "Austin",
           "marker": {
            "color": "#FF6692",
            "size": {
             "bdata": "AAAAAADAXEA=",
             "dtype": "f8"
            },
            "sizemode": "area",
            "sizeref": 0.2875,
            "symbol": "circle"
           },
           "mode": "markers",
           "name": "Austin",
           "orientation": "v",
           "showlegend": true,
           "type": "scatter",
           "x": {
            "bdata": "wnMEirbaUkA=",
            "dtype": "f8"
           },
           "xaxis": "x",
           "y": {
            "bdata": "zczMzMyMUUA=",
            "dtype": "f8"
           },
           "yaxis": "y"
          },
          {
           "customdata": {
            "bdata": "AAAAAAAANkBddNFFF13UPw==",
            "dtype": "f8",
            "shape": "1, 2"
           },
           "hovertemplate": "<b>%{hovertext}</b><br><br>city=Atlanta<br>decade=2020.0<br>Average Artist Popularity=%{x}<br>Average Track Popularity=%{y}<br>Number of Tracks=%{customdata[0]}<br>avg_genre_diversity=%{customdata[1]}<extra></extra>",
           "hovertext": [
            "Atlanta"
           ],
           "legendgroup": "Atlanta",
           "marker": {
            "color": "#B6E880",
            "size": {
             "bdata": "AAAAAAAANkA=",
             "dtype": "f8"
            },
            "sizemode": "area",
            "sizeref": 0.2875,
            "symbol": "circle"
           },
           "mode": "markers",
           "name": "Atlanta",
           "orientation": "v",
           "showlegend": true,
           "type": "scatter",
           "x": {
            "bdata": "jC666KILTEA=",
            "dtype": "f8"
           },
           "xaxis": "x",
           "y": {
            "bdata": "uuiiiy46QkA=",
            "dtype": "f8"
           },
           "yaxis": "y"
          }
         ],
         "name": "2020.0"
        },
        {
         "data": [
          {
           "customdata": {
            "bdata": "AAAAAAAAAEAAAAAAAAAAQA==",
            "dtype": "f8",
            "shape": "1, 2"
           },
           "hovertemplate": "<b>%{hovertext}</b><br><br>city=Los Angeles<br>decade=1950.0<br>Average Artist Popularity=%{x}<br>Average Track Popularity=%{y}<br>Number of Tracks=%{customdata[0]}<br>avg_genre_diversity=%{customdata[1]}<extra></extra>",
           "hovertext": [
            "Los Angeles"
           ],
           "legendgroup": "Los Angeles",
           "marker": {
            "color": "#EF553B",
            "size": {
             "bdata": "AAAAAAAAAEA=",
             "dtype": "f8"
            },
            "sizemode": "area",
            "sizeref": 0.2875,
            "symbol": "circle"
           },
           "mode": "markers",
           "name": "Los Angeles",
           "orientation": "v",
           "showlegend": true,
           "type": "scatter",
           "x": {
            "bdata": "AAAAAABAQUA=",
            "dtype": "f8"
           },
           "xaxis": "x",
           "y": {
            "bdata": "AAAAAAAAKkA=",
            "dtype": "f8"
           },
           "yaxis": "y"
          },
          {
           "customdata": {
            "bdata": "AAAAAAAAFECamZmZmZkZQA==",
            "dtype": "f8",
            "shape": "1, 2"
           },
           "hovertemplate": "<b>%{hovertext}</b><br><br>city=Seattle<br>decade=1950.0<br>Average Artist Popularity=%{x}<br>Average Track Popularity=%{y}<br>Number of Tracks=%{customdata[0]}<br>avg_genre_diversity=%{customdata[1]}<extra></extra>",
           "hovertext": [
            "Seattle"
           ],
           "legendgroup": "Seattle",
           "marker": {
            "color": "#19d3f3",
            "size": {
             "bdata": "AAAAAAAAFEA=",
             "dtype": "f8"
            },
            "sizemode": "area",
            "sizeref": 0.2875,
            "symbol": "circle"
           },
           "mode": "markers",
           "name": "Seattle",
           "orientation": "v",
           "showlegend": true,
           "type": "scatter",
           "x": {
            "bdata": "MzMzMzOzTUA=",
            "dtype": "f8"
           },
           "xaxis": "x",
           "y": {
            "bdata": "MzMzMzOzQ0A=",
            "dtype": "f8"
           },
           "yaxis": "y"
          }
         ],
         "name": "1950.0"
        },
        {
         "data": [
          {
           "customdata": {
            "bdata": "AAAAAAAAKEBVVVVVVVUDQA==",
            "dtype": "f8",
            "shape": "1, 2"
           },
           "hovertemplate": "<b>%{hovertext}</b><br><br>city=Los Angeles<br>decade=1960.0<br>Average Artist Popularity=%{x}<br>Average Track Popularity=%{y}<br>Number of Tracks=%{customdata[0]}<br>avg_genre_diversity=%{customdata[1]}<extra></extra>",
           "hovertext": [
            "Los Angeles"
           ],
           "legendgroup": "Los Angeles",
           "marker": {
            "color": "#EF553B",
            "size": {
             "bdata": "AAAAAAAAKEA=",
             "dtype": "f8"
            },
            "sizemode": "area",
            "sizeref": 0.2875,
            "symbol": "circle"
           },
           "mode": "markers",
           "name": "Los Angeles",
           "orientation": "v",
           "showlegend": true,
           "type": "scatter",
           "x": {
            "bdata": "VVVVVVVVS0A=",
            "dtype": "f8"
           },
           "xaxis": "x",
           "y": {
            "bdata": "VVVVVVV1Q0A=",
            "dtype": "f8"
           },
           "yaxis": "y"
          },
          {
           "customdata": {
            "bdata": "AAAAAAAANEBmZmZmZmYUQA==",
            "dtype": "f8",
            "shape": "1, 2"
           },
           "hovertemplate": "<b>%{hovertext}</b><br><br>city=Seattle<br>decade=1960.0<br>Average Artist Popularity=%{x}<br>Average Track Popularity=%{y}<br>Number of Tracks=%{customdata[0]}<br>avg_genre_diversity=%{customdata[1]}<extra></extra>",
           "hovertext": [
            "Seattle"
           ],
           "legendgroup": "Seattle",
           "marker": {
            "color": "#19d3f3",
            "size": {
             "bdata": "AAAAAAAANEA=",
             "dtype": "f8"
            },
            "sizemode": "area",
            "sizeref": 0.2875,
            "symbol": "circle"
           },
           "mode": "markers",
           "name": "Seattle",
           "orientation": "v",
           "showlegend": true,
           "type": "scatter",
           "x": {
            "bdata": "ZmZmZmZGUEA=",
            "dtype": "f8"
           },
           "xaxis": "x",
           "y": {
            "bdata": "AAAAAACASEA=",
            "dtype": "f8"
           },
           "yaxis": "y"
          }
         ],
         "name": "1960.0"
        },
        {
         "data": [
          {
           "customdata": {
            "bdata": "AAAAAAAAJkDpoosuuugCQA==",
            "dtype": "f8",
            "shape": "1, 2"
           },
           "hovertemplate": "<b>%{hovertext}</b><br><br>city=Los Angeles<br>decade=1970.0<br>Average Artist Popularity=%{x}<br>Average Track Popularity=%{y}<br>Number of Tracks=%{customdata[0]}<br>avg_genre_diversity=%{customdata[1]}<extra></extra>",
           "hovertext": [
            "Los Angeles"
           ],
           "legendgroup": "Los Angeles",
           "marker": {
            "color": "#EF553B",
            "size": {
             "bdata": "AAAAAAAAJkA=",
             "dtype": "f8"
            },
            "sizemode": "area",
            "sizeref": 0.2875,
            "symbol": "circle"
           },
           "mode": "markers",
           "name": "Los Angeles",
           "orientation": "v",
           "showlegend": true,
           "type": "scatter",
           "x": {
            "bdata": "RhdddNGFUUA=",
            "dtype": "f8"
           },
           "xaxis": "x",
           "y": {
            "bdata": "AAAAAAAARUA=",
            "dtype": "f8"
           },
           "yaxis": "y"
          },
          {
           "customdata": {
            "bdata": "AAAAAAAA8D8AAAAAAAAIQA==",
            "dtype": "f8",
            "shape": "1, 2"
           },
           "hovertemplate": "<b>%{hovertext}</b><br><br>city=Seattle<br>decade=1970.0<br>Average Artist Popularity=%{x}<br>Average Track Popularity=%{y}<br>Number of Tracks=%{customdata[0]}<br>avg_genre_diversity=%{customdata[1]}<extra></extra>",
           "hovertext": [
            "Seattle"
           ],
           "legendgroup": "Seattle",
           "marker": {
            "color": "#19d3f3",
            "size": {
             "bdata": "AAAAAAAA8D8=",
             "dtype": "f8"
            },
            "sizemode": "area",
            "sizeref": 0.2875,
            "symbol": "circle"
           },
           "mode": "markers",
           "name": "Seattle",
           "orientation": "v",
           "showlegend": true,
           "type": "scatter",
           "x": {
            "bdata": "AAAAAADAUUA=",
            "dtype": "f8"
           },
           "xaxis": "x",
           "y": {
            "bdata": "AAAAAACAU0A=",
            "dtype": "f8"
           },
           "yaxis": "y"
          }
         ],
         "name": "1970.0"
        },
        {
         "data": [
          {
           "customdata": {
            "bdata": "AAAAAAAAKEBVVVVVVVULQA==",
            "dtype": "f8",
            "shape": "1, 2"
           },
           "hovertemplate": "<b>%{hovertext}</b><br><br>city=Los Angeles<br>decade=1980.0<br>Average Artist Popularity=%{x}<br>Average Track Popularity=%{y}<br>Number of Tracks=%{customdata[0]}<br>avg_genre_diversity=%{customdata[1]}<extra></extra>",
           "hovertext": [
            "Los Angeles"
           ],
           "legendgroup": "Los Angeles",
           "marker": {
            "color": "#EF553B",
            "size": {
             "bdata": "AAAAAAAAKEA=",
             "dtype": "f8"
            },
            "sizemode": "area",
            "sizeref": 0.2875,
            "symbol": "circle"
           },
           "mode": "markers",
           "name": "Los Angeles",
           "orientation": "v",
           "showlegend": true,
           "type": "scatter",
           "x": {
            "bdata": "AAAAAACATkA=",
            "dtype": "f8"
           },
           "xaxis": "x",
           "y": {
            "bdata": "VVVVVVXVQEA=",
            "dtype": "f8"
           },
           "yaxis": "y"
          },
          {
           "customdata": {
            "bdata": "AAAAAAAAAEAAAAAAAAAQQA==",
            "dtype": "f8",
            "shape": "1, 2"
           },
           "hovertemplate": "<b>%{hovertext}</b><br><br>city=Chicago<br>decade=1980.0<br>Average Artist Popularity=%{x}<br>Average Track Popularity=%{y}<br>Number of Tracks=%{customdata[0]}<br>avg_genre_diversity=%{customdata[1]}<extra></extra>",
           "hovertext": [
            "Chicago"
           ],
           "legendgroup": "Chicago",
           "marker": {
            "color": "#00cc96",
            "size": {
             "bdata": "AAAAAAAAAEA=",
             "dtype": "f8"
            },
            "sizemode": "area",
            "sizeref": 0.2875,
            "symbol": "circle"
           },
           "mode": "markers",
           "name": "Chicago",
           "orientation": "v",
           "showlegend": true,
           "type": "scatter",
           "x": {
            "bdata": "AAAAAABARkA=",
            "dtype": "f8"
           },
           "xaxis": "x",
           "y": {
            "bdata": "AAAAAACAMkA=",
            "dtype": "f8"
           },
           "yaxis": "y"
          },
          {
           "customdata": {
            "bdata": "AAAAAAAAEEAAAAAAAAACQA==",
            "dtype": "f8",
            "shape": "1, 2"
           },
           "hovertemplate": "<b>%{hovertext}</b><br><br>city=Seattle<br>decade=1980.0<br>Average Artist Popularity=%{x}<br>Average Track Popularity=%{y}<br>Number of Tracks=%{customdata[0]}<br>avg_genre_diversity=%{customdata[1]}<extra></extra>",
           "hovertext": [
            "Seattle"
           ],
           "legendgroup": "Seattle",
           "marker": {
            "color": "#19d3f3",
            "size": {
             "bdata": "AAAAAAAAEEA=",
             "dtype": "f8"
            },
            "sizemode": "area",
            "sizeref": 0.2875,
            "symbol": "circle"
           },
           "mode": "markers",
           "name": "Seattle",
           "orientation": "v",
           "showlegend": true,
           "type": "scatter",
           "x": {
            "bdata": "AAAAAACgUEA=",
            "dtype": "f8"
           },
           "xaxis": "x",
           "y": {
            "bdata": "AAAAAACgT0A=",
            "dtype": "f8"
           },
           "yaxis": "y"
          }
         ],
         "name": "1980.0"
        },
        {
         "data": [
          {
           "customdata": {
            "bdata": "AAAAAAAAAEAAAAAAAADwPw==",
            "dtype": "f8",
            "shape": "1, 2"
           },
           "hovertemplate": "<b>%{hovertext}</b><br><br>city=Seattle<br>decade=1940.0<br>Average Artist Popularity=%{x}<br>Average Track Popularity=%{y}<br>Number of Tracks=%{customdata[0]}<br>avg_genre_diversity=%{customdata[1]}<extra></extra>",
           "hovertext": [
            "Seattle"
           ],
           "legendgroup": "Seattle",
           "marker": {
            "color": "#19d3f3",
            "size": {
             "bdata": "AAAAAAAAAEA=",
             "dtype": "f8"
            },
            "sizemode": "area",
            "sizeref": 0.2875,
            "symbol": "circle"
           },
           "mode": "markers",
           "name": "Seattle",
           "orientation": "v",
           "showlegend": true,
           "type": "scatter",
           "x": {
            "bdata": "AAAAAACATUA=",
            "dtype": "f8"
           },
           "xaxis": "x",
           "y": {
            "bdata": "AAAAAACAO0A=",
            "dtype": "f8"
           },
           "yaxis": "y"
          }
         ],
         "name": "1940.0"
        }
       ],
       "layout": {
        "height": 600,
        "legend": {
         "itemsizing": "constant",
         "title": {
          "text": "city"
         },
         "tracegroupgap": 0
        },
        "sliders": [
         {
          "active": 0,
          "currentvalue": {
           "prefix": "decade="
          },
          "len": 0.9,
          "pad": {
           "b": 10,
           "t": 60
          },
          "steps": [
           {
            "args": [
             [
              "1990.0"
             ],
             {
              "frame": {
               "duration": 0,
               "redraw": false
              },
              "fromcurrent": true,
              "mode": "immediate",
              "transition": {
               "duration": 0,
               "easing": "linear"
              }
             }
            ],
            "label": "1990.0",
            "method": "animate"
           },
           {
            "args": [
             [
              "2000.0"
             ],
             {
              "frame": {
               "duration": 0,
               "redraw": false
              },
              "fromcurrent": true,
              "mode": "immediate",
              "transition": {
               "duration": 0,
               "easing": "linear"
              }
             }
            ],
            "label": "2000.0",
            "method": "animate"
           },
           {
            "args": [
             [
              "2010.0"
             ],
             {
              "frame": {
               "duration": 0,
               "redraw": false
              },
              "fromcurrent": true,
              "mode": "immediate",
              "transition": {
               "duration": 0,
               "easing": "linear"
              }
             }
            ],
            "label": "2010.0",
            "method": "animate"
           },
           {
            "args": [
             [
              "2020.0"
             ],
             {
              "frame": {
               "duration": 0,
               "redraw": false
              },
              "fromcurrent": true,
              "mode": "immediate",
              "transition": {
               "duration": 0,
               "easing": "linear"
              }
             }
            ],
            "label": "2020.0",
            "method": "animate"
           },
           {
            "args": [
             [
              "1950.0"
             ],
             {
              "frame": {
               "duration": 0,
               "redraw": false
              },
              "fromcurrent": true,
              "mode": "immediate",
              "transition": {
               "duration": 0,
               "easing": "linear"
              }
             }
            ],
            "label": "1950.0",
            "method": "animate"
           },
           {
            "args": [
             [
              "1960.0"
             ],
             {
              "frame": {
               "duration": 0,
               "redraw": false
              },
              "fromcurrent": true,
              "mode": "immediate",
              "transition": {
               "duration": 0,
               "easing": "linear"
              }
             }
            ],
            "label": "1960.0",
            "method": "animate"
           },
           {
            "args": [
             [
              "1970.0"
             ],
             {
              "frame": {
               "duration": 0,
               "redraw": false
              },
              "fromcurrent": true,
              "mode": "immediate",
              "transition": {
               "duration": 0,
               "easing": "linear"
              }
             }
            ],
            "label": "1970.0",
            "method": "animate"
           },
           {
            "args": [
             [
              "1980.0"
             ],
             {
              "frame": {
               "duration": 0,
               "redraw": false
              },
              "fromcurrent": true,
              "mode": "immediate",
              "transition": {
               "duration": 0,
               "easing": "linear"
              }
             }
            ],
            "label": "1980.0",
            "method": "animate"
           },
           {
            "args": [
             [
              "1940.0"
             ],
             {
              "frame": {
               "duration": 0,
               "redraw": false
              },
              "fromcurrent": true,
              "mode": "immediate",
              "transition": {
               "duration": 0,
               "easing": "linear"
              }
             }
            ],
            "label": "1940.0",
            "method": "animate"
           }
          ],
          "x": 0.1,
          "xanchor": "left",
          "y": 0,
          "yanchor": "top"
         }
        ],
        "template": {
         "data": {
          "bar": [
           {
            "error_x": {
             "color": "#2a3f5f"
            },
            "error_y": {
             "color": "#2a3f5f"
            },
            "marker": {
             "line": {
              "color": "#E5ECF6",
              "width": 0.5
             },
             "pattern": {
              "fillmode": "overlay",
              "size": 10,
              "solidity": 0.2
             }
            },
            "type": "bar"
           }
          ],
          "barpolar": [
           {
            "marker": {
             "line": {
              "color": "#E5ECF6",
              "width": 0.5
             },
             "pattern": {
              "fillmode": "overlay",
              "size": 10,
              "solidity": 0.2
             }
            },
            "type": "barpolar"
           }
          ],
          "carpet": [
           {
            "aaxis": {
             "endlinecolor": "#2a3f5f",
             "gridcolor": "white",
             "linecolor": "white",
             "minorgridcolor": "white",
             "startlinecolor": "#2a3f5f"
            },
            "baxis": {
             "endlinecolor": "#2a3f5f",
             "gridcolor": "white",
             "linecolor": "white",
             "minorgridcolor": "white",
             "startlinecolor": "#2a3f5f"
            },
            "type": "carpet"
           }
          ],
          "choropleth": [
           {
            "colorbar": {
             "outlinewidth": 0,
             "ticks": ""
            },
            "type": "choropleth"
           }
          ],
          "contour": [
           {
            "colorbar": {
             "outlinewidth": 0,
             "ticks": ""
            },
            "colorscale": [
             [
              0,
              "#0d0887"
             ],
             [
              0.1111111111111111,
              "#46039f"
             ],
             [
              0.2222222222222222,
              "#7201a8"
             ],
             [
              0.3333333333333333,
              "#9c179e"
             ],
             [
              0.4444444444444444,
              "#bd3786"
             ],
             [
              0.5555555555555556,
              "#d8576b"
             ],
             [
              0.6666666666666666,
              "#ed7953"
             ],
             [
              0.7777777777777778,
              "#fb9f3a"
             ],
             [
              0.8888888888888888,
              "#fdca26"
             ],
             [
              1,
              "#f0f921"
             ]
            ],
            "type": "contour"
           }
          ],
          "contourcarpet": [
           {
            "colorbar": {
             "outlinewidth": 0,
             "ticks": ""
            },
            "type": "contourcarpet"
           }
          ],
          "heatmap": [
           {
            "colorbar": {
             "outlinewidth": 0,
             "ticks": ""
            },
            "colorscale": [
             [
              0,
              "#0d0887"
             ],
             [
              0.1111111111111111,
              "#46039f"
             ],
             [
              0.2222222222222222,
              "#7201a8"
             ],
             [
              0.3333333333333333,
              "#9c179e"
             ],
             [
              0.4444444444444444,
              "#bd3786"
             ],
             [
              0.5555555555555556,
              "#d8576b"
             ],
             [
              0.6666666666666666,
              "#ed7953"
             ],
             [
              0.7777777777777778,
              "#fb9f3a"
             ],
             [
              0.8888888888888888,
              "#fdca26"
             ],
             [
              1,
              "#f0f921"
             ]
            ],
            "type": "heatmap"
           }
          ],
          "histogram": [
           {
            "marker": {
             "pattern": {
              "fillmode": "overlay",
              "size": 10,
              "solidity": 0.2
             }
            },
            "type": "histogram"
           }
          ],
          "histogram2d": [
           {
            "colorbar": {
             "outlinewidth": 0,
             "ticks": ""
            },
            "colorscale": [
             [
              0,
              "#0d0887"
             ],
             [
              0.1111111111111111,
              "#46039f"
             ],
             [
              0.2222222222222222,
              "#7201a8"
             ],
             [
              0.3333333333333333,
              "#9c179e"
             ],
             [
              0.4444444444444444,
              "#bd3786"
             ],
             [
              0.5555555555555556,
              "#d8576b"
             ],
             [
              0.6666666666666666,
              "#ed7953"
             ],
             [
              0.7777777777777778,
              "#fb9f3a"
             ],
             [
              0.8888888888888888,
              "#fdca26"
             ],
             [
              1,
              "#f0f921"
             ]
            ],
            "type": "histogram2d"
           }
          ],
          "histogram2dcontour": [
           {
            "colorbar": {
             "outlinewidth": 0,
             "ticks": ""
            },
            "colorscale": [
             [
              0,
              "#0d0887"
             ],
             [
              0.1111111111111111,
              "#46039f"
             ],
             [
              0.2222222222222222,
              "#7201a8"
             ],
             [
              0.3333333333333333,
              "#9c179e"
             ],
             [
              0.4444444444444444,
              "#bd3786"
             ],
             [
              0.5555555555555556,
              "#d8576b"
             ],
             [
              0.6666666666666666,
              "#ed7953"
             ],
             [
              0.7777777777777778,
              "#fb9f3a"
             ],
             [
              0.8888888888888888,
              "#fdca26"
             ],
             [
              1,
              "#f0f921"
             ]
            ],
            "type": "histogram2dcontour"
           }
          ],
          "mesh3d": [
           {
            "colorbar": {
             "outlinewidth": 0,
             "ticks": ""
            },
            "type": "mesh3d"
           }
          ],
          "parcoords": [
           {
            "line": {
             "colorbar": {
              "outlinewidth": 0,
              "ticks": ""
             }
            },
            "type": "parcoords"
           }
          ],
          "pie": [
           {
            "automargin": true,
            "type": "pie"
           }
          ],
          "scatter": [
           {
            "fillpattern": {
             "fillmode": "overlay",
             "size": 10,
             "solidity": 0.2
            },
            "type": "scatter"
           }
          ],
          "scatter3d": [
           {
            "line": {
             "colorbar": {
              "outlinewidth": 0,
              "ticks": ""
             }
            },
            "marker": {
             "colorbar": {
              "outlinewidth": 0,
              "ticks": ""
             }
            },
            "type": "scatter3d"
           }
          ],
          "scattercarpet": [
           {
            "marker": {
             "colorbar": {
              "outlinewidth": 0,
              "ticks": ""
             }
            },
            "type": "scattercarpet"
           }
          ],
          "scattergeo": [
           {
            "marker": {
             "colorbar": {
              "outlinewidth": 0,
              "ticks": ""
             }
            },
            "type": "scattergeo"
           }
          ],
          "scattergl": [
           {
            "marker": {
             "colorbar": {
              "outlinewidth": 0,
              "ticks": ""
             }
            },
            "type": "scattergl"
           }
          ],
          "scattermap": [
           {
            "marker": {
             "colorbar": {
              "outlinewidth": 0,
              "ticks": ""
             }
            },
            "type": "scattermap"
           }
          ],
          "scattermapbox": [
           {
            "marker": {
             "colorbar": {
              "outlinewidth": 0,
              "ticks": ""
             }
            },
            "type": "scattermapbox"
           }
          ],
          "scatterpolar": [
           {
            "marker": {
             "colorbar": {
              "outlinewidth": 0,
              "ticks": ""
             }
            },
            "type": "scatterpolar"
           }
          ],
          "scatterpolargl": [
           {
            "marker": {
             "colorbar": {
              "outlinewidth": 0,
              "ticks": ""
             }
            },
            "type": "scatterpolargl"
           }
          ],
          "scatterternary": [
           {
            "marker": {
             "colorbar": {
              "outlinewidth": 0,
              "ticks": ""
             }
            },
            "type": "scatterternary"
           }
          ],
          "surface": [
           {
            "colorbar": {
             "outlinewidth": 0,
             "ticks": ""
            },
            "colorscale": [
             [
              0,
              "#0d0887"
             ],
             [
              0.1111111111111111,
              "#46039f"
             ],
             [
              0.2222222222222222,
              "#7201a8"
             ],
             [
              0.3333333333333333,
              "#9c179e"
             ],
             [
              0.4444444444444444,
              "#bd3786"
             ],
             [
              0.5555555555555556,
              "#d8576b"
             ],
             [
              0.6666666666666666,
              "#ed7953"
             ],
             [
              0.7777777777777778,
              "#fb9f3a"
             ],
             [
              0.8888888888888888,
              "#fdca26"
             ],
             [
              1,
              "#f0f921"
             ]
            ],
            "type": "surface"
           }
          ],
          "table": [
           {
            "cells": {
             "fill": {
              "color": "#EBF0F8"
             },
             "line": {
              "color": "white"
             }
            },
            "header": {
             "fill": {
              "color": "#C8D4E3"
             },
             "line": {
              "color": "white"
             }
            },
            "type": "table"
           }
          ]
         },
         "layout": {
          "annotationdefaults": {
           "arrowcolor": "#2a3f5f",
           "arrowhead": 0,
           "arrowwidth": 1
          },
          "autotypenumbers": "strict",
          "coloraxis": {
           "colorbar": {
            "outlinewidth": 0,
            "ticks": ""
           }
          },
          "colorscale": {
           "diverging": [
            [
             0,
             "#8e0152"
            ],
            [
             0.1,
             "#c51b7d"
            ],
            [
             0.2,
             "#de77ae"
            ],
            [
             0.3,
             "#f1b6da"
            ],
            [
             0.4,
             "#fde0ef"
            ],
            [
             0.5,
             "#f7f7f7"
            ],
            [
             0.6,
             "#e6f5d0"
            ],
            [
             0.7,
             "#b8e186"
            ],
            [
             0.8,
             "#7fbc41"
            ],
            [
             0.9,
             "#4d9221"
            ],
            [
             1,
             "#276419"
            ]
           ],
           "sequential": [
            [
             0,
             "#0d0887"
            ],
            [
             0.1111111111111111,
             "#46039f"
            ],
            [
             0.2222222222222222,
             "#7201a8"
            ],
            [
             0.3333333333333333,
             "#9c179e"
            ],
            [
             0.4444444444444444,
             "#bd3786"
            ],
            [
             0.5555555555555556,
             "#d8576b"
            ],
            [
             0.6666666666666666,
             "#ed7953"
            ],
            [
             0.7777777777777778,
             "#fb9f3a"
            ],
            [
             0.8888888888888888,
             "#fdca26"
            ],
            [
             1,
             "#f0f921"
            ]
           ],
           "sequentialminus": [
            [
             0,
             "#0d0887"
            ],
            [
             0.1111111111111111,
             "#46039f"
            ],
            [
             0.2222222222222222,
             "#7201a8"
            ],
            [
             0.3333333333333333,
             "#9c179e"
            ],
            [
             0.4444444444444444,
             "#bd3786"
            ],
            [
             0.5555555555555556,
             "#d8576b"
            ],
            [
             0.6666666666666666,
             "#ed7953"
            ],
            [
             0.7777777777777778,
             "#fb9f3a"
            ],
            [
             0.8888888888888888,
             "#fdca26"
            ],
            [
             1,
             "#f0f921"
            ]
           ]
          },
          "colorway": [
           "#636efa",
           "#EF553B",
           "#00cc96",
           "#ab63fa",
           "#FFA15A",
           "#19d3f3",
           "#FF6692",
           "#B6E880",
           "#FF97FF",
           "#FECB52"
          ],
          "font": {
           "color": "#2a3f5f"
          },
          "geo": {
           "bgcolor": "white",
           "lakecolor": "white",
           "landcolor": "#E5ECF6",
           "showlakes": true,
           "showland": true,
           "subunitcolor": "white"
          },
          "hoverlabel": {
           "align": "left"
          },
          "hovermode": "closest",
          "mapbox": {
           "style": "light"
          },
          "paper_bgcolor": "white",
          "plot_bgcolor": "#E5ECF6",
          "polar": {
           "angularaxis": {
            "gridcolor": "white",
            "linecolor": "white",
            "ticks": ""
           },
           "bgcolor": "#E5ECF6",
           "radialaxis": {
            "gridcolor": "white",
            "linecolor": "white",
            "ticks": ""
           }
          },
          "scene": {
           "xaxis": {
            "backgroundcolor": "#E5ECF6",
            "gridcolor": "white",
            "gridwidth": 2,
            "linecolor": "white",
            "showbackground": true,
            "ticks": "",
            "zerolinecolor": "white"
           },
           "yaxis": {
            "backgroundcolor": "#E5ECF6",
            "gridcolor": "white",
            "gridwidth": 2,
            "linecolor": "white",
            "showbackground": true,
            "ticks": "",
            "zerolinecolor": "white"
           },
           "zaxis": {
            "backgroundcolor": "#E5ECF6",
            "gridcolor": "white",
            "gridwidth": 2,
            "linecolor": "white",
            "showbackground": true,
            "ticks": "",
            "zerolinecolor": "white"
           }
          },
          "shapedefaults": {
           "line": {
            "color": "#2a3f5f"
           }
          },
          "ternary": {
           "aaxis": {
            "gridcolor": "white",
            "linecolor": "white",
            "ticks": ""
           },
           "baxis": {
            "gridcolor": "white",
            "linecolor": "white",
            "ticks": ""
           },
           "bgcolor": "#E5ECF6",
           "caxis": {
            "gridcolor": "white",
            "linecolor": "white",
            "ticks": ""
           }
          },
          "title": {
           "x": 0.05
          },
          "xaxis": {
           "automargin": true,
           "gridcolor": "white",
           "linecolor": "white",
           "ticks": "",
           "title": {
            "standoff": 15
           },
           "zerolinecolor": "white",
           "zerolinewidth": 2
          },
          "yaxis": {
           "automargin": true,
           "gridcolor": "white",
           "linecolor": "white",
           "ticks": "",
           "title": {
            "standoff": 15
           },
           "zerolinecolor": "white",
           "zerolinewidth": 2
          }
         }
        },
        "title": {
         "text": "Music Evolution Through Time<br>Artist vs Track Popularity by Decade"
        },
        "updatemenus": [
         {
          "buttons": [
           {
            "args": [
             null,
             {
              "frame": {
               "duration": 500,
               "redraw": false
              },
              "fromcurrent": true,
              "mode": "immediate",
              "transition": {
               "duration": 500,
               "easing": "linear"
              }
             }
            ],
            "label": "&#9654;",
            "method": "animate"
           },
           {
            "args": [
             [
              null
             ],
             {
              "frame": {
               "duration": 0,
               "redraw": false
              },
              "fromcurrent": true,
              "mode": "immediate",
              "transition": {
               "duration": 0,
               "easing": "linear"
              }
             }
            ],
            "label": "&#9724;",
            "method": "animate"
           }
          ],
          "direction": "left",
          "pad": {
           "r": 10,
           "t": 70
          },
          "showactive": false,
          "type": "buttons",
          "x": 0.1,
          "xanchor": "right",
          "y": 0,
          "yanchor": "top"
         }
        ],
        "xaxis": {
         "anchor": "y",
         "domain": [
          0,
          1
         ],
         "title": {
          "text": "Average Artist Popularity"
         }
        },
        "yaxis": {
         "anchor": "x",
         "domain": [
          0,
          1
         ],
         "title": {
          "text": "Average Track Popularity"
         }
        }
       }
      },
      "text/html": [
       "<div>            <script src=\"https://cdnjs.cloudflare.com/ajax/libs/mathjax/2.7.5/MathJax.js?config=TeX-AMS-MML_SVG\"></script><script type=\"text/javascript\">if (window.MathJax && window.MathJax.Hub && window.MathJax.Hub.Config) {window.MathJax.Hub.Config({SVG: {font: \"STIX-Web\"}});}</script>                <script type=\"text/javascript\">window.PlotlyConfig = {MathJaxConfig: 'local'};</script>\n",
       "        <script charset=\"utf-8\" src=\"https://cdn.plot.ly/plotly-3.0.1.min.js\" integrity=\"sha256-oy6Be7Eh6eiQFs5M7oXuPxxm9qbJXEtTpfSI93dW16Q=\" crossorigin=\"anonymous\"></script>                <div id=\"8278f7b9-9bd5-4259-8ae7-481aa85cf7d7\" class=\"plotly-graph-div\" style=\"height:600px; width:100%;\"></div>            <script type=\"text/javascript\">                window.PLOTLYENV=window.PLOTLYENV || {};                                if (document.getElementById(\"8278f7b9-9bd5-4259-8ae7-481aa85cf7d7\")) {                    Plotly.newPlot(                        \"8278f7b9-9bd5-4259-8ae7-481aa85cf7d7\",                        [{\"customdata\":{\"dtype\":\"f8\",\"bdata\":\"AAAAAAAA8D8AAAAAAADwPw==\",\"shape\":\"1, 2\"},\"hovertemplate\":\"\\u003cb\\u003e%{hovertext}\\u003c\\u002fb\\u003e\\u003cbr\\u003e\\u003cbr\\u003ecity=Nashville\\u003cbr\\u003edecade=1990.0\\u003cbr\\u003eAverage Artist Popularity=%{x}\\u003cbr\\u003eAverage Track Popularity=%{y}\\u003cbr\\u003eNumber of Tracks=%{customdata[0]}\\u003cbr\\u003eavg_genre_diversity=%{customdata[1]}\\u003cextra\\u003e\\u003c\\u002fextra\\u003e\",\"hovertext\":[\"Nashville\"],\"legendgroup\":\"Nashville\",\"marker\":{\"color\":\"#636efa\",\"size\":{\"dtype\":\"f8\",\"bdata\":\"AAAAAAAA8D8=\"},\"sizemode\":\"area\",\"sizeref\":0.2875,\"symbol\":\"circle\"},\"mode\":\"markers\",\"name\":\"Nashville\",\"orientation\":\"v\",\"showlegend\":true,\"x\":{\"dtype\":\"f8\",\"bdata\":\"AAAAAADAUkA=\"},\"xaxis\":\"x\",\"y\":{\"dtype\":\"f8\",\"bdata\":\"AAAAAAAAU0A=\"},\"yaxis\":\"y\",\"type\":\"scatter\"},{\"customdata\":{\"dtype\":\"f8\",\"bdata\":\"AAAAAAAARkAAAAAAAAAQQA==\",\"shape\":\"1, 2\"},\"hovertemplate\":\"\\u003cb\\u003e%{hovertext}\\u003c\\u002fb\\u003e\\u003cbr\\u003e\\u003cbr\\u003ecity=Los Angeles\\u003cbr\\u003edecade=1990.0\\u003cbr\\u003eAverage Artist Popularity=%{x}\\u003cbr\\u003eAverage Track Popularity=%{y}\\u003cbr\\u003eNumber of Tracks=%{customdata[0]}\\u003cbr\\u003eavg_genre_diversity=%{customdata[1]}\\u003cextra\\u003e\\u003c\\u002fextra\\u003e\",\"hovertext\":[\"Los Angeles\"],\"legendgroup\":\"Los Angeles\",\"marker\":{\"color\":\"#EF553B\",\"size\":{\"dtype\":\"f8\",\"bdata\":\"AAAAAAAARkA=\"},\"sizemode\":\"area\",\"sizeref\":0.2875,\"symbol\":\"circle\"},\"mode\":\"markers\",\"name\":\"Los Angeles\",\"orientation\":\"v\",\"showlegend\":true,\"x\":{\"dtype\":\"f8\",\"bdata\":\"L7rooou+UUA=\"},\"xaxis\":\"x\",\"y\":{\"dtype\":\"f8\",\"bdata\":\"uuiiiy5aSEA=\"},\"yaxis\":\"y\",\"type\":\"scatter\"},{\"customdata\":{\"dtype\":\"f8\",\"bdata\":\"AAAAAAAAMkCO4ziO4zgCQA==\",\"shape\":\"1, 2\"},\"hovertemplate\":\"\\u003cb\\u003e%{hovertext}\\u003c\\u002fb\\u003e\\u003cbr\\u003e\\u003cbr\\u003ecity=Chicago\\u003cbr\\u003edecade=1990.0\\u003cbr\\u003eAverage Artist Popularity=%{x}\\u003cbr\\u003eAverage Track Popularity=%{y}\\u003cbr\\u003eNumber of Tracks=%{customdata[0]}\\u003cbr\\u003eavg_genre_diversity=%{customdata[1]}\\u003cextra\\u003e\\u003c\\u002fextra\\u003e\",\"hovertext\":[\"Chicago\"],\"legendgroup\":\"Chicago\",\"marker\":{\"color\":\"#00cc96\",\"size\":{\"dtype\":\"f8\",\"bdata\":\"AAAAAAAAMkA=\"},\"sizemode\":\"area\",\"sizeref\":0.2875,\"symbol\":\"circle\"},\"mode\":\"markers\",\"name\":\"Chicago\",\"orientation\":\"v\",\"showlegend\":true,\"x\":{\"dtype\":\"f8\",\"bdata\":\"HMdxHMfxQkA=\"},\"xaxis\":\"x\",\"y\":{\"dtype\":\"f8\",\"bdata\":\"VVVVVVWVQEA=\"},\"yaxis\":\"y\",\"type\":\"scatter\"},{\"customdata\":{\"dtype\":\"f8\",\"bdata\":\"AAAAAAAAAEAAAAAAAAAAAA==\",\"shape\":\"1, 2\"},\"hovertemplate\":\"\\u003cb\\u003e%{hovertext}\\u003c\\u002fb\\u003e\\u003cbr\\u003e\\u003cbr\\u003ecity=Miami\\u003cbr\\u003edecade=1990.0\\u003cbr\\u003eAverage Artist Popularity=%{x}\\u003cbr\\u003eAverage Track Popularity=%{y}\\u003cbr\\u003eNumber of Tracks=%{customdata[0]}\\u003cbr\\u003eavg_genre_diversity=%{customdata[1]}\\u003cextra\\u003e\\u003c\\u002fextra\\u003e\",\"hovertext\":[\"Miami\"],\"legendgroup\":\"Miami\",\"marker\":{\"color\":\"#ab63fa\",\"size\":{\"dtype\":\"f8\",\"bdata\":\"AAAAAAAAAEA=\"},\"sizemode\":\"area\",\"sizeref\":0.2875,\"symbol\":\"circle\"},\"mode\":\"markers\",\"name\":\"Miami\",\"orientation\":\"v\",\"showlegend\":true,\"x\":{\"dtype\":\"f8\",\"bdata\":\"AAAAAADAUkA=\"},\"xaxis\":\"x\",\"y\":{\"dtype\":\"f8\",\"bdata\":\"AAAAAABAU0A=\"},\"yaxis\":\"y\",\"type\":\"scatter\"},{\"customdata\":{\"dtype\":\"f8\",\"bdata\":\"AAAAAAAAAEAAAAAAAADgPw==\",\"shape\":\"1, 2\"},\"hovertemplate\":\"\\u003cb\\u003e%{hovertext}\\u003c\\u002fb\\u003e\\u003cbr\\u003e\\u003cbr\\u003ecity=New York\\u003cbr\\u003edecade=1990.0\\u003cbr\\u003eAverage Artist Popularity=%{x}\\u003cbr\\u003eAverage Track Popularity=%{y}\\u003cbr\\u003eNumber of Tracks=%{customdata[0]}\\u003cbr\\u003eavg_genre_diversity=%{customdata[1]}\\u003cextra\\u003e\\u003c\\u002fextra\\u003e\",\"hovertext\":[\"New York\"],\"legendgroup\":\"New York\",\"marker\":{\"color\":\"#FFA15A\",\"size\":{\"dtype\":\"f8\",\"bdata\":\"AAAAAAAAAEA=\"},\"sizemode\":\"area\",\"sizeref\":0.2875,\"symbol\":\"circle\"},\"mode\":\"markers\",\"name\":\"New York\",\"orientation\":\"v\",\"showlegend\":true,\"x\":{\"dtype\":\"f8\",\"bdata\":\"AAAAAADAUkA=\"},\"xaxis\":\"x\",\"y\":{\"dtype\":\"f8\",\"bdata\":\"AAAAAAAgVUA=\"},\"yaxis\":\"y\",\"type\":\"scatter\"},{\"customdata\":{\"dtype\":\"f8\",\"bdata\":\"AAAAAADAUEA1JtIDlbMDQA==\",\"shape\":\"1, 2\"},\"hovertemplate\":\"\\u003cb\\u003e%{hovertext}\\u003c\\u002fb\\u003e\\u003cbr\\u003e\\u003cbr\\u003ecity=Seattle\\u003cbr\\u003edecade=1990.0\\u003cbr\\u003eAverage Artist Popularity=%{x}\\u003cbr\\u003eAverage Track Popularity=%{y}\\u003cbr\\u003eNumber of Tracks=%{customdata[0]}\\u003cbr\\u003eavg_genre_diversity=%{customdata[1]}\\u003cextra\\u003e\\u003c\\u002fextra\\u003e\",\"hovertext\":[\"Seattle\"],\"legendgroup\":\"Seattle\",\"marker\":{\"color\":\"#19d3f3\",\"size\":{\"dtype\":\"f8\",\"bdata\":\"AAAAAADAUEA=\"},\"sizemode\":\"area\",\"sizeref\":0.2875,\"symbol\":\"circle\"},\"mode\":\"markers\",\"name\":\"Seattle\",\"orientation\":\"v\",\"showlegend\":true,\"x\":{\"dtype\":\"f8\",\"bdata\":\"y9kt\\u002fGrMUUA=\"},\"xaxis\":\"x\",\"y\":{\"dtype\":\"f8\",\"bdata\":\"zm7hV2MiQkA=\"},\"yaxis\":\"y\",\"type\":\"scatter\"},{\"customdata\":{\"dtype\":\"f8\",\"bdata\":\"AAAAAAAAFEAAAAAAAAAIQA==\",\"shape\":\"1, 2\"},\"hovertemplate\":\"\\u003cb\\u003e%{hovertext}\\u003c\\u002fb\\u003e\\u003cbr\\u003e\\u003cbr\\u003ecity=Atlanta\\u003cbr\\u003edecade=1990.0\\u003cbr\\u003eAverage Artist Popularity=%{x}\\u003cbr\\u003eAverage Track Popularity=%{y}\\u003cbr\\u003eNumber of Tracks=%{customdata[0]}\\u003cbr\\u003eavg_genre_diversity=%{customdata[1]}\\u003cextra\\u003e\\u003c\\u002fextra\\u003e\",\"hovertext\":[\"Atlanta\"],\"legendgroup\":\"Atlanta\",\"marker\":{\"color\":\"#B6E880\",\"size\":{\"dtype\":\"f8\",\"bdata\":\"AAAAAAAAFEA=\"},\"sizemode\":\"area\",\"sizeref\":0.2875,\"symbol\":\"circle\"},\"mode\":\"markers\",\"name\":\"Atlanta\",\"orientation\":\"v\",\"showlegend\":true,\"x\":{\"dtype\":\"f8\",\"bdata\":\"zczMzMwMUkA=\"},\"xaxis\":\"x\",\"y\":{\"dtype\":\"f8\",\"bdata\":\"ZmZmZmYmUUA=\"},\"yaxis\":\"y\",\"type\":\"scatter\"}],                        {\"template\":{\"data\":{\"histogram2dcontour\":[{\"type\":\"histogram2dcontour\",\"colorbar\":{\"outlinewidth\":0,\"ticks\":\"\"},\"colorscale\":[[0.0,\"#0d0887\"],[0.1111111111111111,\"#46039f\"],[0.2222222222222222,\"#7201a8\"],[0.3333333333333333,\"#9c179e\"],[0.4444444444444444,\"#bd3786\"],[0.5555555555555556,\"#d8576b\"],[0.6666666666666666,\"#ed7953\"],[0.7777777777777778,\"#fb9f3a\"],[0.8888888888888888,\"#fdca26\"],[1.0,\"#f0f921\"]]}],\"choropleth\":[{\"type\":\"choropleth\",\"colorbar\":{\"outlinewidth\":0,\"ticks\":\"\"}}],\"histogram2d\":[{\"type\":\"histogram2d\",\"colorbar\":{\"outlinewidth\":0,\"ticks\":\"\"},\"colorscale\":[[0.0,\"#0d0887\"],[0.1111111111111111,\"#46039f\"],[0.2222222222222222,\"#7201a8\"],[0.3333333333333333,\"#9c179e\"],[0.4444444444444444,\"#bd3786\"],[0.5555555555555556,\"#d8576b\"],[0.6666666666666666,\"#ed7953\"],[0.7777777777777778,\"#fb9f3a\"],[0.8888888888888888,\"#fdca26\"],[1.0,\"#f0f921\"]]}],\"heatmap\":[{\"type\":\"heatmap\",\"colorbar\":{\"outlinewidth\":0,\"ticks\":\"\"},\"colorscale\":[[0.0,\"#0d0887\"],[0.1111111111111111,\"#46039f\"],[0.2222222222222222,\"#7201a8\"],[0.3333333333333333,\"#9c179e\"],[0.4444444444444444,\"#bd3786\"],[0.5555555555555556,\"#d8576b\"],[0.6666666666666666,\"#ed7953\"],[0.7777777777777778,\"#fb9f3a\"],[0.8888888888888888,\"#fdca26\"],[1.0,\"#f0f921\"]]}],\"contourcarpet\":[{\"type\":\"contourcarpet\",\"colorbar\":{\"outlinewidth\":0,\"ticks\":\"\"}}],\"contour\":[{\"type\":\"contour\",\"colorbar\":{\"outlinewidth\":0,\"ticks\":\"\"},\"colorscale\":[[0.0,\"#0d0887\"],[0.1111111111111111,\"#46039f\"],[0.2222222222222222,\"#7201a8\"],[0.3333333333333333,\"#9c179e\"],[0.4444444444444444,\"#bd3786\"],[0.5555555555555556,\"#d8576b\"],[0.6666666666666666,\"#ed7953\"],[0.7777777777777778,\"#fb9f3a\"],[0.8888888888888888,\"#fdca26\"],[1.0,\"#f0f921\"]]}],\"surface\":[{\"type\":\"surface\",\"colorbar\":{\"outlinewidth\":0,\"ticks\":\"\"},\"colorscale\":[[0.0,\"#0d0887\"],[0.1111111111111111,\"#46039f\"],[0.2222222222222222,\"#7201a8\"],[0.3333333333333333,\"#9c179e\"],[0.4444444444444444,\"#bd3786\"],[0.5555555555555556,\"#d8576b\"],[0.6666666666666666,\"#ed7953\"],[0.7777777777777778,\"#fb9f3a\"],[0.8888888888888888,\"#fdca26\"],[1.0,\"#f0f921\"]]}],\"mesh3d\":[{\"type\":\"mesh3d\",\"colorbar\":{\"outlinewidth\":0,\"ticks\":\"\"}}],\"scatter\":[{\"fillpattern\":{\"fillmode\":\"overlay\",\"size\":10,\"solidity\":0.2},\"type\":\"scatter\"}],\"parcoords\":[{\"type\":\"parcoords\",\"line\":{\"colorbar\":{\"outlinewidth\":0,\"ticks\":\"\"}}}],\"scatterpolargl\":[{\"type\":\"scatterpolargl\",\"marker\":{\"colorbar\":{\"outlinewidth\":0,\"ticks\":\"\"}}}],\"bar\":[{\"error_x\":{\"color\":\"#2a3f5f\"},\"error_y\":{\"color\":\"#2a3f5f\"},\"marker\":{\"line\":{\"color\":\"#E5ECF6\",\"width\":0.5},\"pattern\":{\"fillmode\":\"overlay\",\"size\":10,\"solidity\":0.2}},\"type\":\"bar\"}],\"scattergeo\":[{\"type\":\"scattergeo\",\"marker\":{\"colorbar\":{\"outlinewidth\":0,\"ticks\":\"\"}}}],\"scatterpolar\":[{\"type\":\"scatterpolar\",\"marker\":{\"colorbar\":{\"outlinewidth\":0,\"ticks\":\"\"}}}],\"histogram\":[{\"marker\":{\"pattern\":{\"fillmode\":\"overlay\",\"size\":10,\"solidity\":0.2}},\"type\":\"histogram\"}],\"scattergl\":[{\"type\":\"scattergl\",\"marker\":{\"colorbar\":{\"outlinewidth\":0,\"ticks\":\"\"}}}],\"scatter3d\":[{\"type\":\"scatter3d\",\"line\":{\"colorbar\":{\"outlinewidth\":0,\"ticks\":\"\"}},\"marker\":{\"colorbar\":{\"outlinewidth\":0,\"ticks\":\"\"}}}],\"scattermap\":[{\"type\":\"scattermap\",\"marker\":{\"colorbar\":{\"outlinewidth\":0,\"ticks\":\"\"}}}],\"scattermapbox\":[{\"type\":\"scattermapbox\",\"marker\":{\"colorbar\":{\"outlinewidth\":0,\"ticks\":\"\"}}}],\"scatterternary\":[{\"type\":\"scatterternary\",\"marker\":{\"colorbar\":{\"outlinewidth\":0,\"ticks\":\"\"}}}],\"scattercarpet\":[{\"type\":\"scattercarpet\",\"marker\":{\"colorbar\":{\"outlinewidth\":0,\"ticks\":\"\"}}}],\"carpet\":[{\"aaxis\":{\"endlinecolor\":\"#2a3f5f\",\"gridcolor\":\"white\",\"linecolor\":\"white\",\"minorgridcolor\":\"white\",\"startlinecolor\":\"#2a3f5f\"},\"baxis\":{\"endlinecolor\":\"#2a3f5f\",\"gridcolor\":\"white\",\"linecolor\":\"white\",\"minorgridcolor\":\"white\",\"startlinecolor\":\"#2a3f5f\"},\"type\":\"carpet\"}],\"table\":[{\"cells\":{\"fill\":{\"color\":\"#EBF0F8\"},\"line\":{\"color\":\"white\"}},\"header\":{\"fill\":{\"color\":\"#C8D4E3\"},\"line\":{\"color\":\"white\"}},\"type\":\"table\"}],\"barpolar\":[{\"marker\":{\"line\":{\"color\":\"#E5ECF6\",\"width\":0.5},\"pattern\":{\"fillmode\":\"overlay\",\"size\":10,\"solidity\":0.2}},\"type\":\"barpolar\"}],\"pie\":[{\"automargin\":true,\"type\":\"pie\"}]},\"layout\":{\"autotypenumbers\":\"strict\",\"colorway\":[\"#636efa\",\"#EF553B\",\"#00cc96\",\"#ab63fa\",\"#FFA15A\",\"#19d3f3\",\"#FF6692\",\"#B6E880\",\"#FF97FF\",\"#FECB52\"],\"font\":{\"color\":\"#2a3f5f\"},\"hovermode\":\"closest\",\"hoverlabel\":{\"align\":\"left\"},\"paper_bgcolor\":\"white\",\"plot_bgcolor\":\"#E5ECF6\",\"polar\":{\"bgcolor\":\"#E5ECF6\",\"angularaxis\":{\"gridcolor\":\"white\",\"linecolor\":\"white\",\"ticks\":\"\"},\"radialaxis\":{\"gridcolor\":\"white\",\"linecolor\":\"white\",\"ticks\":\"\"}},\"ternary\":{\"bgcolor\":\"#E5ECF6\",\"aaxis\":{\"gridcolor\":\"white\",\"linecolor\":\"white\",\"ticks\":\"\"},\"baxis\":{\"gridcolor\":\"white\",\"linecolor\":\"white\",\"ticks\":\"\"},\"caxis\":{\"gridcolor\":\"white\",\"linecolor\":\"white\",\"ticks\":\"\"}},\"coloraxis\":{\"colorbar\":{\"outlinewidth\":0,\"ticks\":\"\"}},\"colorscale\":{\"sequential\":[[0.0,\"#0d0887\"],[0.1111111111111111,\"#46039f\"],[0.2222222222222222,\"#7201a8\"],[0.3333333333333333,\"#9c179e\"],[0.4444444444444444,\"#bd3786\"],[0.5555555555555556,\"#d8576b\"],[0.6666666666666666,\"#ed7953\"],[0.7777777777777778,\"#fb9f3a\"],[0.8888888888888888,\"#fdca26\"],[1.0,\"#f0f921\"]],\"sequentialminus\":[[0.0,\"#0d0887\"],[0.1111111111111111,\"#46039f\"],[0.2222222222222222,\"#7201a8\"],[0.3333333333333333,\"#9c179e\"],[0.4444444444444444,\"#bd3786\"],[0.5555555555555556,\"#d8576b\"],[0.6666666666666666,\"#ed7953\"],[0.7777777777777778,\"#fb9f3a\"],[0.8888888888888888,\"#fdca26\"],[1.0,\"#f0f921\"]],\"diverging\":[[0,\"#8e0152\"],[0.1,\"#c51b7d\"],[0.2,\"#de77ae\"],[0.3,\"#f1b6da\"],[0.4,\"#fde0ef\"],[0.5,\"#f7f7f7\"],[0.6,\"#e6f5d0\"],[0.7,\"#b8e186\"],[0.8,\"#7fbc41\"],[0.9,\"#4d9221\"],[1,\"#276419\"]]},\"xaxis\":{\"gridcolor\":\"white\",\"linecolor\":\"white\",\"ticks\":\"\",\"title\":{\"standoff\":15},\"zerolinecolor\":\"white\",\"automargin\":true,\"zerolinewidth\":2},\"yaxis\":{\"gridcolor\":\"white\",\"linecolor\":\"white\",\"ticks\":\"\",\"title\":{\"standoff\":15},\"zerolinecolor\":\"white\",\"automargin\":true,\"zerolinewidth\":2},\"scene\":{\"xaxis\":{\"backgroundcolor\":\"#E5ECF6\",\"gridcolor\":\"white\",\"linecolor\":\"white\",\"showbackground\":true,\"ticks\":\"\",\"zerolinecolor\":\"white\",\"gridwidth\":2},\"yaxis\":{\"backgroundcolor\":\"#E5ECF6\",\"gridcolor\":\"white\",\"linecolor\":\"white\",\"showbackground\":true,\"ticks\":\"\",\"zerolinecolor\":\"white\",\"gridwidth\":2},\"zaxis\":{\"backgroundcolor\":\"#E5ECF6\",\"gridcolor\":\"white\",\"linecolor\":\"white\",\"showbackground\":true,\"ticks\":\"\",\"zerolinecolor\":\"white\",\"gridwidth\":2}},\"shapedefaults\":{\"line\":{\"color\":\"#2a3f5f\"}},\"annotationdefaults\":{\"arrowcolor\":\"#2a3f5f\",\"arrowhead\":0,\"arrowwidth\":1},\"geo\":{\"bgcolor\":\"white\",\"landcolor\":\"#E5ECF6\",\"subunitcolor\":\"white\",\"showland\":true,\"showlakes\":true,\"lakecolor\":\"white\"},\"title\":{\"x\":0.05},\"mapbox\":{\"style\":\"light\"}}},\"xaxis\":{\"anchor\":\"y\",\"domain\":[0.0,1.0],\"title\":{\"text\":\"Average Artist Popularity\"}},\"yaxis\":{\"anchor\":\"x\",\"domain\":[0.0,1.0],\"title\":{\"text\":\"Average Track Popularity\"}},\"legend\":{\"title\":{\"text\":\"city\"},\"tracegroupgap\":0,\"itemsizing\":\"constant\"},\"title\":{\"text\":\"Music Evolution Through Time\\u003cbr\\u003eArtist vs Track Popularity by Decade\"},\"updatemenus\":[{\"buttons\":[{\"args\":[null,{\"frame\":{\"duration\":500,\"redraw\":false},\"mode\":\"immediate\",\"fromcurrent\":true,\"transition\":{\"duration\":500,\"easing\":\"linear\"}}],\"label\":\"&#9654;\",\"method\":\"animate\"},{\"args\":[[null],{\"frame\":{\"duration\":0,\"redraw\":false},\"mode\":\"immediate\",\"fromcurrent\":true,\"transition\":{\"duration\":0,\"easing\":\"linear\"}}],\"label\":\"&#9724;\",\"method\":\"animate\"}],\"direction\":\"left\",\"pad\":{\"r\":10,\"t\":70},\"showactive\":false,\"type\":\"buttons\",\"x\":0.1,\"xanchor\":\"right\",\"y\":0,\"yanchor\":\"top\"}],\"sliders\":[{\"active\":0,\"currentvalue\":{\"prefix\":\"decade=\"},\"len\":0.9,\"pad\":{\"b\":10,\"t\":60},\"steps\":[{\"args\":[[\"1990.0\"],{\"frame\":{\"duration\":0,\"redraw\":false},\"mode\":\"immediate\",\"fromcurrent\":true,\"transition\":{\"duration\":0,\"easing\":\"linear\"}}],\"label\":\"1990.0\",\"method\":\"animate\"},{\"args\":[[\"2000.0\"],{\"frame\":{\"duration\":0,\"redraw\":false},\"mode\":\"immediate\",\"fromcurrent\":true,\"transition\":{\"duration\":0,\"easing\":\"linear\"}}],\"label\":\"2000.0\",\"method\":\"animate\"},{\"args\":[[\"2010.0\"],{\"frame\":{\"duration\":0,\"redraw\":false},\"mode\":\"immediate\",\"fromcurrent\":true,\"transition\":{\"duration\":0,\"easing\":\"linear\"}}],\"label\":\"2010.0\",\"method\":\"animate\"},{\"args\":[[\"2020.0\"],{\"frame\":{\"duration\":0,\"redraw\":false},\"mode\":\"immediate\",\"fromcurrent\":true,\"transition\":{\"duration\":0,\"easing\":\"linear\"}}],\"label\":\"2020.0\",\"method\":\"animate\"},{\"args\":[[\"1950.0\"],{\"frame\":{\"duration\":0,\"redraw\":false},\"mode\":\"immediate\",\"fromcurrent\":true,\"transition\":{\"duration\":0,\"easing\":\"linear\"}}],\"label\":\"1950.0\",\"method\":\"animate\"},{\"args\":[[\"1960.0\"],{\"frame\":{\"duration\":0,\"redraw\":false},\"mode\":\"immediate\",\"fromcurrent\":true,\"transition\":{\"duration\":0,\"easing\":\"linear\"}}],\"label\":\"1960.0\",\"method\":\"animate\"},{\"args\":[[\"1970.0\"],{\"frame\":{\"duration\":0,\"redraw\":false},\"mode\":\"immediate\",\"fromcurrent\":true,\"transition\":{\"duration\":0,\"easing\":\"linear\"}}],\"label\":\"1970.0\",\"method\":\"animate\"},{\"args\":[[\"1980.0\"],{\"frame\":{\"duration\":0,\"redraw\":false},\"mode\":\"immediate\",\"fromcurrent\":true,\"transition\":{\"duration\":0,\"easing\":\"linear\"}}],\"label\":\"1980.0\",\"method\":\"animate\"},{\"args\":[[\"1940.0\"],{\"frame\":{\"duration\":0,\"redraw\":false},\"mode\":\"immediate\",\"fromcurrent\":true,\"transition\":{\"duration\":0,\"easing\":\"linear\"}}],\"label\":\"1940.0\",\"method\":\"animate\"}],\"x\":0.1,\"xanchor\":\"left\",\"y\":0,\"yanchor\":\"top\"}],\"height\":600},                        {\"responsive\": true}                    ).then(function(){\n",
       "                            Plotly.addFrames('8278f7b9-9bd5-4259-8ae7-481aa85cf7d7', [{\"data\":[{\"customdata\":{\"dtype\":\"f8\",\"bdata\":\"AAAAAAAA8D8AAAAAAADwPw==\",\"shape\":\"1, 2\"},\"hovertemplate\":\"\\u003cb\\u003e%{hovertext}\\u003c\\u002fb\\u003e\\u003cbr\\u003e\\u003cbr\\u003ecity=Nashville\\u003cbr\\u003edecade=1990.0\\u003cbr\\u003eAverage Artist Popularity=%{x}\\u003cbr\\u003eAverage Track Popularity=%{y}\\u003cbr\\u003eNumber of Tracks=%{customdata[0]}\\u003cbr\\u003eavg_genre_diversity=%{customdata[1]}\\u003cextra\\u003e\\u003c\\u002fextra\\u003e\",\"hovertext\":[\"Nashville\"],\"legendgroup\":\"Nashville\",\"marker\":{\"color\":\"#636efa\",\"size\":{\"dtype\":\"f8\",\"bdata\":\"AAAAAAAA8D8=\"},\"sizemode\":\"area\",\"sizeref\":0.2875,\"symbol\":\"circle\"},\"mode\":\"markers\",\"name\":\"Nashville\",\"orientation\":\"v\",\"showlegend\":true,\"x\":{\"dtype\":\"f8\",\"bdata\":\"AAAAAADAUkA=\"},\"xaxis\":\"x\",\"y\":{\"dtype\":\"f8\",\"bdata\":\"AAAAAAAAU0A=\"},\"yaxis\":\"y\",\"type\":\"scatter\"},{\"customdata\":{\"dtype\":\"f8\",\"bdata\":\"AAAAAAAARkAAAAAAAAAQQA==\",\"shape\":\"1, 2\"},\"hovertemplate\":\"\\u003cb\\u003e%{hovertext}\\u003c\\u002fb\\u003e\\u003cbr\\u003e\\u003cbr\\u003ecity=Los Angeles\\u003cbr\\u003edecade=1990.0\\u003cbr\\u003eAverage Artist Popularity=%{x}\\u003cbr\\u003eAverage Track Popularity=%{y}\\u003cbr\\u003eNumber of Tracks=%{customdata[0]}\\u003cbr\\u003eavg_genre_diversity=%{customdata[1]}\\u003cextra\\u003e\\u003c\\u002fextra\\u003e\",\"hovertext\":[\"Los Angeles\"],\"legendgroup\":\"Los Angeles\",\"marker\":{\"color\":\"#EF553B\",\"size\":{\"dtype\":\"f8\",\"bdata\":\"AAAAAAAARkA=\"},\"sizemode\":\"area\",\"sizeref\":0.2875,\"symbol\":\"circle\"},\"mode\":\"markers\",\"name\":\"Los Angeles\",\"orientation\":\"v\",\"showlegend\":true,\"x\":{\"dtype\":\"f8\",\"bdata\":\"L7rooou+UUA=\"},\"xaxis\":\"x\",\"y\":{\"dtype\":\"f8\",\"bdata\":\"uuiiiy5aSEA=\"},\"yaxis\":\"y\",\"type\":\"scatter\"},{\"customdata\":{\"dtype\":\"f8\",\"bdata\":\"AAAAAAAAMkCO4ziO4zgCQA==\",\"shape\":\"1, 2\"},\"hovertemplate\":\"\\u003cb\\u003e%{hovertext}\\u003c\\u002fb\\u003e\\u003cbr\\u003e\\u003cbr\\u003ecity=Chicago\\u003cbr\\u003edecade=1990.0\\u003cbr\\u003eAverage Artist Popularity=%{x}\\u003cbr\\u003eAverage Track Popularity=%{y}\\u003cbr\\u003eNumber of Tracks=%{customdata[0]}\\u003cbr\\u003eavg_genre_diversity=%{customdata[1]}\\u003cextra\\u003e\\u003c\\u002fextra\\u003e\",\"hovertext\":[\"Chicago\"],\"legendgroup\":\"Chicago\",\"marker\":{\"color\":\"#00cc96\",\"size\":{\"dtype\":\"f8\",\"bdata\":\"AAAAAAAAMkA=\"},\"sizemode\":\"area\",\"sizeref\":0.2875,\"symbol\":\"circle\"},\"mode\":\"markers\",\"name\":\"Chicago\",\"orientation\":\"v\",\"showlegend\":true,\"x\":{\"dtype\":\"f8\",\"bdata\":\"HMdxHMfxQkA=\"},\"xaxis\":\"x\",\"y\":{\"dtype\":\"f8\",\"bdata\":\"VVVVVVWVQEA=\"},\"yaxis\":\"y\",\"type\":\"scatter\"},{\"customdata\":{\"dtype\":\"f8\",\"bdata\":\"AAAAAAAAAEAAAAAAAAAAAA==\",\"shape\":\"1, 2\"},\"hovertemplate\":\"\\u003cb\\u003e%{hovertext}\\u003c\\u002fb\\u003e\\u003cbr\\u003e\\u003cbr\\u003ecity=Miami\\u003cbr\\u003edecade=1990.0\\u003cbr\\u003eAverage Artist Popularity=%{x}\\u003cbr\\u003eAverage Track Popularity=%{y}\\u003cbr\\u003eNumber of Tracks=%{customdata[0]}\\u003cbr\\u003eavg_genre_diversity=%{customdata[1]}\\u003cextra\\u003e\\u003c\\u002fextra\\u003e\",\"hovertext\":[\"Miami\"],\"legendgroup\":\"Miami\",\"marker\":{\"color\":\"#ab63fa\",\"size\":{\"dtype\":\"f8\",\"bdata\":\"AAAAAAAAAEA=\"},\"sizemode\":\"area\",\"sizeref\":0.2875,\"symbol\":\"circle\"},\"mode\":\"markers\",\"name\":\"Miami\",\"orientation\":\"v\",\"showlegend\":true,\"x\":{\"dtype\":\"f8\",\"bdata\":\"AAAAAADAUkA=\"},\"xaxis\":\"x\",\"y\":{\"dtype\":\"f8\",\"bdata\":\"AAAAAABAU0A=\"},\"yaxis\":\"y\",\"type\":\"scatter\"},{\"customdata\":{\"dtype\":\"f8\",\"bdata\":\"AAAAAAAAAEAAAAAAAADgPw==\",\"shape\":\"1, 2\"},\"hovertemplate\":\"\\u003cb\\u003e%{hovertext}\\u003c\\u002fb\\u003e\\u003cbr\\u003e\\u003cbr\\u003ecity=New York\\u003cbr\\u003edecade=1990.0\\u003cbr\\u003eAverage Artist Popularity=%{x}\\u003cbr\\u003eAverage Track Popularity=%{y}\\u003cbr\\u003eNumber of Tracks=%{customdata[0]}\\u003cbr\\u003eavg_genre_diversity=%{customdata[1]}\\u003cextra\\u003e\\u003c\\u002fextra\\u003e\",\"hovertext\":[\"New York\"],\"legendgroup\":\"New York\",\"marker\":{\"color\":\"#FFA15A\",\"size\":{\"dtype\":\"f8\",\"bdata\":\"AAAAAAAAAEA=\"},\"sizemode\":\"area\",\"sizeref\":0.2875,\"symbol\":\"circle\"},\"mode\":\"markers\",\"name\":\"New York\",\"orientation\":\"v\",\"showlegend\":true,\"x\":{\"dtype\":\"f8\",\"bdata\":\"AAAAAADAUkA=\"},\"xaxis\":\"x\",\"y\":{\"dtype\":\"f8\",\"bdata\":\"AAAAAAAgVUA=\"},\"yaxis\":\"y\",\"type\":\"scatter\"},{\"customdata\":{\"dtype\":\"f8\",\"bdata\":\"AAAAAADAUEA1JtIDlbMDQA==\",\"shape\":\"1, 2\"},\"hovertemplate\":\"\\u003cb\\u003e%{hovertext}\\u003c\\u002fb\\u003e\\u003cbr\\u003e\\u003cbr\\u003ecity=Seattle\\u003cbr\\u003edecade=1990.0\\u003cbr\\u003eAverage Artist Popularity=%{x}\\u003cbr\\u003eAverage Track Popularity=%{y}\\u003cbr\\u003eNumber of Tracks=%{customdata[0]}\\u003cbr\\u003eavg_genre_diversity=%{customdata[1]}\\u003cextra\\u003e\\u003c\\u002fextra\\u003e\",\"hovertext\":[\"Seattle\"],\"legendgroup\":\"Seattle\",\"marker\":{\"color\":\"#19d3f3\",\"size\":{\"dtype\":\"f8\",\"bdata\":\"AAAAAADAUEA=\"},\"sizemode\":\"area\",\"sizeref\":0.2875,\"symbol\":\"circle\"},\"mode\":\"markers\",\"name\":\"Seattle\",\"orientation\":\"v\",\"showlegend\":true,\"x\":{\"dtype\":\"f8\",\"bdata\":\"y9kt\\u002fGrMUUA=\"},\"xaxis\":\"x\",\"y\":{\"dtype\":\"f8\",\"bdata\":\"zm7hV2MiQkA=\"},\"yaxis\":\"y\",\"type\":\"scatter\"},{\"customdata\":{\"dtype\":\"f8\",\"bdata\":\"AAAAAAAAFEAAAAAAAAAIQA==\",\"shape\":\"1, 2\"},\"hovertemplate\":\"\\u003cb\\u003e%{hovertext}\\u003c\\u002fb\\u003e\\u003cbr\\u003e\\u003cbr\\u003ecity=Atlanta\\u003cbr\\u003edecade=1990.0\\u003cbr\\u003eAverage Artist Popularity=%{x}\\u003cbr\\u003eAverage Track Popularity=%{y}\\u003cbr\\u003eNumber of Tracks=%{customdata[0]}\\u003cbr\\u003eavg_genre_diversity=%{customdata[1]}\\u003cextra\\u003e\\u003c\\u002fextra\\u003e\",\"hovertext\":[\"Atlanta\"],\"legendgroup\":\"Atlanta\",\"marker\":{\"color\":\"#B6E880\",\"size\":{\"dtype\":\"f8\",\"bdata\":\"AAAAAAAAFEA=\"},\"sizemode\":\"area\",\"sizeref\":0.2875,\"symbol\":\"circle\"},\"mode\":\"markers\",\"name\":\"Atlanta\",\"orientation\":\"v\",\"showlegend\":true,\"x\":{\"dtype\":\"f8\",\"bdata\":\"zczMzMwMUkA=\"},\"xaxis\":\"x\",\"y\":{\"dtype\":\"f8\",\"bdata\":\"ZmZmZmYmUUA=\"},\"yaxis\":\"y\",\"type\":\"scatter\"}],\"name\":\"1990.0\"},{\"data\":[{\"customdata\":{\"dtype\":\"f8\",\"bdata\":\"AAAAAAAANEAAAAAAAAAAQA==\",\"shape\":\"1, 2\"},\"hovertemplate\":\"\\u003cb\\u003e%{hovertext}\\u003c\\u002fb\\u003e\\u003cbr\\u003e\\u003cbr\\u003ecity=Nashville\\u003cbr\\u003edecade=2000.0\\u003cbr\\u003eAverage Artist Popularity=%{x}\\u003cbr\\u003eAverage Track Popularity=%{y}\\u003cbr\\u003eNumber of Tracks=%{customdata[0]}\\u003cbr\\u003eavg_genre_diversity=%{customdata[1]}\\u003cextra\\u003e\\u003c\\u002fextra\\u003e\",\"hovertext\":[\"Nashville\"],\"legendgroup\":\"Nashville\",\"marker\":{\"color\":\"#636efa\",\"size\":{\"dtype\":\"f8\",\"bdata\":\"AAAAAAAANEA=\"},\"sizemode\":\"area\",\"sizeref\":0.2875,\"symbol\":\"circle\"},\"mode\":\"markers\",\"name\":\"Nashville\",\"orientation\":\"v\",\"showlegend\":true,\"x\":{\"dtype\":\"f8\",\"bdata\":\"mpmZmZn5UUA=\"},\"xaxis\":\"x\",\"y\":{\"dtype\":\"f8\",\"bdata\":\"zczMzMwsSUA=\"},\"yaxis\":\"y\",\"type\":\"scatter\"},{\"customdata\":{\"dtype\":\"f8\",\"bdata\":\"AAAAAACAQUB8xVd8xVcMQA==\",\"shape\":\"1, 2\"},\"hovertemplate\":\"\\u003cb\\u003e%{hovertext}\\u003c\\u002fb\\u003e\\u003cbr\\u003e\\u003cbr\\u003ecity=Los Angeles\\u003cbr\\u003edecade=2000.0\\u003cbr\\u003eAverage Artist Popularity=%{x}\\u003cbr\\u003eAverage Track Popularity=%{y}\\u003cbr\\u003eNumber of Tracks=%{customdata[0]}\\u003cbr\\u003eavg_genre_diversity=%{customdata[1]}\\u003cextra\\u003e\\u003c\\u002fextra\\u003e\",\"hovertext\":[\"Los Angeles\"],\"legendgroup\":\"Los Angeles\",\"marker\":{\"color\":\"#EF553B\",\"size\":{\"dtype\":\"f8\",\"bdata\":\"AAAAAACAQUA=\"},\"sizemode\":\"area\",\"sizeref\":0.2875,\"symbol\":\"circle\"},\"mode\":\"markers\",\"name\":\"Los Angeles\",\"orientation\":\"v\",\"showlegend\":true,\"x\":{\"dtype\":\"f8\",\"bdata\":\"WHzFV3xFTkA=\"},\"xaxis\":\"x\",\"y\":{\"dtype\":\"f8\",\"bdata\":\"btu2bdu2PEA=\"},\"yaxis\":\"y\",\"type\":\"scatter\"},{\"customdata\":{\"dtype\":\"f8\",\"bdata\":\"AAAAAAAAMUBaWlpaWlr6Pw==\",\"shape\":\"1, 2\"},\"hovertemplate\":\"\\u003cb\\u003e%{hovertext}\\u003c\\u002fb\\u003e\\u003cbr\\u003e\\u003cbr\\u003ecity=Chicago\\u003cbr\\u003edecade=2000.0\\u003cbr\\u003eAverage Artist Popularity=%{x}\\u003cbr\\u003eAverage Track Popularity=%{y}\\u003cbr\\u003eNumber of Tracks=%{customdata[0]}\\u003cbr\\u003eavg_genre_diversity=%{customdata[1]}\\u003cextra\\u003e\\u003c\\u002fextra\\u003e\",\"hovertext\":[\"Chicago\"],\"legendgroup\":\"Chicago\",\"marker\":{\"color\":\"#00cc96\",\"size\":{\"dtype\":\"f8\",\"bdata\":\"AAAAAAAAMUA=\"},\"sizemode\":\"area\",\"sizeref\":0.2875,\"symbol\":\"circle\"},\"mode\":\"markers\",\"name\":\"Chicago\",\"orientation\":\"v\",\"showlegend\":true,\"x\":{\"dtype\":\"f8\",\"bdata\":\"pqWlpaUlR0A=\"},\"xaxis\":\"x\",\"y\":{\"dtype\":\"f8\",\"bdata\":\"8fDw8PBwREA=\"},\"yaxis\":\"y\",\"type\":\"scatter\"},{\"customdata\":{\"dtype\":\"f8\",\"bdata\":\"AAAAAACAQkCYIp91gyniPw==\",\"shape\":\"1, 2\"},\"hovertemplate\":\"\\u003cb\\u003e%{hovertext}\\u003c\\u002fb\\u003e\\u003cbr\\u003e\\u003cbr\\u003ecity=Miami\\u003cbr\\u003edecade=2000.0\\u003cbr\\u003eAverage Artist Popularity=%{x}\\u003cbr\\u003eAverage Track Popularity=%{y}\\u003cbr\\u003eNumber of Tracks=%{customdata[0]}\\u003cbr\\u003eavg_genre_diversity=%{customdata[1]}\\u003cextra\\u003e\\u003c\\u002fextra\\u003e\",\"hovertext\":[\"Miami\"],\"legendgroup\":\"Miami\",\"marker\":{\"color\":\"#ab63fa\",\"size\":{\"dtype\":\"f8\",\"bdata\":\"AAAAAACAQkA=\"},\"sizemode\":\"area\",\"sizeref\":0.2875,\"symbol\":\"circle\"},\"mode\":\"markers\",\"name\":\"Miami\",\"orientation\":\"v\",\"showlegend\":true,\"x\":{\"dtype\":\"f8\",\"bdata\":\"AAAAAADAVEA=\"},\"xaxis\":\"x\",\"y\":{\"dtype\":\"f8\",\"bdata\":\"3WCKfNZNU0A=\"},\"yaxis\":\"y\",\"type\":\"scatter\"},{\"customdata\":{\"dtype\":\"f8\",\"bdata\":\"AAAAAAAAQUDT0tLS0tLyPw==\",\"shape\":\"1, 2\"},\"hovertemplate\":\"\\u003cb\\u003e%{hovertext}\\u003c\\u002fb\\u003e\\u003cbr\\u003e\\u003cbr\\u003ecity=New York\\u003cbr\\u003edecade=2000.0\\u003cbr\\u003eAverage Artist Popularity=%{x}\\u003cbr\\u003eAverage Track Popularity=%{y}\\u003cbr\\u003eNumber of Tracks=%{customdata[0]}\\u003cbr\\u003eavg_genre_diversity=%{customdata[1]}\\u003cextra\\u003e\\u003c\\u002fextra\\u003e\",\"hovertext\":[\"New York\"],\"legendgroup\":\"New York\",\"marker\":{\"color\":\"#FFA15A\",\"size\":{\"dtype\":\"f8\",\"bdata\":\"AAAAAAAAQUA=\"},\"sizemode\":\"area\",\"sizeref\":0.2875,\"symbol\":\"circle\"},\"mode\":\"markers\",\"name\":\"New York\",\"orientation\":\"v\",\"showlegend\":true,\"x\":{\"dtype\":\"f8\",\"bdata\":\"l5aWlpZ2VUA=\"},\"xaxis\":\"x\",\"y\":{\"dtype\":\"f8\",\"bdata\":\"09LS0tISVEA=\"},\"yaxis\":\"y\",\"type\":\"scatter\"},{\"customdata\":{\"dtype\":\"f8\",\"bdata\":\"AAAAAAAAOUCF61G4HoULQA==\",\"shape\":\"1, 2\"},\"hovertemplate\":\"\\u003cb\\u003e%{hovertext}\\u003c\\u002fb\\u003e\\u003cbr\\u003e\\u003cbr\\u003ecity=Seattle\\u003cbr\\u003edecade=2000.0\\u003cbr\\u003eAverage Artist Popularity=%{x}\\u003cbr\\u003eAverage Track Popularity=%{y}\\u003cbr\\u003eNumber of Tracks=%{customdata[0]}\\u003cbr\\u003eavg_genre_diversity=%{customdata[1]}\\u003cextra\\u003e\\u003c\\u002fextra\\u003e\",\"hovertext\":[\"Seattle\"],\"legendgroup\":\"Seattle\",\"marker\":{\"color\":\"#19d3f3\",\"size\":{\"dtype\":\"f8\",\"bdata\":\"AAAAAAAAOUA=\"},\"sizemode\":\"area\",\"sizeref\":0.2875,\"symbol\":\"circle\"},\"mode\":\"markers\",\"name\":\"Seattle\",\"orientation\":\"v\",\"showlegend\":true,\"x\":{\"dtype\":\"f8\",\"bdata\":\"PQrXo3A9UEA=\"},\"xaxis\":\"x\",\"y\":{\"dtype\":\"f8\",\"bdata\":\"cT0K16NwQUA=\"},\"yaxis\":\"y\",\"type\":\"scatter\"},{\"customdata\":{\"dtype\":\"f8\",\"bdata\":\"AAAAAAAAMEAAAAAAAADyPw==\",\"shape\":\"1, 2\"},\"hovertemplate\":\"\\u003cb\\u003e%{hovertext}\\u003c\\u002fb\\u003e\\u003cbr\\u003e\\u003cbr\\u003ecity=Austin\\u003cbr\\u003edecade=2000.0\\u003cbr\\u003eAverage Artist Popularity=%{x}\\u003cbr\\u003eAverage Track Popularity=%{y}\\u003cbr\\u003eNumber of Tracks=%{customdata[0]}\\u003cbr\\u003eavg_genre_diversity=%{customdata[1]}\\u003cextra\\u003e\\u003c\\u002fextra\\u003e\",\"hovertext\":[\"Austin\"],\"legendgroup\":\"Austin\",\"marker\":{\"color\":\"#FF6692\",\"size\":{\"dtype\":\"f8\",\"bdata\":\"AAAAAAAAMEA=\"},\"sizemode\":\"area\",\"sizeref\":0.2875,\"symbol\":\"circle\"},\"mode\":\"markers\",\"name\":\"Austin\",\"orientation\":\"v\",\"showlegend\":true,\"x\":{\"dtype\":\"f8\",\"bdata\":\"AAAAAACYU0A=\"},\"xaxis\":\"x\",\"y\":{\"dtype\":\"f8\",\"bdata\":\"AAAAAAB0UkA=\"},\"yaxis\":\"y\",\"type\":\"scatter\"},{\"customdata\":{\"dtype\":\"f8\",\"bdata\":\"AAAAAABAVUAbGxsbGxv7Pw==\",\"shape\":\"1, 2\"},\"hovertemplate\":\"\\u003cb\\u003e%{hovertext}\\u003c\\u002fb\\u003e\\u003cbr\\u003e\\u003cbr\\u003ecity=Atlanta\\u003cbr\\u003edecade=2000.0\\u003cbr\\u003eAverage Artist Popularity=%{x}\\u003cbr\\u003eAverage Track Popularity=%{y}\\u003cbr\\u003eNumber of Tracks=%{customdata[0]}\\u003cbr\\u003eavg_genre_diversity=%{customdata[1]}\\u003cextra\\u003e\\u003c\\u002fextra\\u003e\",\"hovertext\":[\"Atlanta\"],\"legendgroup\":\"Atlanta\",\"marker\":{\"color\":\"#B6E880\",\"size\":{\"dtype\":\"f8\",\"bdata\":\"AAAAAABAVUA=\"},\"sizemode\":\"area\",\"sizeref\":0.2875,\"symbol\":\"circle\"},\"mode\":\"markers\",\"name\":\"Atlanta\",\"orientation\":\"v\",\"showlegend\":true,\"x\":{\"dtype\":\"f8\",\"bdata\":\"3Nvb29sbUEA=\"},\"xaxis\":\"x\",\"y\":{\"dtype\":\"f8\",\"bdata\":\"DAwMDAyMS0A=\"},\"yaxis\":\"y\",\"type\":\"scatter\"}],\"name\":\"2000.0\"},{\"data\":[{\"customdata\":{\"dtype\":\"f8\",\"bdata\":\"AAAAAADAW0B49MrYfkf\\u002fPw==\",\"shape\":\"1, 2\"},\"hovertemplate\":\"\\u003cb\\u003e%{hovertext}\\u003c\\u002fb\\u003e\\u003cbr\\u003e\\u003cbr\\u003ecity=Nashville\\u003cbr\\u003edecade=2010.0\\u003cbr\\u003eAverage Artist Popularity=%{x}\\u003cbr\\u003eAverage Track Popularity=%{y}\\u003cbr\\u003eNumber of Tracks=%{customdata[0]}\\u003cbr\\u003eavg_genre_diversity=%{customdata[1]}\\u003cextra\\u003e\\u003c\\u002fextra\\u003e\",\"hovertext\":[\"Nashville\"],\"legendgroup\":\"Nashville\",\"marker\":{\"color\":\"#636efa\",\"size\":{\"dtype\":\"f8\",\"bdata\":\"AAAAAADAW0A=\"},\"sizemode\":\"area\",\"sizeref\":0.2875,\"symbol\":\"circle\"},\"mode\":\"markers\",\"name\":\"Nashville\",\"orientation\":\"v\",\"showlegend\":true,\"x\":{\"dtype\":\"f8\",\"bdata\":\"J4G4UHMSU0A=\"},\"xaxis\":\"x\",\"y\":{\"dtype\":\"f8\",\"bdata\":\"DDUngbjQSEA=\"},\"yaxis\":\"y\",\"type\":\"scatter\"},{\"customdata\":{\"dtype\":\"f8\",\"bdata\":\"AAAAAACARECQwfkYnI\\u002fxPw==\",\"shape\":\"1, 2\"},\"hovertemplate\":\"\\u003cb\\u003e%{hovertext}\\u003c\\u002fb\\u003e\\u003cbr\\u003e\\u003cbr\\u003ecity=Los Angeles\\u003cbr\\u003edecade=2010.0\\u003cbr\\u003eAverage Artist Popularity=%{x}\\u003cbr\\u003eAverage Track Popularity=%{y}\\u003cbr\\u003eNumber of Tracks=%{customdata[0]}\\u003cbr\\u003eavg_genre_diversity=%{customdata[1]}\\u003cextra\\u003e\\u003c\\u002fextra\\u003e\",\"hovertext\":[\"Los Angeles\"],\"legendgroup\":\"Los Angeles\",\"marker\":{\"color\":\"#EF553B\",\"size\":{\"dtype\":\"f8\",\"bdata\":\"AAAAAACAREA=\"},\"sizemode\":\"area\",\"sizeref\":0.2875,\"symbol\":\"circle\"},\"mode\":\"markers\",\"name\":\"Los Angeles\",\"orientation\":\"v\",\"showlegend\":true,\"x\":{\"dtype\":\"f8\",\"bdata\":\"uxK1K1E7UEA=\"},\"xaxis\":\"x\",\"y\":{\"dtype\":\"f8\",\"bdata\":\"Mjgfg\\u002fMxQUA=\"},\"yaxis\":\"y\",\"type\":\"scatter\"},{\"customdata\":{\"dtype\":\"f8\",\"bdata\":\"AAAAAABAVkCWrGQlK1kBQA==\",\"shape\":\"1, 2\"},\"hovertemplate\":\"\\u003cb\\u003e%{hovertext}\\u003c\\u002fb\\u003e\\u003cbr\\u003e\\u003cbr\\u003ecity=Chicago\\u003cbr\\u003edecade=2010.0\\u003cbr\\u003eAverage Artist Popularity=%{x}\\u003cbr\\u003eAverage Track Popularity=%{y}\\u003cbr\\u003eNumber of Tracks=%{customdata[0]}\\u003cbr\\u003eavg_genre_diversity=%{customdata[1]}\\u003cextra\\u003e\\u003c\\u002fextra\\u003e\",\"hovertext\":[\"Chicago\"],\"legendgroup\":\"Chicago\",\"marker\":{\"color\":\"#00cc96\",\"size\":{\"dtype\":\"f8\",\"bdata\":\"AAAAAABAVkA=\"},\"sizemode\":\"area\",\"sizeref\":0.2875,\"symbol\":\"circle\"},\"mode\":\"markers\",\"name\":\"Chicago\",\"orientation\":\"v\",\"showlegend\":true,\"x\":{\"dtype\":\"f8\",\"bdata\":\"6Uc\\u002f+tEPTEA=\"},\"xaxis\":\"x\",\"y\":{\"dtype\":\"f8\",\"bdata\":\"alOb2tSmM0A=\"},\"yaxis\":\"y\",\"type\":\"scatter\"},{\"customdata\":{\"dtype\":\"f8\",\"bdata\":\"AAAAAAAAUEAAAAAAAIDkPw==\",\"shape\":\"1, 2\"},\"hovertemplate\":\"\\u003cb\\u003e%{hovertext}\\u003c\\u002fb\\u003e\\u003cbr\\u003e\\u003cbr\\u003ecity=Miami\\u003cbr\\u003edecade=2010.0\\u003cbr\\u003eAverage Artist Popularity=%{x}\\u003cbr\\u003eAverage Track Popularity=%{y}\\u003cbr\\u003eNumber of Tracks=%{customdata[0]}\\u003cbr\\u003eavg_genre_diversity=%{customdata[1]}\\u003cextra\\u003e\\u003c\\u002fextra\\u003e\",\"hovertext\":[\"Miami\"],\"legendgroup\":\"Miami\",\"marker\":{\"color\":\"#ab63fa\",\"size\":{\"dtype\":\"f8\",\"bdata\":\"AAAAAAAAUEA=\"},\"sizemode\":\"area\",\"sizeref\":0.2875,\"symbol\":\"circle\"},\"mode\":\"markers\",\"name\":\"Miami\",\"orientation\":\"v\",\"showlegend\":true,\"x\":{\"dtype\":\"f8\",\"bdata\":\"AAAAAADSVEA=\"},\"xaxis\":\"x\",\"y\":{\"dtype\":\"f8\",\"bdata\":\"AAAAAAD9UkA=\"},\"yaxis\":\"y\",\"type\":\"scatter\"},{\"customdata\":{\"dtype\":\"f8\",\"bdata\":\"AAAAAACAW0AXXXTRRRfdPw==\",\"shape\":\"1, 2\"},\"hovertemplate\":\"\\u003cb\\u003e%{hovertext}\\u003c\\u002fb\\u003e\\u003cbr\\u003e\\u003cbr\\u003ecity=New York\\u003cbr\\u003edecade=2010.0\\u003cbr\\u003eAverage Artist Popularity=%{x}\\u003cbr\\u003eAverage Track Popularity=%{y}\\u003cbr\\u003eNumber of Tracks=%{customdata[0]}\\u003cbr\\u003eavg_genre_diversity=%{customdata[1]}\\u003cextra\\u003e\\u003c\\u002fextra\\u003e\",\"hovertext\":[\"New York\"],\"legendgroup\":\"New York\",\"marker\":{\"color\":\"#FFA15A\",\"size\":{\"dtype\":\"f8\",\"bdata\":\"AAAAAACAW0A=\"},\"sizemode\":\"area\",\"sizeref\":0.2875,\"symbol\":\"circle\"},\"mode\":\"markers\",\"name\":\"New York\",\"orientation\":\"v\",\"showlegend\":true,\"x\":{\"dtype\":\"f8\",\"bdata\":\"8pQgTwmSVEA=\"},\"xaxis\":\"x\",\"y\":{\"dtype\":\"f8\",\"bdata\":\"7RvWvmEtU0A=\"},\"yaxis\":\"y\",\"type\":\"scatter\"},{\"customdata\":{\"dtype\":\"f8\",\"bdata\":\"AAAAAAAAPkAREREREREBQA==\",\"shape\":\"1, 2\"},\"hovertemplate\":\"\\u003cb\\u003e%{hovertext}\\u003c\\u002fb\\u003e\\u003cbr\\u003e\\u003cbr\\u003ecity=Seattle\\u003cbr\\u003edecade=2010.0\\u003cbr\\u003eAverage Artist Popularity=%{x}\\u003cbr\\u003eAverage Track Popularity=%{y}\\u003cbr\\u003eNumber of Tracks=%{customdata[0]}\\u003cbr\\u003eavg_genre_diversity=%{customdata[1]}\\u003cextra\\u003e\\u003c\\u002fextra\\u003e\",\"hovertext\":[\"Seattle\"],\"legendgroup\":\"Seattle\",\"marker\":{\"color\":\"#19d3f3\",\"size\":{\"dtype\":\"f8\",\"bdata\":\"AAAAAAAAPkA=\"},\"sizemode\":\"area\",\"sizeref\":0.2875,\"symbol\":\"circle\"},\"mode\":\"markers\",\"name\":\"Seattle\",\"orientation\":\"v\",\"showlegend\":true,\"x\":{\"dtype\":\"f8\",\"bdata\":\"7+7u7u6OUEA=\"},\"xaxis\":\"x\",\"y\":{\"dtype\":\"f8\",\"bdata\":\"d3d3d3e3QEA=\"},\"yaxis\":\"y\",\"type\":\"scatter\"},{\"customdata\":{\"dtype\":\"f8\",\"bdata\":\"AAAAAACATkD8FJcMwTrqPw==\",\"shape\":\"1, 2\"},\"hovertemplate\":\"\\u003cb\\u003e%{hovertext}\\u003c\\u002fb\\u003e\\u003cbr\\u003e\\u003cbr\\u003ecity=Austin\\u003cbr\\u003edecade=2010.0\\u003cbr\\u003eAverage Artist Popularity=%{x}\\u003cbr\\u003eAverage Track Popularity=%{y}\\u003cbr\\u003eNumber of Tracks=%{customdata[0]}\\u003cbr\\u003eavg_genre_diversity=%{customdata[1]}\\u003cextra\\u003e\\u003c\\u002fextra\\u003e\",\"hovertext\":[\"Austin\"],\"legendgroup\":\"Austin\",\"marker\":{\"color\":\"#FF6692\",\"size\":{\"dtype\":\"f8\",\"bdata\":\"AAAAAACATkA=\"},\"sizemode\":\"area\",\"sizeref\":0.2875,\"symbol\":\"circle\"},\"mode\":\"markers\",\"name\":\"Austin\",\"orientation\":\"v\",\"showlegend\":true,\"x\":{\"dtype\":\"f8\",\"bdata\":\"gnW0eZ8iUkA=\"},\"xaxis\":\"x\",\"y\":{\"dtype\":\"f8\",\"bdata\":\"VFwyBOvoUEA=\"},\"yaxis\":\"y\",\"type\":\"scatter\"},{\"customdata\":{\"dtype\":\"f8\",\"bdata\":\"AAAAAAAAT0Dvvffee+\\u002ftPw==\",\"shape\":\"1, 2\"},\"hovertemplate\":\"\\u003cb\\u003e%{hovertext}\\u003c\\u002fb\\u003e\\u003cbr\\u003e\\u003cbr\\u003ecity=Atlanta\\u003cbr\\u003edecade=2010.0\\u003cbr\\u003eAverage Artist Popularity=%{x}\\u003cbr\\u003eAverage Track Popularity=%{y}\\u003cbr\\u003eNumber of Tracks=%{customdata[0]}\\u003cbr\\u003eavg_genre_diversity=%{customdata[1]}\\u003cextra\\u003e\\u003c\\u002fextra\\u003e\",\"hovertext\":[\"Atlanta\"],\"legendgroup\":\"Atlanta\",\"marker\":{\"color\":\"#B6E880\",\"size\":{\"dtype\":\"f8\",\"bdata\":\"AAAAAAAAT0A=\"},\"sizemode\":\"area\",\"sizeref\":0.2875,\"symbol\":\"circle\"},\"mode\":\"markers\",\"name\":\"Atlanta\",\"orientation\":\"v\",\"showlegend\":true,\"x\":{\"dtype\":\"f8\",\"bdata\":\"W2uttdb6UEA=\"},\"xaxis\":\"x\",\"y\":{\"dtype\":\"f8\",\"bdata\":\"55xzzjnnQkA=\"},\"yaxis\":\"y\",\"type\":\"scatter\"}],\"name\":\"2010.0\"},{\"data\":[{\"customdata\":{\"dtype\":\"f8\",\"bdata\":\"AAAAAACASkBNMN7KPof0Pw==\",\"shape\":\"1, 2\"},\"hovertemplate\":\"\\u003cb\\u003e%{hovertext}\\u003c\\u002fb\\u003e\\u003cbr\\u003e\\u003cbr\\u003ecity=Nashville\\u003cbr\\u003edecade=2020.0\\u003cbr\\u003eAverage Artist Popularity=%{x}\\u003cbr\\u003eAverage Track Popularity=%{y}\\u003cbr\\u003eNumber of Tracks=%{customdata[0]}\\u003cbr\\u003eavg_genre_diversity=%{customdata[1]}\\u003cextra\\u003e\\u003c\\u002fextra\\u003e\",\"hovertext\":[\"Nashville\"],\"legendgroup\":\"Nashville\",\"marker\":{\"color\":\"#636efa\",\"size\":{\"dtype\":\"f8\",\"bdata\":\"AAAAAACASkA=\"},\"sizemode\":\"area\",\"sizeref\":0.2875,\"symbol\":\"circle\"},\"mode\":\"markers\",\"name\":\"Nashville\",\"orientation\":\"v\",\"showlegend\":true,\"x\":{\"dtype\":\"f8\",\"bdata\":\"ln0OqQkGUkA=\"},\"xaxis\":\"x\",\"y\":{\"dtype\":\"f8\",\"bdata\":\"xlvZ55AaUUA=\"},\"yaxis\":\"y\",\"type\":\"scatter\"},{\"customdata\":{\"dtype\":\"f8\",\"bdata\":\"AAAAAAAAIkAAAAAAAADwPw==\",\"shape\":\"1, 2\"},\"hovertemplate\":\"\\u003cb\\u003e%{hovertext}\\u003c\\u002fb\\u003e\\u003cbr\\u003e\\u003cbr\\u003ecity=Los Angeles\\u003cbr\\u003edecade=2020.0\\u003cbr\\u003eAverage Artist Popularity=%{x}\\u003cbr\\u003eAverage Track Popularity=%{y}\\u003cbr\\u003eNumber of Tracks=%{customdata[0]}\\u003cbr\\u003eavg_genre_diversity=%{customdata[1]}\\u003cextra\\u003e\\u003c\\u002fextra\\u003e\",\"hovertext\":[\"Los Angeles\"],\"legendgroup\":\"Los Angeles\",\"marker\":{\"color\":\"#EF553B\",\"size\":{\"dtype\":\"f8\",\"bdata\":\"AAAAAAAAIkA=\"},\"sizemode\":\"area\",\"sizeref\":0.2875,\"symbol\":\"circle\"},\"mode\":\"markers\",\"name\":\"Los Angeles\",\"orientation\":\"v\",\"showlegend\":true,\"x\":{\"dtype\":\"f8\",\"bdata\":\"OY7jOI4jUkA=\"},\"xaxis\":\"x\",\"y\":{\"dtype\":\"f8\",\"bdata\":\"OY7jOI7jSkA=\"},\"yaxis\":\"y\",\"type\":\"scatter\"},{\"customdata\":{\"dtype\":\"f8\",\"bdata\":\"AAAAAAAATkDv7u7u7u76Pw==\",\"shape\":\"1, 2\"},\"hovertemplate\":\"\\u003cb\\u003e%{hovertext}\\u003c\\u002fb\\u003e\\u003cbr\\u003e\\u003cbr\\u003ecity=Chicago\\u003cbr\\u003edecade=2020.0\\u003cbr\\u003eAverage Artist Popularity=%{x}\\u003cbr\\u003eAverage Track Popularity=%{y}\\u003cbr\\u003eNumber of Tracks=%{customdata[0]}\\u003cbr\\u003eavg_genre_diversity=%{customdata[1]}\\u003cextra\\u003e\\u003c\\u002fextra\\u003e\",\"hovertext\":[\"Chicago\"],\"legendgroup\":\"Chicago\",\"marker\":{\"color\":\"#00cc96\",\"size\":{\"dtype\":\"f8\",\"bdata\":\"AAAAAAAATkA=\"},\"sizemode\":\"area\",\"sizeref\":0.2875,\"symbol\":\"circle\"},\"mode\":\"markers\",\"name\":\"Chicago\",\"orientation\":\"v\",\"showlegend\":true,\"x\":{\"dtype\":\"f8\",\"bdata\":\"vLu7u7urUUA=\"},\"xaxis\":\"x\",\"y\":{\"dtype\":\"f8\",\"bdata\":\"mpmZmZnZP0A=\"},\"yaxis\":\"y\",\"type\":\"scatter\"},{\"customdata\":{\"dtype\":\"f8\",\"bdata\":\"AAAAAAAAV0D1pje96U33Pw==\",\"shape\":\"1, 2\"},\"hovertemplate\":\"\\u003cb\\u003e%{hovertext}\\u003c\\u002fb\\u003e\\u003cbr\\u003e\\u003cbr\\u003ecity=Miami\\u003cbr\\u003edecade=2020.0\\u003cbr\\u003eAverage Artist Popularity=%{x}\\u003cbr\\u003eAverage Track Popularity=%{y}\\u003cbr\\u003eNumber of Tracks=%{customdata[0]}\\u003cbr\\u003eavg_genre_diversity=%{customdata[1]}\\u003cextra\\u003e\\u003c\\u002fextra\\u003e\",\"hovertext\":[\"Miami\"],\"legendgroup\":\"Miami\",\"marker\":{\"color\":\"#ab63fa\",\"size\":{\"dtype\":\"f8\",\"bdata\":\"AAAAAAAAV0A=\"},\"sizemode\":\"area\",\"sizeref\":0.2875,\"symbol\":\"circle\"},\"mode\":\"markers\",\"name\":\"Miami\",\"orientation\":\"v\",\"showlegend\":true,\"x\":{\"dtype\":\"f8\",\"bdata\":\"IQtZyEKWTkA=\"},\"xaxis\":\"x\",\"y\":{\"dtype\":\"f8\",\"bdata\":\"ZCELWchCTEA=\"},\"yaxis\":\"y\",\"type\":\"scatter\"},{\"customdata\":{\"dtype\":\"f8\",\"bdata\":\"AAAAAAAAQUCXlpaWlpbGPw==\",\"shape\":\"1, 2\"},\"hovertemplate\":\"\\u003cb\\u003e%{hovertext}\\u003c\\u002fb\\u003e\\u003cbr\\u003e\\u003cbr\\u003ecity=New York\\u003cbr\\u003edecade=2020.0\\u003cbr\\u003eAverage Artist Popularity=%{x}\\u003cbr\\u003eAverage Track Popularity=%{y}\\u003cbr\\u003eNumber of Tracks=%{customdata[0]}\\u003cbr\\u003eavg_genre_diversity=%{customdata[1]}\\u003cextra\\u003e\\u003c\\u002fextra\\u003e\",\"hovertext\":[\"New York\"],\"legendgroup\":\"New York\",\"marker\":{\"color\":\"#FFA15A\",\"size\":{\"dtype\":\"f8\",\"bdata\":\"AAAAAAAAQUA=\"},\"sizemode\":\"area\",\"sizeref\":0.2875,\"symbol\":\"circle\"},\"mode\":\"markers\",\"name\":\"New York\",\"orientation\":\"v\",\"showlegend\":true,\"x\":{\"dtype\":\"f8\",\"bdata\":\"iIeHh4dHTEA=\"},\"xaxis\":\"x\",\"y\":{\"dtype\":\"f8\",\"bdata\":\"S0tLS0sLSEA=\"},\"yaxis\":\"y\",\"type\":\"scatter\"},{\"customdata\":{\"dtype\":\"f8\",\"bdata\":\"AAAAAAAAJkAAAAAAAAAYQA==\",\"shape\":\"1, 2\"},\"hovertemplate\":\"\\u003cb\\u003e%{hovertext}\\u003c\\u002fb\\u003e\\u003cbr\\u003e\\u003cbr\\u003ecity=Seattle\\u003cbr\\u003edecade=2020.0\\u003cbr\\u003eAverage Artist Popularity=%{x}\\u003cbr\\u003eAverage Track Popularity=%{y}\\u003cbr\\u003eNumber of Tracks=%{customdata[0]}\\u003cbr\\u003eavg_genre_diversity=%{customdata[1]}\\u003cextra\\u003e\\u003c\\u002fextra\\u003e\",\"hovertext\":[\"Seattle\"],\"legendgroup\":\"Seattle\",\"marker\":{\"color\":\"#19d3f3\",\"size\":{\"dtype\":\"f8\",\"bdata\":\"AAAAAAAAJkA=\"},\"sizemode\":\"area\",\"sizeref\":0.2875,\"symbol\":\"circle\"},\"mode\":\"markers\",\"name\":\"Seattle\",\"orientation\":\"v\",\"showlegend\":true,\"x\":{\"dtype\":\"f8\",\"bdata\":\"AAAAAADAUEA=\"},\"xaxis\":\"x\",\"y\":{\"dtype\":\"f8\",\"bdata\":\"XXTRRRddP0A=\"},\"yaxis\":\"y\",\"type\":\"scatter\"},{\"customdata\":{\"dtype\":\"f8\",\"bdata\":\"AAAAAADAXEDG\\u002fbqk8mHsPw==\",\"shape\":\"1, 2\"},\"hovertemplate\":\"\\u003cb\\u003e%{hovertext}\\u003c\\u002fb\\u003e\\u003cbr\\u003e\\u003cbr\\u003ecity=Austin\\u003cbr\\u003edecade=2020.0\\u003cbr\\u003eAverage Artist Popularity=%{x}\\u003cbr\\u003eAverage Track Popularity=%{y}\\u003cbr\\u003eNumber of Tracks=%{customdata[0]}\\u003cbr\\u003eavg_genre_diversity=%{customdata[1]}\\u003cextra\\u003e\\u003c\\u002fextra\\u003e\",\"hovertext\":[\"Austin\"],\"legendgroup\":\"Austin\",\"marker\":{\"color\":\"#FF6692\",\"size\":{\"dtype\":\"f8\",\"bdata\":\"AAAAAADAXEA=\"},\"sizemode\":\"area\",\"sizeref\":0.2875,\"symbol\":\"circle\"},\"mode\":\"markers\",\"name\":\"Austin\",\"orientation\":\"v\",\"showlegend\":true,\"x\":{\"dtype\":\"f8\",\"bdata\":\"wnMEirbaUkA=\"},\"xaxis\":\"x\",\"y\":{\"dtype\":\"f8\",\"bdata\":\"zczMzMyMUUA=\"},\"yaxis\":\"y\",\"type\":\"scatter\"},{\"customdata\":{\"dtype\":\"f8\",\"bdata\":\"AAAAAAAANkBddNFFF13UPw==\",\"shape\":\"1, 2\"},\"hovertemplate\":\"\\u003cb\\u003e%{hovertext}\\u003c\\u002fb\\u003e\\u003cbr\\u003e\\u003cbr\\u003ecity=Atlanta\\u003cbr\\u003edecade=2020.0\\u003cbr\\u003eAverage Artist Popularity=%{x}\\u003cbr\\u003eAverage Track Popularity=%{y}\\u003cbr\\u003eNumber of Tracks=%{customdata[0]}\\u003cbr\\u003eavg_genre_diversity=%{customdata[1]}\\u003cextra\\u003e\\u003c\\u002fextra\\u003e\",\"hovertext\":[\"Atlanta\"],\"legendgroup\":\"Atlanta\",\"marker\":{\"color\":\"#B6E880\",\"size\":{\"dtype\":\"f8\",\"bdata\":\"AAAAAAAANkA=\"},\"sizemode\":\"area\",\"sizeref\":0.2875,\"symbol\":\"circle\"},\"mode\":\"markers\",\"name\":\"Atlanta\",\"orientation\":\"v\",\"showlegend\":true,\"x\":{\"dtype\":\"f8\",\"bdata\":\"jC666KILTEA=\"},\"xaxis\":\"x\",\"y\":{\"dtype\":\"f8\",\"bdata\":\"uuiiiy46QkA=\"},\"yaxis\":\"y\",\"type\":\"scatter\"}],\"name\":\"2020.0\"},{\"data\":[{\"customdata\":{\"dtype\":\"f8\",\"bdata\":\"AAAAAAAAAEAAAAAAAAAAQA==\",\"shape\":\"1, 2\"},\"hovertemplate\":\"\\u003cb\\u003e%{hovertext}\\u003c\\u002fb\\u003e\\u003cbr\\u003e\\u003cbr\\u003ecity=Los Angeles\\u003cbr\\u003edecade=1950.0\\u003cbr\\u003eAverage Artist Popularity=%{x}\\u003cbr\\u003eAverage Track Popularity=%{y}\\u003cbr\\u003eNumber of Tracks=%{customdata[0]}\\u003cbr\\u003eavg_genre_diversity=%{customdata[1]}\\u003cextra\\u003e\\u003c\\u002fextra\\u003e\",\"hovertext\":[\"Los Angeles\"],\"legendgroup\":\"Los Angeles\",\"marker\":{\"color\":\"#EF553B\",\"size\":{\"dtype\":\"f8\",\"bdata\":\"AAAAAAAAAEA=\"},\"sizemode\":\"area\",\"sizeref\":0.2875,\"symbol\":\"circle\"},\"mode\":\"markers\",\"name\":\"Los Angeles\",\"orientation\":\"v\",\"showlegend\":true,\"x\":{\"dtype\":\"f8\",\"bdata\":\"AAAAAABAQUA=\"},\"xaxis\":\"x\",\"y\":{\"dtype\":\"f8\",\"bdata\":\"AAAAAAAAKkA=\"},\"yaxis\":\"y\",\"type\":\"scatter\"},{\"customdata\":{\"dtype\":\"f8\",\"bdata\":\"AAAAAAAAFECamZmZmZkZQA==\",\"shape\":\"1, 2\"},\"hovertemplate\":\"\\u003cb\\u003e%{hovertext}\\u003c\\u002fb\\u003e\\u003cbr\\u003e\\u003cbr\\u003ecity=Seattle\\u003cbr\\u003edecade=1950.0\\u003cbr\\u003eAverage Artist Popularity=%{x}\\u003cbr\\u003eAverage Track Popularity=%{y}\\u003cbr\\u003eNumber of Tracks=%{customdata[0]}\\u003cbr\\u003eavg_genre_diversity=%{customdata[1]}\\u003cextra\\u003e\\u003c\\u002fextra\\u003e\",\"hovertext\":[\"Seattle\"],\"legendgroup\":\"Seattle\",\"marker\":{\"color\":\"#19d3f3\",\"size\":{\"dtype\":\"f8\",\"bdata\":\"AAAAAAAAFEA=\"},\"sizemode\":\"area\",\"sizeref\":0.2875,\"symbol\":\"circle\"},\"mode\":\"markers\",\"name\":\"Seattle\",\"orientation\":\"v\",\"showlegend\":true,\"x\":{\"dtype\":\"f8\",\"bdata\":\"MzMzMzOzTUA=\"},\"xaxis\":\"x\",\"y\":{\"dtype\":\"f8\",\"bdata\":\"MzMzMzOzQ0A=\"},\"yaxis\":\"y\",\"type\":\"scatter\"}],\"name\":\"1950.0\"},{\"data\":[{\"customdata\":{\"dtype\":\"f8\",\"bdata\":\"AAAAAAAAKEBVVVVVVVUDQA==\",\"shape\":\"1, 2\"},\"hovertemplate\":\"\\u003cb\\u003e%{hovertext}\\u003c\\u002fb\\u003e\\u003cbr\\u003e\\u003cbr\\u003ecity=Los Angeles\\u003cbr\\u003edecade=1960.0\\u003cbr\\u003eAverage Artist Popularity=%{x}\\u003cbr\\u003eAverage Track Popularity=%{y}\\u003cbr\\u003eNumber of Tracks=%{customdata[0]}\\u003cbr\\u003eavg_genre_diversity=%{customdata[1]}\\u003cextra\\u003e\\u003c\\u002fextra\\u003e\",\"hovertext\":[\"Los Angeles\"],\"legendgroup\":\"Los Angeles\",\"marker\":{\"color\":\"#EF553B\",\"size\":{\"dtype\":\"f8\",\"bdata\":\"AAAAAAAAKEA=\"},\"sizemode\":\"area\",\"sizeref\":0.2875,\"symbol\":\"circle\"},\"mode\":\"markers\",\"name\":\"Los Angeles\",\"orientation\":\"v\",\"showlegend\":true,\"x\":{\"dtype\":\"f8\",\"bdata\":\"VVVVVVVVS0A=\"},\"xaxis\":\"x\",\"y\":{\"dtype\":\"f8\",\"bdata\":\"VVVVVVV1Q0A=\"},\"yaxis\":\"y\",\"type\":\"scatter\"},{\"customdata\":{\"dtype\":\"f8\",\"bdata\":\"AAAAAAAANEBmZmZmZmYUQA==\",\"shape\":\"1, 2\"},\"hovertemplate\":\"\\u003cb\\u003e%{hovertext}\\u003c\\u002fb\\u003e\\u003cbr\\u003e\\u003cbr\\u003ecity=Seattle\\u003cbr\\u003edecade=1960.0\\u003cbr\\u003eAverage Artist Popularity=%{x}\\u003cbr\\u003eAverage Track Popularity=%{y}\\u003cbr\\u003eNumber of Tracks=%{customdata[0]}\\u003cbr\\u003eavg_genre_diversity=%{customdata[1]}\\u003cextra\\u003e\\u003c\\u002fextra\\u003e\",\"hovertext\":[\"Seattle\"],\"legendgroup\":\"Seattle\",\"marker\":{\"color\":\"#19d3f3\",\"size\":{\"dtype\":\"f8\",\"bdata\":\"AAAAAAAANEA=\"},\"sizemode\":\"area\",\"sizeref\":0.2875,\"symbol\":\"circle\"},\"mode\":\"markers\",\"name\":\"Seattle\",\"orientation\":\"v\",\"showlegend\":true,\"x\":{\"dtype\":\"f8\",\"bdata\":\"ZmZmZmZGUEA=\"},\"xaxis\":\"x\",\"y\":{\"dtype\":\"f8\",\"bdata\":\"AAAAAACASEA=\"},\"yaxis\":\"y\",\"type\":\"scatter\"}],\"name\":\"1960.0\"},{\"data\":[{\"customdata\":{\"dtype\":\"f8\",\"bdata\":\"AAAAAAAAJkDpoosuuugCQA==\",\"shape\":\"1, 2\"},\"hovertemplate\":\"\\u003cb\\u003e%{hovertext}\\u003c\\u002fb\\u003e\\u003cbr\\u003e\\u003cbr\\u003ecity=Los Angeles\\u003cbr\\u003edecade=1970.0\\u003cbr\\u003eAverage Artist Popularity=%{x}\\u003cbr\\u003eAverage Track Popularity=%{y}\\u003cbr\\u003eNumber of Tracks=%{customdata[0]}\\u003cbr\\u003eavg_genre_diversity=%{customdata[1]}\\u003cextra\\u003e\\u003c\\u002fextra\\u003e\",\"hovertext\":[\"Los Angeles\"],\"legendgroup\":\"Los Angeles\",\"marker\":{\"color\":\"#EF553B\",\"size\":{\"dtype\":\"f8\",\"bdata\":\"AAAAAAAAJkA=\"},\"sizemode\":\"area\",\"sizeref\":0.2875,\"symbol\":\"circle\"},\"mode\":\"markers\",\"name\":\"Los Angeles\",\"orientation\":\"v\",\"showlegend\":true,\"x\":{\"dtype\":\"f8\",\"bdata\":\"RhdddNGFUUA=\"},\"xaxis\":\"x\",\"y\":{\"dtype\":\"f8\",\"bdata\":\"AAAAAAAARUA=\"},\"yaxis\":\"y\",\"type\":\"scatter\"},{\"customdata\":{\"dtype\":\"f8\",\"bdata\":\"AAAAAAAA8D8AAAAAAAAIQA==\",\"shape\":\"1, 2\"},\"hovertemplate\":\"\\u003cb\\u003e%{hovertext}\\u003c\\u002fb\\u003e\\u003cbr\\u003e\\u003cbr\\u003ecity=Seattle\\u003cbr\\u003edecade=1970.0\\u003cbr\\u003eAverage Artist Popularity=%{x}\\u003cbr\\u003eAverage Track Popularity=%{y}\\u003cbr\\u003eNumber of Tracks=%{customdata[0]}\\u003cbr\\u003eavg_genre_diversity=%{customdata[1]}\\u003cextra\\u003e\\u003c\\u002fextra\\u003e\",\"hovertext\":[\"Seattle\"],\"legendgroup\":\"Seattle\",\"marker\":{\"color\":\"#19d3f3\",\"size\":{\"dtype\":\"f8\",\"bdata\":\"AAAAAAAA8D8=\"},\"sizemode\":\"area\",\"sizeref\":0.2875,\"symbol\":\"circle\"},\"mode\":\"markers\",\"name\":\"Seattle\",\"orientation\":\"v\",\"showlegend\":true,\"x\":{\"dtype\":\"f8\",\"bdata\":\"AAAAAADAUUA=\"},\"xaxis\":\"x\",\"y\":{\"dtype\":\"f8\",\"bdata\":\"AAAAAACAU0A=\"},\"yaxis\":\"y\",\"type\":\"scatter\"}],\"name\":\"1970.0\"},{\"data\":[{\"customdata\":{\"dtype\":\"f8\",\"bdata\":\"AAAAAAAAKEBVVVVVVVULQA==\",\"shape\":\"1, 2\"},\"hovertemplate\":\"\\u003cb\\u003e%{hovertext}\\u003c\\u002fb\\u003e\\u003cbr\\u003e\\u003cbr\\u003ecity=Los Angeles\\u003cbr\\u003edecade=1980.0\\u003cbr\\u003eAverage Artist Popularity=%{x}\\u003cbr\\u003eAverage Track Popularity=%{y}\\u003cbr\\u003eNumber of Tracks=%{customdata[0]}\\u003cbr\\u003eavg_genre_diversity=%{customdata[1]}\\u003cextra\\u003e\\u003c\\u002fextra\\u003e\",\"hovertext\":[\"Los Angeles\"],\"legendgroup\":\"Los Angeles\",\"marker\":{\"color\":\"#EF553B\",\"size\":{\"dtype\":\"f8\",\"bdata\":\"AAAAAAAAKEA=\"},\"sizemode\":\"area\",\"sizeref\":0.2875,\"symbol\":\"circle\"},\"mode\":\"markers\",\"name\":\"Los Angeles\",\"orientation\":\"v\",\"showlegend\":true,\"x\":{\"dtype\":\"f8\",\"bdata\":\"AAAAAACATkA=\"},\"xaxis\":\"x\",\"y\":{\"dtype\":\"f8\",\"bdata\":\"VVVVVVXVQEA=\"},\"yaxis\":\"y\",\"type\":\"scatter\"},{\"customdata\":{\"dtype\":\"f8\",\"bdata\":\"AAAAAAAAAEAAAAAAAAAQQA==\",\"shape\":\"1, 2\"},\"hovertemplate\":\"\\u003cb\\u003e%{hovertext}\\u003c\\u002fb\\u003e\\u003cbr\\u003e\\u003cbr\\u003ecity=Chicago\\u003cbr\\u003edecade=1980.0\\u003cbr\\u003eAverage Artist Popularity=%{x}\\u003cbr\\u003eAverage Track Popularity=%{y}\\u003cbr\\u003eNumber of Tracks=%{customdata[0]}\\u003cbr\\u003eavg_genre_diversity=%{customdata[1]}\\u003cextra\\u003e\\u003c\\u002fextra\\u003e\",\"hovertext\":[\"Chicago\"],\"legendgroup\":\"Chicago\",\"marker\":{\"color\":\"#00cc96\",\"size\":{\"dtype\":\"f8\",\"bdata\":\"AAAAAAAAAEA=\"},\"sizemode\":\"area\",\"sizeref\":0.2875,\"symbol\":\"circle\"},\"mode\":\"markers\",\"name\":\"Chicago\",\"orientation\":\"v\",\"showlegend\":true,\"x\":{\"dtype\":\"f8\",\"bdata\":\"AAAAAABARkA=\"},\"xaxis\":\"x\",\"y\":{\"dtype\":\"f8\",\"bdata\":\"AAAAAACAMkA=\"},\"yaxis\":\"y\",\"type\":\"scatter\"},{\"customdata\":{\"dtype\":\"f8\",\"bdata\":\"AAAAAAAAEEAAAAAAAAACQA==\",\"shape\":\"1, 2\"},\"hovertemplate\":\"\\u003cb\\u003e%{hovertext}\\u003c\\u002fb\\u003e\\u003cbr\\u003e\\u003cbr\\u003ecity=Seattle\\u003cbr\\u003edecade=1980.0\\u003cbr\\u003eAverage Artist Popularity=%{x}\\u003cbr\\u003eAverage Track Popularity=%{y}\\u003cbr\\u003eNumber of Tracks=%{customdata[0]}\\u003cbr\\u003eavg_genre_diversity=%{customdata[1]}\\u003cextra\\u003e\\u003c\\u002fextra\\u003e\",\"hovertext\":[\"Seattle\"],\"legendgroup\":\"Seattle\",\"marker\":{\"color\":\"#19d3f3\",\"size\":{\"dtype\":\"f8\",\"bdata\":\"AAAAAAAAEEA=\"},\"sizemode\":\"area\",\"sizeref\":0.2875,\"symbol\":\"circle\"},\"mode\":\"markers\",\"name\":\"Seattle\",\"orientation\":\"v\",\"showlegend\":true,\"x\":{\"dtype\":\"f8\",\"bdata\":\"AAAAAACgUEA=\"},\"xaxis\":\"x\",\"y\":{\"dtype\":\"f8\",\"bdata\":\"AAAAAACgT0A=\"},\"yaxis\":\"y\",\"type\":\"scatter\"}],\"name\":\"1980.0\"},{\"data\":[{\"customdata\":{\"dtype\":\"f8\",\"bdata\":\"AAAAAAAAAEAAAAAAAADwPw==\",\"shape\":\"1, 2\"},\"hovertemplate\":\"\\u003cb\\u003e%{hovertext}\\u003c\\u002fb\\u003e\\u003cbr\\u003e\\u003cbr\\u003ecity=Seattle\\u003cbr\\u003edecade=1940.0\\u003cbr\\u003eAverage Artist Popularity=%{x}\\u003cbr\\u003eAverage Track Popularity=%{y}\\u003cbr\\u003eNumber of Tracks=%{customdata[0]}\\u003cbr\\u003eavg_genre_diversity=%{customdata[1]}\\u003cextra\\u003e\\u003c\\u002fextra\\u003e\",\"hovertext\":[\"Seattle\"],\"legendgroup\":\"Seattle\",\"marker\":{\"color\":\"#19d3f3\",\"size\":{\"dtype\":\"f8\",\"bdata\":\"AAAAAAAAAEA=\"},\"sizemode\":\"area\",\"sizeref\":0.2875,\"symbol\":\"circle\"},\"mode\":\"markers\",\"name\":\"Seattle\",\"orientation\":\"v\",\"showlegend\":true,\"x\":{\"dtype\":\"f8\",\"bdata\":\"AAAAAACATUA=\"},\"xaxis\":\"x\",\"y\":{\"dtype\":\"f8\",\"bdata\":\"AAAAAACAO0A=\"},\"yaxis\":\"y\",\"type\":\"scatter\"}],\"name\":\"1940.0\"}]);\n",
       "                        }).then(function(){\n",
       "                            \n",
       "var gd = document.getElementById('8278f7b9-9bd5-4259-8ae7-481aa85cf7d7');\n",
       "var x = new MutationObserver(function (mutations, observer) {{\n",
       "        var display = window.getComputedStyle(gd).display;\n",
       "        if (!display || display === 'none') {{\n",
       "            console.log([gd, 'removed!']);\n",
       "            Plotly.purge(gd);\n",
       "            observer.disconnect();\n",
       "        }}\n",
       "}});\n",
       "\n",
       "// Listen for the removal of the full notebook cells\n",
       "var notebookContainer = gd.closest('#notebook-container');\n",
       "if (notebookContainer) {{\n",
       "    x.observe(notebookContainer, {childList: true});\n",
       "}}\n",
       "\n",
       "// Listen for the clearing of the current output cell\n",
       "var outputEl = gd.closest('.output');\n",
       "if (outputEl) {{\n",
       "    x.observe(outputEl, {childList: true});\n",
       "}}\n",
       "\n",
       "                        })                };            </script>        </div>"
      ]
     },
     "metadata": {},
     "output_type": "display_data"
    },
    {
     "name": "stdout",
     "output_type": "stream",
     "text": [
      "\n",
      "Temporal Analysis Summary:\n",
      "Decades with most tracks by city:\n",
      "  Nashville: 2010s (111.0 tracks)\n",
      "  Los Angeles: 1990s (44.0 tracks)\n",
      "  Chicago: 2010s (89.0 tracks)\n",
      "  Miami: 2020s (92.0 tracks)\n",
      "  New York: 2010s (110.0 tracks)\n",
      "  Seattle: 1990s (67.0 tracks)\n",
      "  Austin: 2020s (115.0 tracks)\n",
      "  Atlanta: 2000s (85.0 tracks)\n"
     ]
    }
   ],
   "source": [
    "#temporal evolution map\n",
    "print('\\nCreating Temporal Evolution Map...')\n",
    "\n",
    "temporal_fig, timeline_df = create_temporal_evolution_map(df)\n",
    "temporal_fig.show()\n",
    "\n",
    "print('\\nTemporal Analysis Summary:')\n",
    "print('Decades with most tracks by city:')\n",
    "for city in df['city'].unique():\n",
    "    city_timeline = timeline_df[timeline_df['city'] == city]\n",
    "    if not city_timeline.empty:\n",
    "        top_decade = city_timeline.loc[city_timeline['track_count'].idxmax()]\n",
    "        print(f'  {city}: {int(top_decade[\"decade\"])}s ({top_decade[\"track_count\"]} tracks)')"
   ]
  },
  {
   "cell_type": "code",
   "execution_count": 62,
   "id": "bf164150",
   "metadata": {},
   "outputs": [
    {
     "name": "stdout",
     "output_type": "stream",
     "text": [
      "\n",
      "Creating Popularity vs Diversity Matrix\n",
      "\n",
      "CREATING POPULARITY VS DIVERSITY MATRIX\n",
      "==================================================\n"
     ]
    },
    {
     "data": {
      "application/vnd.plotly.v1+json": {
       "config": {
        "plotlyServerURL": "https://plot.ly"
       },
       "data": [
        {
         "marker": {
          "color": [
           "rgb(141,211,199)",
           "rgb(255,255,179)",
           "rgb(190,186,218)",
           "rgb(251,128,114)",
           "rgb(128,177,211)",
           "rgb(253,180,98)",
           "rgb(179,222,105)",
           "rgb(252,205,229)"
          ],
          "line": {
           "color": "white",
           "width": 2
          },
          "size": 12
         },
         "mode": "markers+text",
         "name": "Artist Popularity",
         "showlegend": false,
         "text": [
          "Nashville",
          "Los Angeles",
          "Chicago",
          "Miami",
          "New York",
          "Seattle",
          "Austin",
          "Atlanta"
         ],
         "textfont": {
          "color": "black",
          "size": 11
         },
         "textposition": "top center",
         "type": "scatter",
         "x": {
          "bdata": "bEJQ9r6mUkAS83aGxPxPQAAAAAAAQExAKBeibgYtUkBG2rECYYRTQFAuRN0M2lBAuuiiiy6aUkC4tTdWf2BQQA==",
          "dtype": "f8"
         },
         "xaxis": "x",
         "y": {
          "bdata": "AAAAAAAAMEAAAAAAAEBbQAAAAAAAAEhAAAAAAAAASEAAAAAAAAA6QAAAAAAAAEJAAAAAAAAANkAAAAAAAAAzQA==",
          "dtype": "f8"
         },
         "yaxis": "y"
        },
        {
         "marker": {
          "color": [
           "rgb(141,211,199)",
           "rgb(255,255,179)",
           "rgb(190,186,218)",
           "rgb(251,128,114)",
           "rgb(128,177,211)",
           "rgb(253,180,98)",
           "rgb(179,222,105)",
           "rgb(252,205,229)"
          ],
          "line": {
           "color": "white",
           "width": 2
          },
          "size": 15
         },
         "mode": "markers+text",
         "name": "Track Popularity",
         "showlegend": false,
         "text": [
          "Nashville",
          "Los Angeles",
          "Chicago",
          "Miami",
          "New York",
          "Seattle",
          "Austin",
          "Atlanta"
         ],
         "textfont": {
          "color": "black",
          "size": 11
         },
         "textposition": "top center",
         "type": "scatter",
         "x": {
          "bdata": "3OmPWMCdS0Blk0022aRCQM3MzMzMzDpAYKN3RebLUEDwuSVO/R5SQKqkgISfXEJAH3zwwQdfUUBtLh1qsLtHQA==",
          "dtype": "f8"
         },
         "xaxis": "x2",
         "y": {
          "bdata": "AAAAAAAAMEAAAAAAAEBbQAAAAAAAAEhAAAAAAAAASEAAAAAAAAA6QAAAAAAAAEJAAAAAAAAANkAAAAAAAAAzQA==",
          "dtype": "f8"
         },
         "yaxis": "y2"
        },
        {
         "marker": {
          "color": [
           "rgb(141,211,199)",
           "rgb(255,255,179)",
           "rgb(190,186,218)",
           "rgb(251,128,114)",
           "rgb(128,177,211)",
           "rgb(253,180,98)",
           "rgb(179,222,105)",
           "rgb(252,205,229)"
          ],
          "line": {
           "color": "white",
           "width": 2
          },
          "size": 15
         },
         "mode": "markers+text",
         "name": "Artist Followers",
         "showlegend": false,
         "text": [
          "Nashville",
          "Los Angeles",
          "Chicago",
          "Miami",
          "New York",
          "Seattle",
          "Austin",
          "Atlanta"
         ],
         "textfont": {
          "color": "black",
          "size": 11
         },
         "textposition": "top center",
         "type": "scatter",
         "x": {
          "bdata": "XqiGxSyPGkBXb14qkgQbQO68vyr96hlAE5CMu4+iHEBqb/yOMhceQCYKfxLCgxpAM2OjWLkeG0Cms/jo+mEaQA==",
          "dtype": "f8"
         },
         "xaxis": "x3",
         "y": {
          "bdata": "AAAAAAAAMEAAAAAAAEBbQAAAAAAAAEhAAAAAAAAASEAAAAAAAAA6QAAAAAAAAEJAAAAAAAAANkAAAAAAAAAzQA==",
          "dtype": "f8"
         },
         "yaxis": "y3"
        },
        {
         "marker": {
          "color": [
           "rgb(141,211,199)",
           "rgb(255,255,179)",
           "rgb(190,186,218)",
           "rgb(251,128,114)",
           "rgb(128,177,211)",
           "rgb(253,180,98)",
           "rgb(179,222,105)",
           "rgb(252,205,229)"
          ],
          "line": {
           "color": "white",
           "width": 2
          },
          "size": 15
         },
         "mode": "markers+text",
         "name": "Track Age",
         "showlegend": false,
         "text": [
          "Nashville",
          "Los Angeles",
          "Chicago",
          "Miami",
          "New York",
          "Seattle",
          "Austin",
          "Atlanta"
         ],
         "textfont": {
          "color": "black",
          "size": 11
         },
         "textposition": "top center",
         "type": "scatter",
         "x": {
          "bdata": "8lk3mCKfHUCghDeaOj86QFVVVVVVVSZAREREREREIEBbsAVbsAUnQGvfsPYNaz1AAAAAAAAQF0DaOvSbrUMtQA==",
          "dtype": "f8"
         },
         "xaxis": "x4",
         "y": {
          "bdata": "AAAAAAAAMEAAAAAAAEBbQAAAAAAAAEhAAAAAAAAASEAAAAAAAAA6QAAAAAAAAEJAAAAAAAAANkAAAAAAAAAzQA==",
          "dtype": "f8"
         },
         "yaxis": "y4"
        }
       ],
       "layout": {
        "annotations": [
         {
          "font": {
           "size": 16
          },
          "showarrow": false,
          "text": "Artist Popularity vs Genre Diversity",
          "x": 0.22,
          "xanchor": "center",
          "xref": "paper",
          "y": 1,
          "yanchor": "bottom",
          "yref": "paper"
         },
         {
          "font": {
           "size": 16
          },
          "showarrow": false,
          "text": "Track Popularity vs Genre Diversity",
          "x": 0.78,
          "xanchor": "center",
          "xref": "paper",
          "y": 1,
          "yanchor": "bottom",
          "yref": "paper"
         },
         {
          "font": {
           "size": 16
          },
          "showarrow": false,
          "text": "Artist Followers vs Genre Diversity",
          "x": 0.22,
          "xanchor": "center",
          "xref": "paper",
          "y": 0.425,
          "yanchor": "bottom",
          "yref": "paper"
         },
         {
          "font": {
           "size": 16
          },
          "showarrow": false,
          "text": "Track Age vs Genre Diversity",
          "x": 0.78,
          "xanchor": "center",
          "xref": "paper",
          "y": 0.425,
          "yanchor": "bottom",
          "yref": "paper"
         }
        ],
        "font": {
         "size": 12
        },
        "height": 1000,
        "margin": {
         "b": 80,
         "l": 80,
         "r": 80,
         "t": 120
        },
        "template": {
         "data": {
          "bar": [
           {
            "error_x": {
             "color": "#2a3f5f"
            },
            "error_y": {
             "color": "#2a3f5f"
            },
            "marker": {
             "line": {
              "color": "#E5ECF6",
              "width": 0.5
             },
             "pattern": {
              "fillmode": "overlay",
              "size": 10,
              "solidity": 0.2
             }
            },
            "type": "bar"
           }
          ],
          "barpolar": [
           {
            "marker": {
             "line": {
              "color": "#E5ECF6",
              "width": 0.5
             },
             "pattern": {
              "fillmode": "overlay",
              "size": 10,
              "solidity": 0.2
             }
            },
            "type": "barpolar"
           }
          ],
          "carpet": [
           {
            "aaxis": {
             "endlinecolor": "#2a3f5f",
             "gridcolor": "white",
             "linecolor": "white",
             "minorgridcolor": "white",
             "startlinecolor": "#2a3f5f"
            },
            "baxis": {
             "endlinecolor": "#2a3f5f",
             "gridcolor": "white",
             "linecolor": "white",
             "minorgridcolor": "white",
             "startlinecolor": "#2a3f5f"
            },
            "type": "carpet"
           }
          ],
          "choropleth": [
           {
            "colorbar": {
             "outlinewidth": 0,
             "ticks": ""
            },
            "type": "choropleth"
           }
          ],
          "contour": [
           {
            "colorbar": {
             "outlinewidth": 0,
             "ticks": ""
            },
            "colorscale": [
             [
              0,
              "#0d0887"
             ],
             [
              0.1111111111111111,
              "#46039f"
             ],
             [
              0.2222222222222222,
              "#7201a8"
             ],
             [
              0.3333333333333333,
              "#9c179e"
             ],
             [
              0.4444444444444444,
              "#bd3786"
             ],
             [
              0.5555555555555556,
              "#d8576b"
             ],
             [
              0.6666666666666666,
              "#ed7953"
             ],
             [
              0.7777777777777778,
              "#fb9f3a"
             ],
             [
              0.8888888888888888,
              "#fdca26"
             ],
             [
              1,
              "#f0f921"
             ]
            ],
            "type": "contour"
           }
          ],
          "contourcarpet": [
           {
            "colorbar": {
             "outlinewidth": 0,
             "ticks": ""
            },
            "type": "contourcarpet"
           }
          ],
          "heatmap": [
           {
            "colorbar": {
             "outlinewidth": 0,
             "ticks": ""
            },
            "colorscale": [
             [
              0,
              "#0d0887"
             ],
             [
              0.1111111111111111,
              "#46039f"
             ],
             [
              0.2222222222222222,
              "#7201a8"
             ],
             [
              0.3333333333333333,
              "#9c179e"
             ],
             [
              0.4444444444444444,
              "#bd3786"
             ],
             [
              0.5555555555555556,
              "#d8576b"
             ],
             [
              0.6666666666666666,
              "#ed7953"
             ],
             [
              0.7777777777777778,
              "#fb9f3a"
             ],
             [
              0.8888888888888888,
              "#fdca26"
             ],
             [
              1,
              "#f0f921"
             ]
            ],
            "type": "heatmap"
           }
          ],
          "histogram": [
           {
            "marker": {
             "pattern": {
              "fillmode": "overlay",
              "size": 10,
              "solidity": 0.2
             }
            },
            "type": "histogram"
           }
          ],
          "histogram2d": [
           {
            "colorbar": {
             "outlinewidth": 0,
             "ticks": ""
            },
            "colorscale": [
             [
              0,
              "#0d0887"
             ],
             [
              0.1111111111111111,
              "#46039f"
             ],
             [
              0.2222222222222222,
              "#7201a8"
             ],
             [
              0.3333333333333333,
              "#9c179e"
             ],
             [
              0.4444444444444444,
              "#bd3786"
             ],
             [
              0.5555555555555556,
              "#d8576b"
             ],
             [
              0.6666666666666666,
              "#ed7953"
             ],
             [
              0.7777777777777778,
              "#fb9f3a"
             ],
             [
              0.8888888888888888,
              "#fdca26"
             ],
             [
              1,
              "#f0f921"
             ]
            ],
            "type": "histogram2d"
           }
          ],
          "histogram2dcontour": [
           {
            "colorbar": {
             "outlinewidth": 0,
             "ticks": ""
            },
            "colorscale": [
             [
              0,
              "#0d0887"
             ],
             [
              0.1111111111111111,
              "#46039f"
             ],
             [
              0.2222222222222222,
              "#7201a8"
             ],
             [
              0.3333333333333333,
              "#9c179e"
             ],
             [
              0.4444444444444444,
              "#bd3786"
             ],
             [
              0.5555555555555556,
              "#d8576b"
             ],
             [
              0.6666666666666666,
              "#ed7953"
             ],
             [
              0.7777777777777778,
              "#fb9f3a"
             ],
             [
              0.8888888888888888,
              "#fdca26"
             ],
             [
              1,
              "#f0f921"
             ]
            ],
            "type": "histogram2dcontour"
           }
          ],
          "mesh3d": [
           {
            "colorbar": {
             "outlinewidth": 0,
             "ticks": ""
            },
            "type": "mesh3d"
           }
          ],
          "parcoords": [
           {
            "line": {
             "colorbar": {
              "outlinewidth": 0,
              "ticks": ""
             }
            },
            "type": "parcoords"
           }
          ],
          "pie": [
           {
            "automargin": true,
            "type": "pie"
           }
          ],
          "scatter": [
           {
            "fillpattern": {
             "fillmode": "overlay",
             "size": 10,
             "solidity": 0.2
            },
            "type": "scatter"
           }
          ],
          "scatter3d": [
           {
            "line": {
             "colorbar": {
              "outlinewidth": 0,
              "ticks": ""
             }
            },
            "marker": {
             "colorbar": {
              "outlinewidth": 0,
              "ticks": ""
             }
            },
            "type": "scatter3d"
           }
          ],
          "scattercarpet": [
           {
            "marker": {
             "colorbar": {
              "outlinewidth": 0,
              "ticks": ""
             }
            },
            "type": "scattercarpet"
           }
          ],
          "scattergeo": [
           {
            "marker": {
             "colorbar": {
              "outlinewidth": 0,
              "ticks": ""
             }
            },
            "type": "scattergeo"
           }
          ],
          "scattergl": [
           {
            "marker": {
             "colorbar": {
              "outlinewidth": 0,
              "ticks": ""
             }
            },
            "type": "scattergl"
           }
          ],
          "scattermap": [
           {
            "marker": {
             "colorbar": {
              "outlinewidth": 0,
              "ticks": ""
             }
            },
            "type": "scattermap"
           }
          ],
          "scattermapbox": [
           {
            "marker": {
             "colorbar": {
              "outlinewidth": 0,
              "ticks": ""
             }
            },
            "type": "scattermapbox"
           }
          ],
          "scatterpolar": [
           {
            "marker": {
             "colorbar": {
              "outlinewidth": 0,
              "ticks": ""
             }
            },
            "type": "scatterpolar"
           }
          ],
          "scatterpolargl": [
           {
            "marker": {
             "colorbar": {
              "outlinewidth": 0,
              "ticks": ""
             }
            },
            "type": "scatterpolargl"
           }
          ],
          "scatterternary": [
           {
            "marker": {
             "colorbar": {
              "outlinewidth": 0,
              "ticks": ""
             }
            },
            "type": "scatterternary"
           }
          ],
          "surface": [
           {
            "colorbar": {
             "outlinewidth": 0,
             "ticks": ""
            },
            "colorscale": [
             [
              0,
              "#0d0887"
             ],
             [
              0.1111111111111111,
              "#46039f"
             ],
             [
              0.2222222222222222,
              "#7201a8"
             ],
             [
              0.3333333333333333,
              "#9c179e"
             ],
             [
              0.4444444444444444,
              "#bd3786"
             ],
             [
              0.5555555555555556,
              "#d8576b"
             ],
             [
              0.6666666666666666,
              "#ed7953"
             ],
             [
              0.7777777777777778,
              "#fb9f3a"
             ],
             [
              0.8888888888888888,
              "#fdca26"
             ],
             [
              1,
              "#f0f921"
             ]
            ],
            "type": "surface"
           }
          ],
          "table": [
           {
            "cells": {
             "fill": {
              "color": "#EBF0F8"
             },
             "line": {
              "color": "white"
             }
            },
            "header": {
             "fill": {
              "color": "#C8D4E3"
             },
             "line": {
              "color": "white"
             }
            },
            "type": "table"
           }
          ]
         },
         "layout": {
          "annotationdefaults": {
           "arrowcolor": "#2a3f5f",
           "arrowhead": 0,
           "arrowwidth": 1
          },
          "autotypenumbers": "strict",
          "coloraxis": {
           "colorbar": {
            "outlinewidth": 0,
            "ticks": ""
           }
          },
          "colorscale": {
           "diverging": [
            [
             0,
             "#8e0152"
            ],
            [
             0.1,
             "#c51b7d"
            ],
            [
             0.2,
             "#de77ae"
            ],
            [
             0.3,
             "#f1b6da"
            ],
            [
             0.4,
             "#fde0ef"
            ],
            [
             0.5,
             "#f7f7f7"
            ],
            [
             0.6,
             "#e6f5d0"
            ],
            [
             0.7,
             "#b8e186"
            ],
            [
             0.8,
             "#7fbc41"
            ],
            [
             0.9,
             "#4d9221"
            ],
            [
             1,
             "#276419"
            ]
           ],
           "sequential": [
            [
             0,
             "#0d0887"
            ],
            [
             0.1111111111111111,
             "#46039f"
            ],
            [
             0.2222222222222222,
             "#7201a8"
            ],
            [
             0.3333333333333333,
             "#9c179e"
            ],
            [
             0.4444444444444444,
             "#bd3786"
            ],
            [
             0.5555555555555556,
             "#d8576b"
            ],
            [
             0.6666666666666666,
             "#ed7953"
            ],
            [
             0.7777777777777778,
             "#fb9f3a"
            ],
            [
             0.8888888888888888,
             "#fdca26"
            ],
            [
             1,
             "#f0f921"
            ]
           ],
           "sequentialminus": [
            [
             0,
             "#0d0887"
            ],
            [
             0.1111111111111111,
             "#46039f"
            ],
            [
             0.2222222222222222,
             "#7201a8"
            ],
            [
             0.3333333333333333,
             "#9c179e"
            ],
            [
             0.4444444444444444,
             "#bd3786"
            ],
            [
             0.5555555555555556,
             "#d8576b"
            ],
            [
             0.6666666666666666,
             "#ed7953"
            ],
            [
             0.7777777777777778,
             "#fb9f3a"
            ],
            [
             0.8888888888888888,
             "#fdca26"
            ],
            [
             1,
             "#f0f921"
            ]
           ]
          },
          "colorway": [
           "#636efa",
           "#EF553B",
           "#00cc96",
           "#ab63fa",
           "#FFA15A",
           "#19d3f3",
           "#FF6692",
           "#B6E880",
           "#FF97FF",
           "#FECB52"
          ],
          "font": {
           "color": "#2a3f5f"
          },
          "geo": {
           "bgcolor": "white",
           "lakecolor": "white",
           "landcolor": "#E5ECF6",
           "showlakes": true,
           "showland": true,
           "subunitcolor": "white"
          },
          "hoverlabel": {
           "align": "left"
          },
          "hovermode": "closest",
          "mapbox": {
           "style": "light"
          },
          "paper_bgcolor": "white",
          "plot_bgcolor": "#E5ECF6",
          "polar": {
           "angularaxis": {
            "gridcolor": "white",
            "linecolor": "white",
            "ticks": ""
           },
           "bgcolor": "#E5ECF6",
           "radialaxis": {
            "gridcolor": "white",
            "linecolor": "white",
            "ticks": ""
           }
          },
          "scene": {
           "xaxis": {
            "backgroundcolor": "#E5ECF6",
            "gridcolor": "white",
            "gridwidth": 2,
            "linecolor": "white",
            "showbackground": true,
            "ticks": "",
            "zerolinecolor": "white"
           },
           "yaxis": {
            "backgroundcolor": "#E5ECF6",
            "gridcolor": "white",
            "gridwidth": 2,
            "linecolor": "white",
            "showbackground": true,
            "ticks": "",
            "zerolinecolor": "white"
           },
           "zaxis": {
            "backgroundcolor": "#E5ECF6",
            "gridcolor": "white",
            "gridwidth": 2,
            "linecolor": "white",
            "showbackground": true,
            "ticks": "",
            "zerolinecolor": "white"
           }
          },
          "shapedefaults": {
           "line": {
            "color": "#2a3f5f"
           }
          },
          "ternary": {
           "aaxis": {
            "gridcolor": "white",
            "linecolor": "white",
            "ticks": ""
           },
           "baxis": {
            "gridcolor": "white",
            "linecolor": "white",
            "ticks": ""
           },
           "bgcolor": "#E5ECF6",
           "caxis": {
            "gridcolor": "white",
            "linecolor": "white",
            "ticks": ""
           }
          },
          "title": {
           "x": 0.05
          },
          "xaxis": {
           "automargin": true,
           "gridcolor": "white",
           "linecolor": "white",
           "ticks": "",
           "title": {
            "standoff": 15
           },
           "zerolinecolor": "white",
           "zerolinewidth": 2
          },
          "yaxis": {
           "automargin": true,
           "gridcolor": "white",
           "linecolor": "white",
           "ticks": "",
           "title": {
            "standoff": 15
           },
           "zerolinecolor": "white",
           "zerolinewidth": 2
          }
         }
        },
        "title": {
         "font": {
          "size": 18
         },
         "text": "Musical Characteristics Matrix<br><sub>Exploring Relationships Between Popularity and Diversity</sub>",
         "x": 0.5
        },
        "width": 1200,
        "xaxis": {
         "anchor": "y",
         "domain": [
          0,
          0.44
         ],
         "title": {
          "font": {
           "size": 14
          },
          "text": "Artist Popularity"
         }
        },
        "xaxis2": {
         "anchor": "y2",
         "domain": [
          0.56,
          1
         ],
         "title": {
          "font": {
           "size": 14
          },
          "text": "Track Popularity"
         }
        },
        "xaxis3": {
         "anchor": "y3",
         "domain": [
          0,
          0.44
         ],
         "title": {
          "font": {
           "size": 14
          },
          "text": "Log(Artist Followers)"
         }
        },
        "xaxis4": {
         "anchor": "y4",
         "domain": [
          0.56,
          1
         ],
         "title": {
          "font": {
           "size": 14
          },
          "text": "Average Track Age (Years)"
         }
        },
        "yaxis": {
         "anchor": "x",
         "domain": [
          0.575,
          1
         ],
         "title": {
          "font": {
           "size": 14
          },
          "text": "Genre Diversity"
         }
        },
        "yaxis2": {
         "anchor": "x2",
         "domain": [
          0.575,
          1
         ],
         "title": {
          "font": {
           "size": 14
          },
          "text": "Genre Diversity"
         }
        },
        "yaxis3": {
         "anchor": "x3",
         "domain": [
          0,
          0.425
         ],
         "title": {
          "font": {
           "size": 14
          },
          "text": "Genre Diversity"
         }
        },
        "yaxis4": {
         "anchor": "x4",
         "domain": [
          0,
          0.425
         ],
         "title": {
          "font": {
           "size": 14
          },
          "text": "Genre Diversity"
         }
        }
       }
      },
      "text/html": [
       "<div>            <script src=\"https://cdnjs.cloudflare.com/ajax/libs/mathjax/2.7.5/MathJax.js?config=TeX-AMS-MML_SVG\"></script><script type=\"text/javascript\">if (window.MathJax && window.MathJax.Hub && window.MathJax.Hub.Config) {window.MathJax.Hub.Config({SVG: {font: \"STIX-Web\"}});}</script>                <script type=\"text/javascript\">window.PlotlyConfig = {MathJaxConfig: 'local'};</script>\n",
       "        <script charset=\"utf-8\" src=\"https://cdn.plot.ly/plotly-3.0.1.min.js\" integrity=\"sha256-oy6Be7Eh6eiQFs5M7oXuPxxm9qbJXEtTpfSI93dW16Q=\" crossorigin=\"anonymous\"></script>                <div id=\"494d1eb3-e0a6-4079-99cb-85a9efe18588\" class=\"plotly-graph-div\" style=\"height:1000px; width:1200px;\"></div>            <script type=\"text/javascript\">                window.PLOTLYENV=window.PLOTLYENV || {};                                if (document.getElementById(\"494d1eb3-e0a6-4079-99cb-85a9efe18588\")) {                    Plotly.newPlot(                        \"494d1eb3-e0a6-4079-99cb-85a9efe18588\",                        [{\"marker\":{\"color\":[\"rgb(141,211,199)\",\"rgb(255,255,179)\",\"rgb(190,186,218)\",\"rgb(251,128,114)\",\"rgb(128,177,211)\",\"rgb(253,180,98)\",\"rgb(179,222,105)\",\"rgb(252,205,229)\"],\"line\":{\"color\":\"white\",\"width\":2},\"size\":12},\"mode\":\"markers+text\",\"name\":\"Artist Popularity\",\"showlegend\":false,\"text\":[\"Nashville\",\"Los Angeles\",\"Chicago\",\"Miami\",\"New York\",\"Seattle\",\"Austin\",\"Atlanta\"],\"textfont\":{\"color\":\"black\",\"size\":11},\"textposition\":\"top center\",\"x\":{\"dtype\":\"f8\",\"bdata\":\"bEJQ9r6mUkAS83aGxPxPQAAAAAAAQExAKBeibgYtUkBG2rECYYRTQFAuRN0M2lBAuuiiiy6aUkC4tTdWf2BQQA==\"},\"y\":{\"dtype\":\"f8\",\"bdata\":\"AAAAAAAAMEAAAAAAAEBbQAAAAAAAAEhAAAAAAAAASEAAAAAAAAA6QAAAAAAAAEJAAAAAAAAANkAAAAAAAAAzQA==\"},\"type\":\"scatter\",\"xaxis\":\"x\",\"yaxis\":\"y\"},{\"marker\":{\"color\":[\"rgb(141,211,199)\",\"rgb(255,255,179)\",\"rgb(190,186,218)\",\"rgb(251,128,114)\",\"rgb(128,177,211)\",\"rgb(253,180,98)\",\"rgb(179,222,105)\",\"rgb(252,205,229)\"],\"line\":{\"color\":\"white\",\"width\":2},\"size\":15},\"mode\":\"markers+text\",\"name\":\"Track Popularity\",\"showlegend\":false,\"text\":[\"Nashville\",\"Los Angeles\",\"Chicago\",\"Miami\",\"New York\",\"Seattle\",\"Austin\",\"Atlanta\"],\"textfont\":{\"color\":\"black\",\"size\":11},\"textposition\":\"top center\",\"x\":{\"dtype\":\"f8\",\"bdata\":\"3OmPWMCdS0Blk0022aRCQM3MzMzMzDpAYKN3RebLUEDwuSVO\\u002fR5SQKqkgISfXEJAH3zwwQdfUUBtLh1qsLtHQA==\"},\"y\":{\"dtype\":\"f8\",\"bdata\":\"AAAAAAAAMEAAAAAAAEBbQAAAAAAAAEhAAAAAAAAASEAAAAAAAAA6QAAAAAAAAEJAAAAAAAAANkAAAAAAAAAzQA==\"},\"type\":\"scatter\",\"xaxis\":\"x2\",\"yaxis\":\"y2\"},{\"marker\":{\"color\":[\"rgb(141,211,199)\",\"rgb(255,255,179)\",\"rgb(190,186,218)\",\"rgb(251,128,114)\",\"rgb(128,177,211)\",\"rgb(253,180,98)\",\"rgb(179,222,105)\",\"rgb(252,205,229)\"],\"line\":{\"color\":\"white\",\"width\":2},\"size\":15},\"mode\":\"markers+text\",\"name\":\"Artist Followers\",\"showlegend\":false,\"text\":[\"Nashville\",\"Los Angeles\",\"Chicago\",\"Miami\",\"New York\",\"Seattle\",\"Austin\",\"Atlanta\"],\"textfont\":{\"color\":\"black\",\"size\":11},\"textposition\":\"top center\",\"x\":{\"dtype\":\"f8\",\"bdata\":\"XqiGxSyPGkBXb14qkgQbQO68vyr96hlAE5CMu4+iHEBqb\\u002fyOMhceQCYKfxLCgxpAM2OjWLkeG0Cms\\u002fjo+mEaQA==\"},\"y\":{\"dtype\":\"f8\",\"bdata\":\"AAAAAAAAMEAAAAAAAEBbQAAAAAAAAEhAAAAAAAAASEAAAAAAAAA6QAAAAAAAAEJAAAAAAAAANkAAAAAAAAAzQA==\"},\"type\":\"scatter\",\"xaxis\":\"x3\",\"yaxis\":\"y3\"},{\"marker\":{\"color\":[\"rgb(141,211,199)\",\"rgb(255,255,179)\",\"rgb(190,186,218)\",\"rgb(251,128,114)\",\"rgb(128,177,211)\",\"rgb(253,180,98)\",\"rgb(179,222,105)\",\"rgb(252,205,229)\"],\"line\":{\"color\":\"white\",\"width\":2},\"size\":15},\"mode\":\"markers+text\",\"name\":\"Track Age\",\"showlegend\":false,\"text\":[\"Nashville\",\"Los Angeles\",\"Chicago\",\"Miami\",\"New York\",\"Seattle\",\"Austin\",\"Atlanta\"],\"textfont\":{\"color\":\"black\",\"size\":11},\"textposition\":\"top center\",\"x\":{\"dtype\":\"f8\",\"bdata\":\"8lk3mCKfHUCghDeaOj86QFVVVVVVVSZAREREREREIEBbsAVbsAUnQGvfsPYNaz1AAAAAAAAQF0DaOvSbrUMtQA==\"},\"y\":{\"dtype\":\"f8\",\"bdata\":\"AAAAAAAAMEAAAAAAAEBbQAAAAAAAAEhAAAAAAAAASEAAAAAAAAA6QAAAAAAAAEJAAAAAAAAANkAAAAAAAAAzQA==\"},\"type\":\"scatter\",\"xaxis\":\"x4\",\"yaxis\":\"y4\"}],                        {\"template\":{\"data\":{\"histogram2dcontour\":[{\"type\":\"histogram2dcontour\",\"colorbar\":{\"outlinewidth\":0,\"ticks\":\"\"},\"colorscale\":[[0.0,\"#0d0887\"],[0.1111111111111111,\"#46039f\"],[0.2222222222222222,\"#7201a8\"],[0.3333333333333333,\"#9c179e\"],[0.4444444444444444,\"#bd3786\"],[0.5555555555555556,\"#d8576b\"],[0.6666666666666666,\"#ed7953\"],[0.7777777777777778,\"#fb9f3a\"],[0.8888888888888888,\"#fdca26\"],[1.0,\"#f0f921\"]]}],\"choropleth\":[{\"type\":\"choropleth\",\"colorbar\":{\"outlinewidth\":0,\"ticks\":\"\"}}],\"histogram2d\":[{\"type\":\"histogram2d\",\"colorbar\":{\"outlinewidth\":0,\"ticks\":\"\"},\"colorscale\":[[0.0,\"#0d0887\"],[0.1111111111111111,\"#46039f\"],[0.2222222222222222,\"#7201a8\"],[0.3333333333333333,\"#9c179e\"],[0.4444444444444444,\"#bd3786\"],[0.5555555555555556,\"#d8576b\"],[0.6666666666666666,\"#ed7953\"],[0.7777777777777778,\"#fb9f3a\"],[0.8888888888888888,\"#fdca26\"],[1.0,\"#f0f921\"]]}],\"heatmap\":[{\"type\":\"heatmap\",\"colorbar\":{\"outlinewidth\":0,\"ticks\":\"\"},\"colorscale\":[[0.0,\"#0d0887\"],[0.1111111111111111,\"#46039f\"],[0.2222222222222222,\"#7201a8\"],[0.3333333333333333,\"#9c179e\"],[0.4444444444444444,\"#bd3786\"],[0.5555555555555556,\"#d8576b\"],[0.6666666666666666,\"#ed7953\"],[0.7777777777777778,\"#fb9f3a\"],[0.8888888888888888,\"#fdca26\"],[1.0,\"#f0f921\"]]}],\"contourcarpet\":[{\"type\":\"contourcarpet\",\"colorbar\":{\"outlinewidth\":0,\"ticks\":\"\"}}],\"contour\":[{\"type\":\"contour\",\"colorbar\":{\"outlinewidth\":0,\"ticks\":\"\"},\"colorscale\":[[0.0,\"#0d0887\"],[0.1111111111111111,\"#46039f\"],[0.2222222222222222,\"#7201a8\"],[0.3333333333333333,\"#9c179e\"],[0.4444444444444444,\"#bd3786\"],[0.5555555555555556,\"#d8576b\"],[0.6666666666666666,\"#ed7953\"],[0.7777777777777778,\"#fb9f3a\"],[0.8888888888888888,\"#fdca26\"],[1.0,\"#f0f921\"]]}],\"surface\":[{\"type\":\"surface\",\"colorbar\":{\"outlinewidth\":0,\"ticks\":\"\"},\"colorscale\":[[0.0,\"#0d0887\"],[0.1111111111111111,\"#46039f\"],[0.2222222222222222,\"#7201a8\"],[0.3333333333333333,\"#9c179e\"],[0.4444444444444444,\"#bd3786\"],[0.5555555555555556,\"#d8576b\"],[0.6666666666666666,\"#ed7953\"],[0.7777777777777778,\"#fb9f3a\"],[0.8888888888888888,\"#fdca26\"],[1.0,\"#f0f921\"]]}],\"mesh3d\":[{\"type\":\"mesh3d\",\"colorbar\":{\"outlinewidth\":0,\"ticks\":\"\"}}],\"scatter\":[{\"fillpattern\":{\"fillmode\":\"overlay\",\"size\":10,\"solidity\":0.2},\"type\":\"scatter\"}],\"parcoords\":[{\"type\":\"parcoords\",\"line\":{\"colorbar\":{\"outlinewidth\":0,\"ticks\":\"\"}}}],\"scatterpolargl\":[{\"type\":\"scatterpolargl\",\"marker\":{\"colorbar\":{\"outlinewidth\":0,\"ticks\":\"\"}}}],\"bar\":[{\"error_x\":{\"color\":\"#2a3f5f\"},\"error_y\":{\"color\":\"#2a3f5f\"},\"marker\":{\"line\":{\"color\":\"#E5ECF6\",\"width\":0.5},\"pattern\":{\"fillmode\":\"overlay\",\"size\":10,\"solidity\":0.2}},\"type\":\"bar\"}],\"scattergeo\":[{\"type\":\"scattergeo\",\"marker\":{\"colorbar\":{\"outlinewidth\":0,\"ticks\":\"\"}}}],\"scatterpolar\":[{\"type\":\"scatterpolar\",\"marker\":{\"colorbar\":{\"outlinewidth\":0,\"ticks\":\"\"}}}],\"histogram\":[{\"marker\":{\"pattern\":{\"fillmode\":\"overlay\",\"size\":10,\"solidity\":0.2}},\"type\":\"histogram\"}],\"scattergl\":[{\"type\":\"scattergl\",\"marker\":{\"colorbar\":{\"outlinewidth\":0,\"ticks\":\"\"}}}],\"scatter3d\":[{\"type\":\"scatter3d\",\"line\":{\"colorbar\":{\"outlinewidth\":0,\"ticks\":\"\"}},\"marker\":{\"colorbar\":{\"outlinewidth\":0,\"ticks\":\"\"}}}],\"scattermap\":[{\"type\":\"scattermap\",\"marker\":{\"colorbar\":{\"outlinewidth\":0,\"ticks\":\"\"}}}],\"scattermapbox\":[{\"type\":\"scattermapbox\",\"marker\":{\"colorbar\":{\"outlinewidth\":0,\"ticks\":\"\"}}}],\"scatterternary\":[{\"type\":\"scatterternary\",\"marker\":{\"colorbar\":{\"outlinewidth\":0,\"ticks\":\"\"}}}],\"scattercarpet\":[{\"type\":\"scattercarpet\",\"marker\":{\"colorbar\":{\"outlinewidth\":0,\"ticks\":\"\"}}}],\"carpet\":[{\"aaxis\":{\"endlinecolor\":\"#2a3f5f\",\"gridcolor\":\"white\",\"linecolor\":\"white\",\"minorgridcolor\":\"white\",\"startlinecolor\":\"#2a3f5f\"},\"baxis\":{\"endlinecolor\":\"#2a3f5f\",\"gridcolor\":\"white\",\"linecolor\":\"white\",\"minorgridcolor\":\"white\",\"startlinecolor\":\"#2a3f5f\"},\"type\":\"carpet\"}],\"table\":[{\"cells\":{\"fill\":{\"color\":\"#EBF0F8\"},\"line\":{\"color\":\"white\"}},\"header\":{\"fill\":{\"color\":\"#C8D4E3\"},\"line\":{\"color\":\"white\"}},\"type\":\"table\"}],\"barpolar\":[{\"marker\":{\"line\":{\"color\":\"#E5ECF6\",\"width\":0.5},\"pattern\":{\"fillmode\":\"overlay\",\"size\":10,\"solidity\":0.2}},\"type\":\"barpolar\"}],\"pie\":[{\"automargin\":true,\"type\":\"pie\"}]},\"layout\":{\"autotypenumbers\":\"strict\",\"colorway\":[\"#636efa\",\"#EF553B\",\"#00cc96\",\"#ab63fa\",\"#FFA15A\",\"#19d3f3\",\"#FF6692\",\"#B6E880\",\"#FF97FF\",\"#FECB52\"],\"font\":{\"color\":\"#2a3f5f\"},\"hovermode\":\"closest\",\"hoverlabel\":{\"align\":\"left\"},\"paper_bgcolor\":\"white\",\"plot_bgcolor\":\"#E5ECF6\",\"polar\":{\"bgcolor\":\"#E5ECF6\",\"angularaxis\":{\"gridcolor\":\"white\",\"linecolor\":\"white\",\"ticks\":\"\"},\"radialaxis\":{\"gridcolor\":\"white\",\"linecolor\":\"white\",\"ticks\":\"\"}},\"ternary\":{\"bgcolor\":\"#E5ECF6\",\"aaxis\":{\"gridcolor\":\"white\",\"linecolor\":\"white\",\"ticks\":\"\"},\"baxis\":{\"gridcolor\":\"white\",\"linecolor\":\"white\",\"ticks\":\"\"},\"caxis\":{\"gridcolor\":\"white\",\"linecolor\":\"white\",\"ticks\":\"\"}},\"coloraxis\":{\"colorbar\":{\"outlinewidth\":0,\"ticks\":\"\"}},\"colorscale\":{\"sequential\":[[0.0,\"#0d0887\"],[0.1111111111111111,\"#46039f\"],[0.2222222222222222,\"#7201a8\"],[0.3333333333333333,\"#9c179e\"],[0.4444444444444444,\"#bd3786\"],[0.5555555555555556,\"#d8576b\"],[0.6666666666666666,\"#ed7953\"],[0.7777777777777778,\"#fb9f3a\"],[0.8888888888888888,\"#fdca26\"],[1.0,\"#f0f921\"]],\"sequentialminus\":[[0.0,\"#0d0887\"],[0.1111111111111111,\"#46039f\"],[0.2222222222222222,\"#7201a8\"],[0.3333333333333333,\"#9c179e\"],[0.4444444444444444,\"#bd3786\"],[0.5555555555555556,\"#d8576b\"],[0.6666666666666666,\"#ed7953\"],[0.7777777777777778,\"#fb9f3a\"],[0.8888888888888888,\"#fdca26\"],[1.0,\"#f0f921\"]],\"diverging\":[[0,\"#8e0152\"],[0.1,\"#c51b7d\"],[0.2,\"#de77ae\"],[0.3,\"#f1b6da\"],[0.4,\"#fde0ef\"],[0.5,\"#f7f7f7\"],[0.6,\"#e6f5d0\"],[0.7,\"#b8e186\"],[0.8,\"#7fbc41\"],[0.9,\"#4d9221\"],[1,\"#276419\"]]},\"xaxis\":{\"gridcolor\":\"white\",\"linecolor\":\"white\",\"ticks\":\"\",\"title\":{\"standoff\":15},\"zerolinecolor\":\"white\",\"automargin\":true,\"zerolinewidth\":2},\"yaxis\":{\"gridcolor\":\"white\",\"linecolor\":\"white\",\"ticks\":\"\",\"title\":{\"standoff\":15},\"zerolinecolor\":\"white\",\"automargin\":true,\"zerolinewidth\":2},\"scene\":{\"xaxis\":{\"backgroundcolor\":\"#E5ECF6\",\"gridcolor\":\"white\",\"linecolor\":\"white\",\"showbackground\":true,\"ticks\":\"\",\"zerolinecolor\":\"white\",\"gridwidth\":2},\"yaxis\":{\"backgroundcolor\":\"#E5ECF6\",\"gridcolor\":\"white\",\"linecolor\":\"white\",\"showbackground\":true,\"ticks\":\"\",\"zerolinecolor\":\"white\",\"gridwidth\":2},\"zaxis\":{\"backgroundcolor\":\"#E5ECF6\",\"gridcolor\":\"white\",\"linecolor\":\"white\",\"showbackground\":true,\"ticks\":\"\",\"zerolinecolor\":\"white\",\"gridwidth\":2}},\"shapedefaults\":{\"line\":{\"color\":\"#2a3f5f\"}},\"annotationdefaults\":{\"arrowcolor\":\"#2a3f5f\",\"arrowhead\":0,\"arrowwidth\":1},\"geo\":{\"bgcolor\":\"white\",\"landcolor\":\"#E5ECF6\",\"subunitcolor\":\"white\",\"showland\":true,\"showlakes\":true,\"lakecolor\":\"white\"},\"title\":{\"x\":0.05},\"mapbox\":{\"style\":\"light\"}}},\"xaxis\":{\"anchor\":\"y\",\"domain\":[0.0,0.44],\"title\":{\"font\":{\"size\":14},\"text\":\"Artist Popularity\"}},\"yaxis\":{\"anchor\":\"x\",\"domain\":[0.575,1.0],\"title\":{\"font\":{\"size\":14},\"text\":\"Genre Diversity\"}},\"xaxis2\":{\"anchor\":\"y2\",\"domain\":[0.56,1.0],\"title\":{\"font\":{\"size\":14},\"text\":\"Track Popularity\"}},\"yaxis2\":{\"anchor\":\"x2\",\"domain\":[0.575,1.0],\"title\":{\"font\":{\"size\":14},\"text\":\"Genre Diversity\"}},\"xaxis3\":{\"anchor\":\"y3\",\"domain\":[0.0,0.44],\"title\":{\"font\":{\"size\":14},\"text\":\"Log(Artist Followers)\"}},\"yaxis3\":{\"anchor\":\"x3\",\"domain\":[0.0,0.425],\"title\":{\"font\":{\"size\":14},\"text\":\"Genre Diversity\"}},\"xaxis4\":{\"anchor\":\"y4\",\"domain\":[0.56,1.0],\"title\":{\"font\":{\"size\":14},\"text\":\"Average Track Age (Years)\"}},\"yaxis4\":{\"anchor\":\"x4\",\"domain\":[0.0,0.425],\"title\":{\"font\":{\"size\":14},\"text\":\"Genre Diversity\"}},\"annotations\":[{\"font\":{\"size\":16},\"showarrow\":false,\"text\":\"Artist Popularity vs Genre Diversity\",\"x\":0.22,\"xanchor\":\"center\",\"xref\":\"paper\",\"y\":1.0,\"yanchor\":\"bottom\",\"yref\":\"paper\"},{\"font\":{\"size\":16},\"showarrow\":false,\"text\":\"Track Popularity vs Genre Diversity\",\"x\":0.78,\"xanchor\":\"center\",\"xref\":\"paper\",\"y\":1.0,\"yanchor\":\"bottom\",\"yref\":\"paper\"},{\"font\":{\"size\":16},\"showarrow\":false,\"text\":\"Artist Followers vs Genre Diversity\",\"x\":0.22,\"xanchor\":\"center\",\"xref\":\"paper\",\"y\":0.425,\"yanchor\":\"bottom\",\"yref\":\"paper\"},{\"font\":{\"size\":16},\"showarrow\":false,\"text\":\"Track Age vs Genre Diversity\",\"x\":0.78,\"xanchor\":\"center\",\"xref\":\"paper\",\"y\":0.425,\"yanchor\":\"bottom\",\"yref\":\"paper\"}],\"title\":{\"font\":{\"size\":18},\"text\":\"Musical Characteristics Matrix\\u003cbr\\u003e\\u003csub\\u003eExploring Relationships Between Popularity and Diversity\\u003c\\u002fsub\\u003e\",\"x\":0.5},\"font\":{\"size\":12},\"margin\":{\"l\":80,\"r\":80,\"t\":120,\"b\":80},\"height\":1000,\"width\":1200},                        {\"responsive\": true}                    ).then(function(){\n",
       "                            \n",
       "var gd = document.getElementById('494d1eb3-e0a6-4079-99cb-85a9efe18588');\n",
       "var x = new MutationObserver(function (mutations, observer) {{\n",
       "        var display = window.getComputedStyle(gd).display;\n",
       "        if (!display || display === 'none') {{\n",
       "            console.log([gd, 'removed!']);\n",
       "            Plotly.purge(gd);\n",
       "            observer.disconnect();\n",
       "        }}\n",
       "}});\n",
       "\n",
       "// Listen for the removal of the full notebook cells\n",
       "var notebookContainer = gd.closest('#notebook-container');\n",
       "if (notebookContainer) {{\n",
       "    x.observe(notebookContainer, {childList: true});\n",
       "}}\n",
       "\n",
       "// Listen for the clearing of the current output cell\n",
       "var outputEl = gd.closest('.output');\n",
       "if (outputEl) {{\n",
       "    x.observe(outputEl, {childList: true});\n",
       "}}\n",
       "\n",
       "                        })                };            </script>        </div>"
      ]
     },
     "metadata": {},
     "output_type": "display_data"
    },
    {
     "name": "stdout",
     "output_type": "stream",
     "text": [
      "\n",
      "Key Insights from Matrix:\n",
      "Highest artist popularity: New York (78.1)\n",
      "Highest genre diversity: Los Angeles (109.0 genres)\n",
      "Newest music (lowest age): Austin (5.8 years)\n",
      "Most classic music: Seattle (29.4 years)\n"
     ]
    }
   ],
   "source": [
    "#popularity vs diversity matrix\n",
    "print('\\nCreating Popularity vs Diversity Matrix')\n",
    "\n",
    "matrix_fig, metrics_df = create_popularity_vs_diversity_matrix(df)\n",
    "matrix_fig.show()\n",
    "\n",
    "print('\\nKey Insights from Matrix:')\n",
    "print(f\"Highest artist popularity: {metrics_df['avg_artist_popularity'].idxmax()} ({metrics_df['avg_artist_popularity'].max():.1f})\")\n",
    "print(f\"Highest genre diversity: {metrics_df['genre_diversity'].idxmax()} ({metrics_df['genre_diversity'].max()} genres)\")\n",
    "print(f\"Newest music (lowest age): {metrics_df['avg_track_age'].idxmin()} ({metrics_df['avg_track_age'].min():.1f} years)\")\n",
    "print(f\"Most classic music: {metrics_df['avg_track_age'].idxmax()} ({metrics_df['avg_track_age'].max():.1f} years)\")"
   ]
  },
  {
   "cell_type": "code",
   "execution_count": 63,
   "id": "424775d5",
   "metadata": {},
   "outputs": [
    {
     "name": "stdout",
     "output_type": "stream",
     "text": [
      "\n",
      "Creating Summary Dashboard\n"
     ]
    },
    {
     "data": {
      "image/png": "[encoded data removed]",
      "text/plain": [
       "<Figure size 2000x1200 with 7 Axes>"
      ]
     },
     "metadata": {},
     "output_type": "display_data"
    },
    {
     "name": "stdout",
     "output_type": "stream",
     "text": [
      "\n",
      "All visualizations created successfully!\n"
     ]
    }
   ],
   "source": [
    "#create static summary viz\n",
    "print('\\nCreating Summary Dashboard')\n",
    "\n",
    "fig, axes = plt.subplots(2,3, figsize=(20,12))\n",
    "fig.suptitle('Regional Music DNA - Comprehensive Analysis Dashboard', fontsize=20, fontweight='bold')\n",
    "\n",
    "#1) Genre Diversity Bar Chart\n",
    "cities = list(genre_stats.keys())\n",
    "diversities = [genre_stats[city]['unique_genres'] for city in cities]\n",
    "colors = plt.cm.viridis(np.linspace(0.2, 0.9, len(cities)))\n",
    "\n",
    "sorted_data = sorted(zip(cities, diversities), key=lambda x: x[1], reverse=True)\n",
    "cities_sorted, diversities_sorted = zip(*sorted_data)\n",
    "\n",
    "bars = axes[0,0].bar(cities_sorted, diversities_sorted, color=colors)\n",
    "axes[0,0].set_title('Genre Diversity by City', fontsize=14, fontweight='bold')\n",
    "axes[0,0].set_ylabel('Unique Genres')\n",
    "axes[0,0].tick_params(axis='x', rotation=45)\n",
    "\n",
    "#add value labels\n",
    "for bar, value in zip(bars, diversities_sorted):\n",
    "    axes[0, 0].text(bar.get_x() + bar.get_width()/2, bar.get_height()+1,\n",
    "                    str(value), ha='center', va='bottom', fontweight='bold')\n",
    "    \n",
    "#2) artist popularity distribution\n",
    "df.boxplot(column='artist_popularity', by='city', ax=axes[0,1])\n",
    "axes[0,1].set_title('Artist Popularity Distribution')\n",
    "axes[0,1].set_xlabel('City')\n",
    "axes[0,1].set_ylabel('Artist Popularity')\n",
    "\n",
    "#3) track age vs genre diversity scatter\n",
    "axes[0,2].scatter(metrics_df['avg_track_age'], metrics_df['genre_diversity'],\n",
    "                  s=100, alpha=0.7, c=range(len(metrics_df)))\n",
    "\n",
    "for i, city in enumerate(metrics_df.index):\n",
    "    axes[0,2].annotate(city, (metrics_df.loc[city, 'avg_track_age'],\n",
    "                              metrics_df.loc[city, 'genre_diversity']),\n",
    "                       xytext=(5,5), textcoords='offset points')\n",
    "axes[0,2].set_title('Track Age vs Genre Diversity')\n",
    "axes[0,2].set_xlabel('Average Track Age (Years)')\n",
    "axes[0,2].set_ylabel('Genre Diversity')\n",
    "\n",
    "#4) music era distribution\n",
    "era_counts = df['music_era'].value_counts()\n",
    "axes[1,0].pie(era_counts.values, labels=era_counts.index, autopct='%1.1f%%')\n",
    "axes[1,0].set_title('Overall Music Era Distribution')\n",
    "\n",
    "#5) explicit content rate by city\n",
    "explicit_rates = df.groupby('city')['explicit'].mean() * 100\n",
    "explicit_rates.plot(kind='bar', ax=axes[1,1], color='orange')\n",
    "axes[1,1].set_title('Explicit Content Rate by City')\n",
    "axes[1,1].set_ylabel('% Explicit Content')\n",
    "axes[1,1].tick_params(axis='x', rotation=45)\n",
    "\n",
    "#6) city similarity heatmap\n",
    "import seaborn as sns\n",
    "sns.heatmap(similarity_df, annot=True, cmap='RdYlBu_r', center=0,\n",
    "            square=True, fmt='.2f', ax=axes[1,2])\n",
    "axes[1,2].set_title('City Musical Similarity')\n",
    "\n",
    "plt.tight_layout()\n",
    "plt.show()\n",
    "\n",
    "print('\\nAll visualizations created successfully!')"
   ]
  },
  {
   "cell_type": "code",
   "execution_count": 65,
   "id": "e933c510",
   "metadata": {},
   "outputs": [
    {
     "name": "stdout",
     "output_type": "stream",
     "text": [
      "\n",
      "KEY INSIGHTS SUMMARY\n",
      "==================================================\n",
      "Visual Analysis Insights:\n",
      "   1. Los Angeles is the most diverse (109 genres)\n",
      "   2. Nashville is the most focused (16 genres)\n",
      "   3. New York has the most popular artists\n",
      "   4. Chicago features the most underground artists\n",
      "   5. Austin has the newest music collection\n",
      "   6. Seattle preserves the most classic music\n",
      "   7. Miami and New York are most musically similar\n",
      "\n",
      "Ready for article writing and publication!\n"
     ]
    }
   ],
   "source": [
    "#generate insights summary\n",
    "print('\\nKEY INSIGHTS SUMMARY')\n",
    "print('='*50)\n",
    "\n",
    "insights=[]\n",
    "\n",
    "#genre diversity insights\n",
    "most_diverse = max(genre_stats.items(), key=lambda x: x[1]['unique_genres'])\n",
    "least_diverse = min(genre_stats.items(), key=lambda x: x[1]['unique_genres'])\n",
    "insights.append(f\"{most_diverse[0]} is the most diverse ({most_diverse[1]['unique_genres']} genres)\")\n",
    "insights.append(f\"{least_diverse[0]} is the most focused ({least_diverse[1]['unique_genres']} genres)\")\n",
    "\n",
    "#popularity insights\n",
    "highest_artist_pop = metrics_df['avg_artist_popularity'].idxmax()\n",
    "lowest_artist_pop = metrics_df['avg_artist_popularity'].idxmin()\n",
    "insights.append(f\"{highest_artist_pop} has the most popular artists\")\n",
    "insights.append(f\"{lowest_artist_pop} features the most underground artists\")\n",
    "\n",
    "#temporal insights\n",
    "newest_city = metrics_df['avg_track_age'].idxmin()\n",
    "oldest_city = metrics_df['avg_track_age'].idxmax()\n",
    "insights.append(f\"{newest_city} has the newest music collection\")\n",
    "insights.append(f\"{oldest_city} preserves the most classic music\")\n",
    "\n",
    "#similarity insights\n",
    "max_similarity_idx = np.unravel_index(np.argmax(np.triu(similarity_matrix, k=1)), similarity_matrix.shape)\n",
    "most_similar_cities = (cities[max_similarity_idx[0]], cities[max_similarity_idx[1]])\n",
    "insights.append(f\"{most_similar_cities[0]} and {most_similar_cities[1]} are most musically similar\")\n",
    "\n",
    "print(\"Visual Analysis Insights:\")\n",
    "for i, insight in enumerate(insights, 1):\n",
    "    print(f\"   {i}. {insight}\")\n",
    "\n",
    "print(f\"\\nReady for article writing and publication!\")"
   ]
  }
 ],
 "metadata": {
  "kernelspec": {
   "display_name": "regional-music-dna",
   "language": "python",
   "name": "python3"
  },
  "language_info": {
   "codemirror_mode": {
    "name": "ipython",
    "version": 3
   },
   "file_extension": ".py",
   "mimetype": "text/x-python",
   "name": "python",
   "nbconvert_exporter": "python",
   "pygments_lexer": "ipython3",
   "version": "3.9.23"
  }
 },
 "nbformat": 4,
 "nbformat_minor": 5
}
